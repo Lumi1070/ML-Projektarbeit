{
 "cells": [
  {
   "cell_type": "markdown",
   "source": [
    "## Imports"
   ],
   "metadata": {
    "collapsed": false,
    "pycharm": {
     "name": "#%% md\n"
    }
   }
  },
  {
   "cell_type": "code",
   "execution_count": 2,
   "outputs": [],
   "source": [
    "import torch\n",
    "from torch.utils.data import Dataset\n",
    "from torchvision import datasets\n",
    "from torchvision.transforms import ToTensor\n",
    "import matplotlib.pyplot as plt"
   ],
   "metadata": {
    "collapsed": false,
    "pycharm": {
     "name": "#%%\n"
    }
   }
  },
  {
   "cell_type": "markdown",
   "source": [
    "#### Loading a Dataset"
   ],
   "metadata": {
    "collapsed": false,
    "pycharm": {
     "name": "#%% md\n"
    }
   }
  },
  {
   "cell_type": "code",
   "execution_count": 3,
   "outputs": [],
   "source": [
    "training_data = datasets.FashionMNIST(\n",
    "    root=\"data\",\n",
    "    train=True,\n",
    "    download=True,\n",
    "    transform=ToTensor()\n",
    ")\n",
    "\n",
    "test_data = datasets.FashionMNIST(\n",
    "    root=\"data\",\n",
    "    train=False,\n",
    "    download=True,\n",
    "    transform=ToTensor()\n",
    ")"
   ],
   "metadata": {
    "collapsed": false,
    "pycharm": {
     "name": "#%%\n"
    }
   }
  },
  {
   "cell_type": "code",
   "execution_count": 4,
   "outputs": [
    {
     "data": {
      "text/plain": "Dataset FashionMNIST\n    Number of datapoints: 60000\n    Root location: data\n    Split: Train\n    StandardTransform\nTransform: ToTensor()"
     },
     "execution_count": 4,
     "metadata": {},
     "output_type": "execute_result"
    }
   ],
   "source": [
    "training_data"
   ],
   "metadata": {
    "collapsed": false,
    "pycharm": {
     "name": "#%%\n"
    }
   }
  },
  {
   "cell_type": "markdown",
   "source": [
    "#### Iterating and Visualizing the Dataset"
   ],
   "metadata": {
    "collapsed": false,
    "pycharm": {
     "name": "#%% md\n"
    }
   }
  },
  {
   "cell_type": "code",
   "execution_count": 63,
   "outputs": [
    {
     "data": {
      "text/plain": "<Figure size 576x576 with 9 Axes>",
      "image/png": "[encoded data removed]"
     },
     "metadata": {
      "needs_background": "light"
     },
     "output_type": "display_data"
    }
   ],
   "source": [
    "labels_map = {\n",
    "    0: \"T-Shirt\",\n",
    "    1: \"Trouser\",\n",
    "    2: \"Pullover\",\n",
    "    3: \"Dress\",\n",
    "    4: \"Coat\",\n",
    "    5: \"Sandal\",\n",
    "    6: \"Shirt\",\n",
    "    7: \"Sneaker\",\n",
    "    8: \"Bag\",\n",
    "    9: \"Ankle Boot\",\n",
    "}\n",
    "figure = plt.figure(figsize=(8, 8))\n",
    "cols, rows = 3, 3\n",
    "for i in range(1, cols * rows + 1):\n",
    "    sample_idx = torch.randint(len(training_data), size=(1,)).item()\n",
    "    img, label = training_data[sample_idx]\n",
    "    figure.add_subplot(rows, cols, i)\n",
    "    plt.title(labels_map[label])\n",
    "    plt.axis(\"off\")\n",
    "    plt.imshow(img.squeeze(), cmap=\"gray\")\n",
    "plt.show()"
   ],
   "metadata": {
    "collapsed": false,
    "pycharm": {
     "name": "#%%\n"
    }
   }
  },
  {
   "cell_type": "markdown",
   "source": [
    "#### Creating a Custom Dataset for your files"
   ],
   "metadata": {
    "collapsed": false,
    "pycharm": {
     "name": "#%% md\n"
    }
   }
  },
  {
   "cell_type": "code",
   "execution_count": 64,
   "outputs": [],
   "source": [
    "import os\n",
    "import pandas as pd\n",
    "from torchvision.io import read_image\n",
    "\n",
    "class CustomImageDataset(Dataset):\n",
    "    def __init__(self, annotations_file, img_dir, transform=None, target_transform=None):\n",
    "        self.img_labels = pd.read_csv(annotations_file)\n",
    "        self.img_dir = img_dir\n",
    "        self.transform = transform\n",
    "        self.target_transform = target_transform\n",
    "\n",
    "    def __len__(self):\n",
    "        return len(self.img_labels)\n",
    "\n",
    "    def __getitem__(self, idx):\n",
    "        img_path = os.path.join(self.img_dir, self.img_labels.iloc[idx, 0])\n",
    "        image = read_image(img_path)\n",
    "        label = self.img_labels.iloc[idx, 1]\n",
    "        if self.transform:\n",
    "            image = self.transform(image)\n",
    "        if self.target_transform:\n",
    "            label = self.target_transform(label)\n",
    "        sample = {\"image\": image, \"label\": label}\n",
    "        return sample"
   ],
   "metadata": {
    "collapsed": false,
    "pycharm": {
     "name": "#%%\n"
    }
   }
  },
  {
   "cell_type": "markdown",
   "source": [
    "#### Preparing your data for training with DataLoaders"
   ],
   "metadata": {
    "collapsed": false,
    "pycharm": {
     "name": "#%% md\n"
    }
   }
  },
  {
   "cell_type": "code",
   "execution_count": 65,
   "outputs": [],
   "source": [
    "from torch.utils.data import DataLoader\n",
    "\n",
    "train_dataloader = DataLoader(training_data, batch_size=64, shuffle=True)\n",
    "test_dataloader = DataLoader(test_data, batch_size=64, shuffle=True)"
   ],
   "metadata": {
    "collapsed": false,
    "pycharm": {
     "name": "#%%\n"
    }
   }
  },
  {
   "cell_type": "markdown",
   "source": [
    "#### Iterate through the DataLoader\n",
    "Display image and label."
   ],
   "metadata": {
    "collapsed": false,
    "pycharm": {
     "name": "#%% md\n"
    }
   }
  },
  {
   "cell_type": "code",
   "execution_count": 66,
   "outputs": [
    {
     "name": "stdout",
     "output_type": "stream",
     "text": [
      "Feature batch shape: torch.Size([64, 1, 28, 28])\n",
      "Labels batch shape: torch.Size([64])\n",
      "Label: Sandal\n"
     ]
    },
    {
     "data": {
      "text/plain": "<Figure size 432x288 with 1 Axes>",
      "image/png": "[encoded data removed]"
     },
     "metadata": {
      "needs_background": "light"
     },
     "output_type": "display_data"
    }
   ],
   "source": [
    "train_features, train_labels = next(iter(train_dataloader))\n",
    "print(f\"Feature batch shape: {train_features.size()}\")\n",
    "print(f\"Labels batch shape: {train_labels.size()}\")\n",
    "img = train_features[0].squeeze()\n",
    "label = train_labels[0]\n",
    "plt.imshow(img, cmap=\"gray\")\n",
    "plt.show()\n",
    "print(f\"Label: {labels_map[label.item()]}\")"
   ],
   "metadata": {
    "collapsed": false,
    "pycharm": {
     "name": "#%%\n"
    }
   }
  },
  {
   "cell_type": "markdown",
   "source": [
    "## Transforms"
   ],
   "metadata": {
    "collapsed": false,
    "pycharm": {
     "name": "#%% md\n"
    }
   }
  },
  {
   "cell_type": "code",
   "execution_count": 67,
   "outputs": [],
   "source": [
    "from torchvision import datasets\n",
    "from torchvision.transforms import ToTensor, Lambda\n",
    "\n",
    "ds = datasets.FashionMNIST(\n",
    "    root=\"data\",\n",
    "    train=True,\n",
    "    download=True,\n",
    "    transform=ToTensor(),\n",
    "    target_transform=Lambda(lambda y: torch.zeros(10, dtype=torch.float).scatter_(0, torch.tensor(y), value=1))\n",
    ")"
   ],
   "metadata": {
    "collapsed": false,
    "pycharm": {
     "name": "#%%\n"
    }
   }
  },
  {
   "cell_type": "markdown",
   "source": [
    "## Build the Neural Network"
   ],
   "metadata": {
    "collapsed": false,
    "pycharm": {
     "name": "#%% md\n"
    }
   }
  },
  {
   "cell_type": "code",
   "execution_count": 68,
   "outputs": [
    {
     "name": "stdout",
     "output_type": "stream",
     "text": [
      "Using cuda device\n"
     ]
    }
   ],
   "source": [
    "import os\n",
    "import torch\n",
    "from torch import nn\n",
    "from torch.utils.data import DataLoader\n",
    "from torchvision import datasets, transforms\n",
    "\n",
    "device = 'cuda' if torch.cuda.is_available() else 'cpu'\n",
    "print('Using {} device'.format(device))"
   ],
   "metadata": {
    "collapsed": false,
    "pycharm": {
     "name": "#%%\n"
    }
   }
  },
  {
   "cell_type": "markdown",
   "source": [
    "#### Define the Class"
   ],
   "metadata": {
    "collapsed": false,
    "pycharm": {
     "name": "#%% md\n"
    }
   }
  },
  {
   "cell_type": "code",
   "execution_count": 69,
   "outputs": [
    {
     "name": "stdout",
     "output_type": "stream",
     "text": [
      "NeuralNetwork(\n",
      "  (flatten): Flatten(start_dim=1, end_dim=-1)\n",
      "  (linear_relu_stack): Sequential(\n",
      "    (0): Linear(in_features=784, out_features=512, bias=True)\n",
      "    (1): ReLU()\n",
      "    (2): Linear(in_features=512, out_features=512, bias=True)\n",
      "    (3): ReLU()\n",
      "    (4): Linear(in_features=512, out_features=10, bias=True)\n",
      "    (5): ReLU()\n",
      "  )\n",
      ")\n"
     ]
    }
   ],
   "source": [
    "class NeuralNetwork(nn.Module):\n",
    "    def __init__(self):\n",
    "        super(NeuralNetwork, self).__init__()\n",
    "        self.flatten = nn.Flatten()\n",
    "        self.linear_relu_stack = nn.Sequential(\n",
    "            nn.Linear(28*28, 512),\n",
    "            nn.ReLU(),\n",
    "            nn.Linear(512, 512),\n",
    "            nn.ReLU(),\n",
    "            nn.Linear(512, 10),\n",
    "            nn.ReLU()\n",
    "        )\n",
    "\n",
    "    def forward(self, x):\n",
    "        x = self.flatten(x)\n",
    "        logits = self.linear_relu_stack(x)\n",
    "        return logits\n",
    "\n",
    "model = NeuralNetwork().to(device)\n",
    "print(model)"
   ],
   "metadata": {
    "collapsed": false,
    "pycharm": {
     "name": "#%%\n"
    }
   }
  },
  {
   "cell_type": "code",
   "execution_count": 70,
   "outputs": [
    {
     "name": "stdout",
     "output_type": "stream",
     "text": [
      "tensor([[0.0967, 0.0967, 0.0992, 0.0967, 0.0987, 0.0972, 0.1059, 0.1157, 0.0967,\n",
      "         0.0967]], device='cuda:0', grad_fn=<SoftmaxBackward>)\n",
      "tensor([7], device='cuda:0')\n",
      "Predicted class: Sneaker\n"
     ]
    }
   ],
   "source": [
    "X = torch.rand(1, 28, 28, device=device)\n",
    "#print(X)\n",
    "logits = model(X)\n",
    "pred_probab = nn.Softmax(dim=1)(logits)\n",
    "y_pred = pred_probab.argmax(1)\n",
    "print(pred_probab)\n",
    "print(y_pred)\n",
    "print(f\"Predicted class: {labels_map[y_pred.item()]}\")"
   ],
   "metadata": {
    "collapsed": false,
    "pycharm": {
     "name": "#%%\n"
    }
   }
  },
  {
   "cell_type": "markdown",
   "source": [
    "#### Model Layers"
   ],
   "metadata": {
    "collapsed": false,
    "pycharm": {
     "name": "#%% md\n"
    }
   }
  },
  {
   "cell_type": "code",
   "execution_count": 71,
   "outputs": [
    {
     "name": "stdout",
     "output_type": "stream",
     "text": [
      "torch.Size([3, 28, 28])\n"
     ]
    }
   ],
   "source": [
    "input_image = torch.rand(3,28,28)\n",
    "print(input_image.size())"
   ],
   "metadata": {
    "collapsed": false,
    "pycharm": {
     "name": "#%%\n"
    }
   }
  },
  {
   "cell_type": "markdown",
   "source": [
    "nn.Flatten"
   ],
   "metadata": {
    "collapsed": false,
    "pycharm": {
     "name": "#%% md\n"
    }
   }
  },
  {
   "cell_type": "code",
   "execution_count": 72,
   "outputs": [
    {
     "name": "stdout",
     "output_type": "stream",
     "text": [
      "torch.Size([3, 784])\n"
     ]
    }
   ],
   "source": [
    "flatten = nn.Flatten()\n",
    "flat_image = flatten(input_image)\n",
    "print(flat_image.size())"
   ],
   "metadata": {
    "collapsed": false,
    "pycharm": {
     "name": "#%%\n"
    }
   }
  },
  {
   "cell_type": "markdown",
   "source": [
    "nn.Linear"
   ],
   "metadata": {
    "collapsed": false,
    "pycharm": {
     "name": "#%% md\n"
    }
   }
  },
  {
   "cell_type": "code",
   "execution_count": 73,
   "outputs": [
    {
     "name": "stdout",
     "output_type": "stream",
     "text": [
      "torch.Size([3, 20])\n"
     ]
    }
   ],
   "source": [
    "layer1 = nn.Linear(in_features=28*28, out_features=20)\n",
    "hidden1 = layer1(flat_image)\n",
    "print(hidden1.size())"
   ],
   "metadata": {
    "collapsed": false,
    "pycharm": {
     "name": "#%%\n"
    }
   }
  },
  {
   "cell_type": "markdown",
   "source": [
    "nn.ReLU"
   ],
   "metadata": {
    "collapsed": false,
    "pycharm": {
     "name": "#%% md\n"
    }
   }
  },
  {
   "cell_type": "code",
   "execution_count": 74,
   "outputs": [
    {
     "name": "stdout",
     "output_type": "stream",
     "text": [
      "Before ReLU: tensor([[-8.7251e-02,  1.0110e+00,  3.2969e-01,  7.2047e-01,  2.2346e-01,\n",
      "         -1.3493e-01, -1.8603e-01, -3.8012e-01,  9.6879e-02,  4.1849e-01,\n",
      "          2.6171e-01,  1.2983e-01,  9.9911e-02,  1.2719e-01, -1.3095e-01,\n",
      "         -3.4531e-01,  1.0372e-02,  5.1662e-01,  1.1756e-01, -3.0582e-01],\n",
      "        [ 2.2937e-02,  7.4384e-01,  1.9574e-01,  7.2250e-01, -1.2117e-01,\n",
      "         -4.1359e-01, -5.7134e-01, -3.6545e-01,  8.5689e-02,  3.5142e-01,\n",
      "          1.6623e-01,  9.8242e-02, -2.7251e-01,  2.6043e-01,  1.3558e-02,\n",
      "         -1.6026e-01, -3.1020e-02,  2.7437e-01, -1.1603e-01, -8.6603e-02],\n",
      "        [-1.2203e-01,  8.9475e-01,  1.9739e-01,  3.6213e-01, -1.2200e-01,\n",
      "         -4.5740e-01, -3.0607e-01, -2.9062e-01,  3.0067e-01,  3.0310e-01,\n",
      "          1.7108e-01,  3.2366e-01,  8.3100e-02,  5.0251e-01, -7.5474e-04,\n",
      "         -3.6802e-02,  3.1024e-01,  4.0385e-02,  3.8113e-01, -3.3466e-01]],\n",
      "       grad_fn=<AddmmBackward>)\n",
      "\n",
      "\n",
      "After ReLU: tensor([[0.0000, 1.0110, 0.3297, 0.7205, 0.2235, 0.0000, 0.0000, 0.0000, 0.0969,\n",
      "         0.4185, 0.2617, 0.1298, 0.0999, 0.1272, 0.0000, 0.0000, 0.0104, 0.5166,\n",
      "         0.1176, 0.0000],\n",
      "        [0.0229, 0.7438, 0.1957, 0.7225, 0.0000, 0.0000, 0.0000, 0.0000, 0.0857,\n",
      "         0.3514, 0.1662, 0.0982, 0.0000, 0.2604, 0.0136, 0.0000, 0.0000, 0.2744,\n",
      "         0.0000, 0.0000],\n",
      "        [0.0000, 0.8947, 0.1974, 0.3621, 0.0000, 0.0000, 0.0000, 0.0000, 0.3007,\n",
      "         0.3031, 0.1711, 0.3237, 0.0831, 0.5025, 0.0000, 0.0000, 0.3102, 0.0404,\n",
      "         0.3811, 0.0000]], grad_fn=<ReluBackward0>)\n"
     ]
    }
   ],
   "source": [
    "print(f\"Before ReLU: {hidden1}\\n\\n\")\n",
    "hidden1 = nn.ReLU()(hidden1)\n",
    "print(f\"After ReLU: {hidden1}\")"
   ],
   "metadata": {
    "collapsed": false,
    "pycharm": {
     "name": "#%%\n"
    }
   }
  },
  {
   "cell_type": "markdown",
   "source": [
    "nn.Sequential"
   ],
   "metadata": {
    "collapsed": false,
    "pycharm": {
     "name": "#%% md\n"
    }
   }
  },
  {
   "cell_type": "code",
   "execution_count": 75,
   "outputs": [
    {
     "name": "stdout",
     "output_type": "stream",
     "text": [
      "tensor([-0.1297, -0.0111, -0.1601,  0.1679, -0.3136,  0.1684, -0.1055, -0.2862,\n",
      "         0.0734,  0.2178], grad_fn=<SelectBackward>)\n"
     ]
    }
   ],
   "source": [
    "seq_modules = nn.Sequential(\n",
    "    flatten,\n",
    "    layer1,\n",
    "    nn.ReLU(),\n",
    "    nn.Linear(20, 10)\n",
    ")\n",
    "input_image = torch.rand(3,28,28)\n",
    "logits = seq_modules(input_image)\n",
    "print(logits[0])"
   ],
   "metadata": {
    "collapsed": false,
    "pycharm": {
     "name": "#%%\n"
    }
   }
  },
  {
   "cell_type": "markdown",
   "source": [
    "nn.Softmax"
   ],
   "metadata": {
    "collapsed": false,
    "pycharm": {
     "name": "#%% md\n"
    }
   }
  },
  {
   "cell_type": "code",
   "execution_count": 76,
   "outputs": [
    {
     "name": "stdout",
     "output_type": "stream",
     "text": [
      "tensor([0.0898, 0.1010, 0.0871, 0.1209, 0.0747, 0.1209, 0.0919, 0.0767, 0.1100,\n",
      "        0.1270], grad_fn=<SelectBackward>)\n"
     ]
    }
   ],
   "source": [
    "softmax = nn.Softmax(dim=1)\n",
    "pred_probab = softmax(logits)\n",
    "print(pred_probab[0])"
   ],
   "metadata": {
    "collapsed": false,
    "pycharm": {
     "name": "#%%\n"
    }
   }
  },
  {
   "cell_type": "markdown",
   "source": [
    "#### Model Parameter"
   ],
   "metadata": {
    "collapsed": false,
    "pycharm": {
     "name": "#%% md\n"
    }
   }
  },
  {
   "cell_type": "code",
   "execution_count": 77,
   "outputs": [
    {
     "name": "stdout",
     "output_type": "stream",
     "text": [
      "Model structure:  NeuralNetwork(\n",
      "  (flatten): Flatten(start_dim=1, end_dim=-1)\n",
      "  (linear_relu_stack): Sequential(\n",
      "    (0): Linear(in_features=784, out_features=512, bias=True)\n",
      "    (1): ReLU()\n",
      "    (2): Linear(in_features=512, out_features=512, bias=True)\n",
      "    (3): ReLU()\n",
      "    (4): Linear(in_features=512, out_features=10, bias=True)\n",
      "    (5): ReLU()\n",
      "  )\n",
      ") \n",
      "\n",
      "\n",
      "Layer: linear_relu_stack.0.weight | Size: torch.Size([512, 784]) | Values : tensor([[ 0.0102,  0.0177,  0.0161,  ..., -0.0040,  0.0127,  0.0247],\n",
      "        [ 0.0021,  0.0213,  0.0261,  ..., -0.0298,  0.0290,  0.0101]],\n",
      "       device='cuda:0', grad_fn=<SliceBackward>) \n",
      "\n",
      "Layer: linear_relu_stack.0.bias | Size: torch.Size([512]) | Values : tensor([0.0073, 0.0326], device='cuda:0', grad_fn=<SliceBackward>) \n",
      "\n",
      "Layer: linear_relu_stack.2.weight | Size: torch.Size([512, 512]) | Values : tensor([[ 0.0152, -0.0025,  0.0202,  ..., -0.0405, -0.0388,  0.0084],\n",
      "        [ 0.0398,  0.0212, -0.0387,  ..., -0.0388,  0.0287,  0.0081]],\n",
      "       device='cuda:0', grad_fn=<SliceBackward>) \n",
      "\n",
      "Layer: linear_relu_stack.2.bias | Size: torch.Size([512]) | Values : tensor([-0.0099,  0.0129], device='cuda:0', grad_fn=<SliceBackward>) \n",
      "\n",
      "Layer: linear_relu_stack.4.weight | Size: torch.Size([10, 512]) | Values : tensor([[ 0.0431,  0.0080, -0.0092,  ...,  0.0098, -0.0054, -0.0325],\n",
      "        [ 0.0414,  0.0028, -0.0186,  ..., -0.0185,  0.0155, -0.0078]],\n",
      "       device='cuda:0', grad_fn=<SliceBackward>) \n",
      "\n",
      "Layer: linear_relu_stack.4.bias | Size: torch.Size([10]) | Values : tensor([ 0.0111, -0.0169], device='cuda:0', grad_fn=<SliceBackward>) \n",
      "\n"
     ]
    }
   ],
   "source": [
    "print(\"Model structure: \", model, \"\\n\\n\")\n",
    "\n",
    "for name, param in model.named_parameters():\n",
    "    print(f\"Layer: {name} | Size: {param.size()} | Values : {param[:2]} \\n\")"
   ],
   "metadata": {
    "collapsed": false,
    "pycharm": {
     "name": "#%%\n"
    }
   }
  },
  {
   "cell_type": "markdown",
   "source": [
    "## Optimizing Model Parameters\n",
    "#### Hyperparameters"
   ],
   "metadata": {
    "collapsed": false,
    "pycharm": {
     "name": "#%% md\n"
    }
   }
  },
  {
   "cell_type": "code",
   "execution_count": 78,
   "outputs": [],
   "source": [
    "learning_rate = 1e-3\n",
    "batch_size = 64\n",
    "epochs = 5\n",
    "\n",
    "loss_fn = nn.CrossEntropyLoss()\n",
    "\n",
    "optimizer = torch.optim.SGD(model.parameters(), lr=learning_rate)"
   ],
   "metadata": {
    "collapsed": false,
    "pycharm": {
     "name": "#%%\n"
    }
   }
  },
  {
   "cell_type": "markdown",
   "source": [
    "#### Full Implementation"
   ],
   "metadata": {
    "collapsed": false,
    "pycharm": {
     "name": "#%% md\n"
    }
   }
  },
  {
   "cell_type": "code",
   "execution_count": 79,
   "outputs": [],
   "source": [
    "def train_loop(dataloader, model, loss_fn, optimizer):\n",
    "    size = len(dataloader.dataset)\n",
    "    for batch, (X, y) in enumerate(dataloader):\n",
    "        X, y = X.to(device), y.to(device)\n",
    "\n",
    "        # Compute prediction and loss\n",
    "        pred = model(X)\n",
    "        loss = loss_fn(pred, y)\n",
    "\n",
    "        # Backpropagation\n",
    "        optimizer.zero_grad()\n",
    "        loss.backward()\n",
    "        optimizer.step()\n",
    "\n",
    "        if batch % 100 == 0:\n",
    "            loss, current = loss.item(), batch * len(X)\n",
    "            print(f\"loss: {loss:>7f}  [{current:>5d}/{size:>5d}]\")\n",
    "\n",
    "\n",
    "def test_loop(dataloader, model, loss_fn):\n",
    "    size = len(dataloader.dataset)\n",
    "    test_loss, correct = 0, 0\n",
    "\n",
    "    with torch.no_grad():\n",
    "        for X, y in dataloader:\n",
    "            X, y = X.to(device), y.to(device)\n",
    "            pred = model(X)\n",
    "            test_loss += loss_fn(pred, y).item()\n",
    "            correct += (pred.argmax(1) == y).type(torch.float).sum().item()\n",
    "\n",
    "    test_loss /= size\n",
    "    correct /= size\n",
    "    print(f\"Test Error: \\n Accuracy: {(100*correct):>0.1f}%, Avg loss: {test_loss:>8f} \\n\")"
   ],
   "metadata": {
    "collapsed": false,
    "pycharm": {
     "name": "#%%\n"
    }
   }
  },
  {
   "cell_type": "code",
   "execution_count": 80,
   "outputs": [
    {
     "name": "stdout",
     "output_type": "stream",
     "text": [
      "Epoch 1\n",
      "-------------------------------\n",
      "loss: 2.305255  [    0/60000]\n",
      "loss: 2.295466  [ 6400/60000]\n",
      "loss: 2.297152  [12800/60000]\n",
      "loss: 2.292117  [19200/60000]\n",
      "loss: 2.288841  [25600/60000]\n",
      "loss: 2.273770  [32000/60000]\n",
      "loss: 2.276977  [38400/60000]\n",
      "loss: 2.262480  [44800/60000]\n",
      "loss: 2.273134  [51200/60000]\n",
      "loss: 2.257608  [57600/60000]\n",
      "Test Error: \n",
      " Accuracy: 27.9%, Avg loss: 0.035458 \n",
      "\n",
      "Epoch 2\n",
      "-------------------------------\n",
      "loss: 2.253986  [    0/60000]\n",
      "loss: 2.221000  [ 6400/60000]\n",
      "loss: 2.246991  [12800/60000]\n",
      "loss: 2.250456  [19200/60000]\n",
      "loss: 2.258977  [25600/60000]\n",
      "loss: 2.217085  [32000/60000]\n",
      "loss: 2.246798  [38400/60000]\n",
      "loss: 2.209034  [44800/60000]\n",
      "loss: 2.198867  [51200/60000]\n",
      "loss: 2.231507  [57600/60000]\n",
      "Test Error: \n",
      " Accuracy: 28.6%, Avg loss: 0.034515 \n",
      "\n",
      "Epoch 3\n",
      "-------------------------------\n",
      "loss: 2.204686  [    0/60000]\n",
      "loss: 2.225656  [ 6400/60000]\n",
      "loss: 2.182305  [12800/60000]\n",
      "loss: 2.121274  [19200/60000]\n",
      "loss: 2.173926  [25600/60000]\n",
      "loss: 2.162281  [32000/60000]\n",
      "loss: 2.186935  [38400/60000]\n",
      "loss: 2.134489  [44800/60000]\n",
      "loss: 2.079706  [51200/60000]\n",
      "loss: 2.043435  [57600/60000]\n",
      "Test Error: \n",
      " Accuracy: 35.0%, Avg loss: 0.032594 \n",
      "\n",
      "Epoch 4\n",
      "-------------------------------\n",
      "loss: 2.035893  [    0/60000]\n",
      "loss: 2.075541  [ 6400/60000]\n",
      "loss: 2.014647  [12800/60000]\n",
      "loss: 1.960408  [19200/60000]\n",
      "loss: 2.058719  [25600/60000]\n",
      "loss: 1.975767  [32000/60000]\n",
      "loss: 1.964008  [38400/60000]\n",
      "loss: 2.045409  [44800/60000]\n",
      "loss: 1.917679  [51200/60000]\n",
      "loss: 1.915951  [57600/60000]\n",
      "Test Error: \n",
      " Accuracy: 43.1%, Avg loss: 0.029830 \n",
      "\n",
      "Epoch 5\n",
      "-------------------------------\n",
      "loss: 1.985946  [    0/60000]\n",
      "loss: 1.892314  [ 6400/60000]\n",
      "loss: 1.911794  [12800/60000]\n",
      "loss: 1.853639  [19200/60000]\n",
      "loss: 1.868330  [25600/60000]\n",
      "loss: 1.967740  [32000/60000]\n",
      "loss: 1.783582  [38400/60000]\n",
      "loss: 1.707449  [44800/60000]\n",
      "loss: 1.818662  [51200/60000]\n",
      "loss: 1.660169  [57600/60000]\n",
      "Test Error: \n",
      " Accuracy: 49.2%, Avg loss: 0.027066 \n",
      "\n",
      "Epoch 6\n",
      "-------------------------------\n",
      "loss: 1.867656  [    0/60000]\n",
      "loss: 1.613228  [ 6400/60000]\n",
      "loss: 1.700312  [12800/60000]\n",
      "loss: 1.692780  [19200/60000]\n",
      "loss: 1.635551  [25600/60000]\n",
      "loss: 1.744399  [32000/60000]\n",
      "loss: 1.655789  [38400/60000]\n",
      "loss: 1.605325  [44800/60000]\n",
      "loss: 1.463966  [51200/60000]\n",
      "loss: 1.643784  [57600/60000]\n",
      "Test Error: \n",
      " Accuracy: 54.4%, Avg loss: 0.024978 \n",
      "\n",
      "Epoch 7\n",
      "-------------------------------\n",
      "loss: 1.452889  [    0/60000]\n",
      "loss: 1.407417  [ 6400/60000]\n",
      "loss: 1.573526  [12800/60000]\n",
      "loss: 1.688772  [19200/60000]\n",
      "loss: 1.714088  [25600/60000]\n",
      "loss: 1.565108  [32000/60000]\n",
      "loss: 1.426608  [38400/60000]\n",
      "loss: 1.457612  [44800/60000]\n",
      "loss: 1.584615  [51200/60000]\n",
      "loss: 1.382325  [57600/60000]\n",
      "Test Error: \n",
      " Accuracy: 57.1%, Avg loss: 0.023453 \n",
      "\n",
      "Epoch 8\n",
      "-------------------------------\n",
      "loss: 1.396497  [    0/60000]\n",
      "loss: 1.584367  [ 6400/60000]\n",
      "loss: 1.567594  [12800/60000]\n",
      "loss: 1.453296  [19200/60000]\n",
      "loss: 1.510834  [25600/60000]\n",
      "loss: 1.486684  [32000/60000]\n",
      "loss: 1.364666  [38400/60000]\n",
      "loss: 1.580676  [44800/60000]\n",
      "loss: 1.532517  [51200/60000]\n",
      "loss: 1.233377  [57600/60000]\n",
      "Test Error: \n",
      " Accuracy: 57.7%, Avg loss: 0.022277 \n",
      "\n",
      "Epoch 9\n",
      "-------------------------------\n",
      "loss: 1.150086  [    0/60000]\n",
      "loss: 1.413782  [ 6400/60000]\n",
      "loss: 1.496512  [12800/60000]\n",
      "loss: 1.449466  [19200/60000]\n",
      "loss: 1.413928  [25600/60000]\n",
      "loss: 1.306393  [32000/60000]\n",
      "loss: 1.295810  [38400/60000]\n",
      "loss: 1.368308  [44800/60000]\n",
      "loss: 1.457379  [51200/60000]\n",
      "loss: 1.234836  [57600/60000]\n",
      "Test Error: \n",
      " Accuracy: 58.7%, Avg loss: 0.021310 \n",
      "\n",
      "Epoch 10\n",
      "-------------------------------\n",
      "loss: 1.297495  [    0/60000]\n",
      "loss: 1.012143  [ 6400/60000]\n",
      "loss: 1.182301  [12800/60000]\n",
      "loss: 1.409584  [19200/60000]\n",
      "loss: 1.393726  [25600/60000]\n",
      "loss: 1.137208  [32000/60000]\n",
      "loss: 1.158677  [38400/60000]\n",
      "loss: 1.437401  [44800/60000]\n",
      "loss: 1.222876  [51200/60000]\n",
      "loss: 1.299159  [57600/60000]\n",
      "Test Error: \n",
      " Accuracy: 59.4%, Avg loss: 0.020534 \n",
      "\n",
      "Done!\n"
     ]
    }
   ],
   "source": [
    "loss_fn = nn.CrossEntropyLoss()\n",
    "optimizer = torch.optim.SGD(model.parameters(), lr=learning_rate)\n",
    "\n",
    "epochs = 10\n",
    "for t in range(epochs):\n",
    "    print(f\"Epoch {t+1}\\n-------------------------------\")\n",
    "    train_loop(train_dataloader, model, loss_fn, optimizer)\n",
    "    test_loop(test_dataloader, model, loss_fn)\n",
    "print(\"Done!\")"
   ],
   "metadata": {
    "collapsed": false,
    "pycharm": {
     "name": "#%%\n"
    }
   }
  },
  {
   "cell_type": "markdown",
   "source": [
    "#### Save and load the model\n",
    "by model weights"
   ],
   "metadata": {
    "collapsed": false,
    "pycharm": {
     "name": "#%% md\n"
    }
   }
  },
  {
   "cell_type": "code",
   "execution_count": 82,
   "outputs": [
    {
     "data": {
      "text/plain": "NeuralNetwork(\n  (flatten): Flatten(start_dim=1, end_dim=-1)\n  (linear_relu_stack): Sequential(\n    (0): Linear(in_features=784, out_features=512, bias=True)\n    (1): ReLU()\n    (2): Linear(in_features=512, out_features=512, bias=True)\n    (3): ReLU()\n    (4): Linear(in_features=512, out_features=10, bias=True)\n    (5): ReLU()\n  )\n)"
     },
     "execution_count": 82,
     "metadata": {},
     "output_type": "execute_result"
    }
   ],
   "source": [
    "torch.save(model.state_dict(), 'tutorial3_model_weights.pth')\n",
    "\n",
    "loaded_model = NeuralNetwork().to(device)\n",
    "loaded_model.load_state_dict(torch.load('tutorial3_model_weights.pth'))\n",
    "loaded_model.eval()"
   ],
   "metadata": {
    "collapsed": false,
    "pycharm": {
     "name": "#%%\n"
    }
   }
  },
  {
   "cell_type": "markdown",
   "source": [
    "with Shapes"
   ],
   "metadata": {
    "collapsed": false,
    "pycharm": {
     "name": "#%% md\n"
    }
   }
  },
  {
   "cell_type": "code",
   "execution_count": 84,
   "outputs": [
    {
     "data": {
      "text/plain": "NeuralNetwork(\n  (flatten): Flatten(start_dim=1, end_dim=-1)\n  (linear_relu_stack): Sequential(\n    (0): Linear(in_features=784, out_features=512, bias=True)\n    (1): ReLU()\n    (2): Linear(in_features=512, out_features=512, bias=True)\n    (3): ReLU()\n    (4): Linear(in_features=512, out_features=10, bias=True)\n    (5): ReLU()\n  )\n)"
     },
     "execution_count": 84,
     "metadata": {},
     "output_type": "execute_result"
    }
   ],
   "source": [
    "torch.save(model, 'tutorial3_model.pth')\n",
    "loaded_model2 = torch.load('tutorial3_model.pth')\n",
    "loaded_model2\n",
    "\n"
   ],
   "metadata": {
    "collapsed": false,
    "pycharm": {
     "name": "#%%\n"
    }
   }
  }
 ],
 "metadata": {
  "kernelspec": {
   "display_name": "Python 3",
   "language": "python",
   "name": "python3"
  },
  "language_info": {
   "codemirror_mode": {
    "name": "ipython",
    "version": 2
   },
   "file_extension": ".py",
   "mimetype": "text/x-python",
   "name": "python",
   "nbconvert_exporter": "python",
   "pygments_lexer": "ipython2",
   "version": "2.7.6"
  }
 },
 "nbformat": 4,
 "nbformat_minor": 0
}