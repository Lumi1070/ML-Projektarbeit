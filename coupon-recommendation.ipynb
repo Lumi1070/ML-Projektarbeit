{
 "cells": [
  {
   "cell_type": "markdown",
   "metadata": {
    "collapsed": true,
    "pycharm": {
     "name": "#%% md\n"
    }
   },
   "source": [
    "## Imports"
   ]
  },
  {
   "cell_type": "code",
   "execution_count": 25,
   "outputs": [],
   "source": [
    "import pandas as pd\n"
   ],
   "metadata": {
    "collapsed": false,
    "pycharm": {
     "name": "#%%\n"
    }
   }
  },
  {
   "cell_type": "markdown",
   "source": [
    "## Lade Datensatz"
   ],
   "metadata": {
    "collapsed": false,
    "pycharm": {
     "name": "#%% md\n"
    }
   }
  },
  {
   "cell_type": "code",
   "execution_count": 26,
   "outputs": [
    {
     "data": {
      "text/plain": "['destination',\n 'passanger',\n 'weather',\n 'temperature',\n 'time',\n 'coupon',\n 'expiration',\n 'gender',\n 'age',\n 'maritalStatus',\n 'has_children',\n 'education',\n 'occupation',\n 'income',\n 'car',\n 'Bar',\n 'CoffeeHouse',\n 'CarryAway',\n 'RestaurantLessThan20',\n 'Restaurant20To50',\n 'toCoupon_GEQ5min',\n 'toCoupon_GEQ15min',\n 'toCoupon_GEQ25min',\n 'direction_same',\n 'direction_opp',\n 'Y']"
     },
     "metadata": {},
     "output_type": "display_data"
    },
    {
     "data": {
      "text/plain": "destination                 0\npassenger                   0\nweather                     0\ntemperature                 0\ntime                        0\ncoupon                      0\nexpiration                  0\ngender                      0\nage                         0\nmaritalStatus               0\nhas_children                0\neducation                   0\noccupation                  0\nincome                      0\ncar                     12576\nBar                       107\nCoffeeHouse               217\nCarryAway                 151\nRestaurantLessThan20      130\nRestaurant20To50          189\ntoCoupon_GEQ5min            0\ntoCoupon_GEQ15min           0\ntoCoupon_GEQ25min           0\ndirection_same              0\ndirection_opp               0\nY                           0\ndtype: int64"
     },
     "execution_count": 26,
     "metadata": {},
     "output_type": "execute_result"
    }
   ],
   "source": [
    "df = pd.read_csv('in-vehicle-coupon-recommendation.csv')\n",
    "display(list(df.columns.values))\n",
    "df.rename(columns={\"passanger\": \"passenger\"}, inplace=True)\n",
    "df.isna().sum()"
   ],
   "metadata": {
    "collapsed": false,
    "pycharm": {
     "name": "#%%\n"
    }
   }
  }
 ],
 "metadata": {
  "kernelspec": {
   "display_name": "Python 3",
   "language": "python",
   "name": "python3"
  },
  "language_info": {
   "codemirror_mode": {
    "name": "ipython",
    "version": 2
   },
   "file_extension": ".py",
   "mimetype": "text/x-python",
   "name": "python",
   "nbconvert_exporter": "python",
   "pygments_lexer": "ipython2",
   "version": "2.7.6"
  }
 },
 "nbformat": 4,
 "nbformat_minor": 0
}