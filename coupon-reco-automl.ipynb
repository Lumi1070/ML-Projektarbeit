{
 "cells": [
  {
   "cell_type": "markdown",
   "metadata": {
    "collapsed": true,
    "pycharm": {
     "name": "#%% md\n"
    }
   },
   "source": [
    "## Imports"
   ]
  },
  {
   "cell_type": "code",
   "execution_count": 6,
   "outputs": [],
   "source": [
    "import pandas as pd\n",
    "\n",
    "from tpot import TPOTClassifier\n",
    "from sklearn.model_selection import train_test_split"
   ],
   "metadata": {
    "collapsed": false,
    "pycharm": {
     "name": "#%%\n"
    }
   }
  },
  {
   "cell_type": "markdown",
   "source": [
    "#### Initialize TPOT optimizer"
   ],
   "metadata": {
    "collapsed": false,
    "pycharm": {
     "name": "#%% md\n"
    }
   }
  },
  {
   "cell_type": "code",
   "execution_count": 7,
   "outputs": [],
   "source": [
    "pipeline_optimizer = TPOTClassifier(generations=5, population_size=20, cv=5,\n",
    "                                    random_state=257, verbosity=2)"
   ],
   "metadata": {
    "collapsed": false,
    "pycharm": {
     "name": "#%%\n"
    }
   }
  },
  {
   "cell_type": "markdown",
   "source": [
    "## Load dataset"
   ],
   "metadata": {
    "collapsed": false
   }
  },
  {
   "cell_type": "code",
   "execution_count": 8,
   "outputs": [
    {
     "data": {
      "text/plain": "['destination',\n 'passanger',\n 'weather',\n 'temperature',\n 'time',\n 'coupon',\n 'expiration',\n 'gender',\n 'age',\n 'maritalStatus',\n 'has_children',\n 'education',\n 'occupation',\n 'income',\n 'car',\n 'Bar',\n 'CoffeeHouse',\n 'CarryAway',\n 'RestaurantLessThan20',\n 'Restaurant20To50',\n 'toCoupon_GEQ5min',\n 'toCoupon_GEQ15min',\n 'toCoupon_GEQ25min',\n 'direction_same',\n 'direction_opp',\n 'Y']"
     },
     "metadata": {},
     "output_type": "display_data"
    },
    {
     "data": {
      "text/plain": "           destination  passenger weather  temperature  time  \\\n0      No Urgent Place      Alone   Sunny           55   2PM   \n1      No Urgent Place  Friend(s)   Sunny           80  10AM   \n2      No Urgent Place  Friend(s)   Sunny           80  10AM   \n3      No Urgent Place  Friend(s)   Sunny           80   2PM   \n4      No Urgent Place  Friend(s)   Sunny           80   2PM   \n...                ...        ...     ...          ...   ...   \n12679             Home    Partner   Rainy           55   6PM   \n12680             Work      Alone   Rainy           55   7AM   \n12681             Work      Alone   Snowy           30   7AM   \n12682             Work      Alone   Snowy           30   7AM   \n12683             Work      Alone   Sunny           80   7AM   \n\n                      coupon expiration  gender age      maritalStatus  ...  \\\n0            Restaurant(<20)         1d  Female  21  Unmarried partner  ...   \n1               Coffee House         2h  Female  21  Unmarried partner  ...   \n2      Carry out & Take away         2h  Female  21  Unmarried partner  ...   \n3               Coffee House         2h  Female  21  Unmarried partner  ...   \n4               Coffee House         1d  Female  21  Unmarried partner  ...   \n...                      ...        ...     ...  ..                ...  ...   \n12679  Carry out & Take away         1d    Male  26             Single  ...   \n12680  Carry out & Take away         1d    Male  26             Single  ...   \n12681           Coffee House         1d    Male  26             Single  ...   \n12682                    Bar         1d    Male  26             Single  ...   \n12683      Restaurant(20-50)         2h    Male  26             Single  ...   \n\n       CoffeeHouse CarryAway RestaurantLessThan20 Restaurant20To50  \\\n0            never       NaN                  4~8              1~3   \n1            never       NaN                  4~8              1~3   \n2            never       NaN                  4~8              1~3   \n3            never       NaN                  4~8              1~3   \n4            never       NaN                  4~8              1~3   \n...            ...       ...                  ...              ...   \n12679        never       1~3                  4~8              1~3   \n12680        never       1~3                  4~8              1~3   \n12681        never       1~3                  4~8              1~3   \n12682        never       1~3                  4~8              1~3   \n12683        never       1~3                  4~8              1~3   \n\n      toCoupon_GEQ5min toCoupon_GEQ15min toCoupon_GEQ25min direction_same  \\\n0                    1                 0                 0              0   \n1                    1                 0                 0              0   \n2                    1                 1                 0              0   \n3                    1                 1                 0              0   \n4                    1                 1                 0              0   \n...                ...               ...               ...            ...   \n12679                1                 0                 0              1   \n12680                1                 0                 0              0   \n12681                1                 0                 0              1   \n12682                1                 1                 1              0   \n12683                1                 0                 0              1   \n\n      direction_opp  Y  \n0                 1  1  \n1                 1  0  \n2                 1  1  \n3                 1  0  \n4                 1  0  \n...             ... ..  \n12679             0  1  \n12680             1  1  \n12681             0  0  \n12682             1  0  \n12683             0  0  \n\n[12684 rows x 26 columns]",
      "text/html": "<div>\n<style scoped>\n    .dataframe tbody tr th:only-of-type {\n        vertical-align: middle;\n    }\n\n    .dataframe tbody tr th {\n        vertical-align: top;\n    }\n\n    .dataframe thead th {\n        text-align: right;\n    }\n</style>\n<table border=\"1\" class=\"dataframe\">\n  <thead>\n    <tr style=\"text-align: right;\">\n      <th></th>\n      <th>destination</th>\n      <th>passenger</th>\n      <th>weather</th>\n      <th>temperature</th>\n      <th>time</th>\n      <th>coupon</th>\n      <th>expiration</th>\n      <th>gender</th>\n      <th>age</th>\n      <th>maritalStatus</th>\n      <th>...</th>\n      <th>CoffeeHouse</th>\n      <th>CarryAway</th>\n      <th>RestaurantLessThan20</th>\n      <th>Restaurant20To50</th>\n      <th>toCoupon_GEQ5min</th>\n      <th>toCoupon_GEQ15min</th>\n      <th>toCoupon_GEQ25min</th>\n      <th>direction_same</th>\n      <th>direction_opp</th>\n      <th>Y</th>\n    </tr>\n  </thead>\n  <tbody>\n    <tr>\n      <th>0</th>\n      <td>No Urgent Place</td>\n      <td>Alone</td>\n      <td>Sunny</td>\n      <td>55</td>\n      <td>2PM</td>\n      <td>Restaurant(&lt;20)</td>\n      <td>1d</td>\n      <td>Female</td>\n      <td>21</td>\n      <td>Unmarried partner</td>\n      <td>...</td>\n      <td>never</td>\n      <td>NaN</td>\n      <td>4~8</td>\n      <td>1~3</td>\n      <td>1</td>\n      <td>0</td>\n      <td>0</td>\n      <td>0</td>\n      <td>1</td>\n      <td>1</td>\n    </tr>\n    <tr>\n      <th>1</th>\n      <td>No Urgent Place</td>\n      <td>Friend(s)</td>\n      <td>Sunny</td>\n      <td>80</td>\n      <td>10AM</td>\n      <td>Coffee House</td>\n      <td>2h</td>\n      <td>Female</td>\n      <td>21</td>\n      <td>Unmarried partner</td>\n      <td>...</td>\n      <td>never</td>\n      <td>NaN</td>\n      <td>4~8</td>\n      <td>1~3</td>\n      <td>1</td>\n      <td>0</td>\n      <td>0</td>\n      <td>0</td>\n      <td>1</td>\n      <td>0</td>\n    </tr>\n    <tr>\n      <th>2</th>\n      <td>No Urgent Place</td>\n      <td>Friend(s)</td>\n      <td>Sunny</td>\n      <td>80</td>\n      <td>10AM</td>\n      <td>Carry out &amp; Take away</td>\n      <td>2h</td>\n      <td>Female</td>\n      <td>21</td>\n      <td>Unmarried partner</td>\n      <td>...</td>\n      <td>never</td>\n      <td>NaN</td>\n      <td>4~8</td>\n      <td>1~3</td>\n      <td>1</td>\n      <td>1</td>\n      <td>0</td>\n      <td>0</td>\n      <td>1</td>\n      <td>1</td>\n    </tr>\n    <tr>\n      <th>3</th>\n      <td>No Urgent Place</td>\n      <td>Friend(s)</td>\n      <td>Sunny</td>\n      <td>80</td>\n      <td>2PM</td>\n      <td>Coffee House</td>\n      <td>2h</td>\n      <td>Female</td>\n      <td>21</td>\n      <td>Unmarried partner</td>\n      <td>...</td>\n      <td>never</td>\n      <td>NaN</td>\n      <td>4~8</td>\n      <td>1~3</td>\n      <td>1</td>\n      <td>1</td>\n      <td>0</td>\n      <td>0</td>\n      <td>1</td>\n      <td>0</td>\n    </tr>\n    <tr>\n      <th>4</th>\n      <td>No Urgent Place</td>\n      <td>Friend(s)</td>\n      <td>Sunny</td>\n      <td>80</td>\n      <td>2PM</td>\n      <td>Coffee House</td>\n      <td>1d</td>\n      <td>Female</td>\n      <td>21</td>\n      <td>Unmarried partner</td>\n      <td>...</td>\n      <td>never</td>\n      <td>NaN</td>\n      <td>4~8</td>\n      <td>1~3</td>\n      <td>1</td>\n      <td>1</td>\n      <td>0</td>\n      <td>0</td>\n      <td>1</td>\n      <td>0</td>\n    </tr>\n    <tr>\n      <th>...</th>\n      <td>...</td>\n      <td>...</td>\n      <td>...</td>\n      <td>...</td>\n      <td>...</td>\n      <td>...</td>\n      <td>...</td>\n      <td>...</td>\n      <td>...</td>\n      <td>...</td>\n      <td>...</td>\n      <td>...</td>\n      <td>...</td>\n      <td>...</td>\n      <td>...</td>\n      <td>...</td>\n      <td>...</td>\n      <td>...</td>\n      <td>...</td>\n      <td>...</td>\n      <td>...</td>\n    </tr>\n    <tr>\n      <th>12679</th>\n      <td>Home</td>\n      <td>Partner</td>\n      <td>Rainy</td>\n      <td>55</td>\n      <td>6PM</td>\n      <td>Carry out &amp; Take away</td>\n      <td>1d</td>\n      <td>Male</td>\n      <td>26</td>\n      <td>Single</td>\n      <td>...</td>\n      <td>never</td>\n      <td>1~3</td>\n      <td>4~8</td>\n      <td>1~3</td>\n      <td>1</td>\n      <td>0</td>\n      <td>0</td>\n      <td>1</td>\n      <td>0</td>\n      <td>1</td>\n    </tr>\n    <tr>\n      <th>12680</th>\n      <td>Work</td>\n      <td>Alone</td>\n      <td>Rainy</td>\n      <td>55</td>\n      <td>7AM</td>\n      <td>Carry out &amp; Take away</td>\n      <td>1d</td>\n      <td>Male</td>\n      <td>26</td>\n      <td>Single</td>\n      <td>...</td>\n      <td>never</td>\n      <td>1~3</td>\n      <td>4~8</td>\n      <td>1~3</td>\n      <td>1</td>\n      <td>0</td>\n      <td>0</td>\n      <td>0</td>\n      <td>1</td>\n      <td>1</td>\n    </tr>\n    <tr>\n      <th>12681</th>\n      <td>Work</td>\n      <td>Alone</td>\n      <td>Snowy</td>\n      <td>30</td>\n      <td>7AM</td>\n      <td>Coffee House</td>\n      <td>1d</td>\n      <td>Male</td>\n      <td>26</td>\n      <td>Single</td>\n      <td>...</td>\n      <td>never</td>\n      <td>1~3</td>\n      <td>4~8</td>\n      <td>1~3</td>\n      <td>1</td>\n      <td>0</td>\n      <td>0</td>\n      <td>1</td>\n      <td>0</td>\n      <td>0</td>\n    </tr>\n    <tr>\n      <th>12682</th>\n      <td>Work</td>\n      <td>Alone</td>\n      <td>Snowy</td>\n      <td>30</td>\n      <td>7AM</td>\n      <td>Bar</td>\n      <td>1d</td>\n      <td>Male</td>\n      <td>26</td>\n      <td>Single</td>\n      <td>...</td>\n      <td>never</td>\n      <td>1~3</td>\n      <td>4~8</td>\n      <td>1~3</td>\n      <td>1</td>\n      <td>1</td>\n      <td>1</td>\n      <td>0</td>\n      <td>1</td>\n      <td>0</td>\n    </tr>\n    <tr>\n      <th>12683</th>\n      <td>Work</td>\n      <td>Alone</td>\n      <td>Sunny</td>\n      <td>80</td>\n      <td>7AM</td>\n      <td>Restaurant(20-50)</td>\n      <td>2h</td>\n      <td>Male</td>\n      <td>26</td>\n      <td>Single</td>\n      <td>...</td>\n      <td>never</td>\n      <td>1~3</td>\n      <td>4~8</td>\n      <td>1~3</td>\n      <td>1</td>\n      <td>0</td>\n      <td>0</td>\n      <td>1</td>\n      <td>0</td>\n      <td>0</td>\n    </tr>\n  </tbody>\n</table>\n<p>12684 rows × 26 columns</p>\n</div>"
     },
     "execution_count": 8,
     "metadata": {},
     "output_type": "execute_result"
    }
   ],
   "source": [
    "df = pd.read_csv('in-vehicle-coupon-recommendation.csv')\n",
    "display(list(df.columns.values))\n",
    "df.rename(columns={\"passanger\": \"passenger\"}, inplace=True)\n",
    "df"
   ],
   "metadata": {
    "collapsed": false,
    "pycharm": {
     "name": "#%%\n"
    }
   }
  },
  {
   "cell_type": "markdown",
   "source": [
    "## Fill missing values in data\n",
    "- Count NAs per column\n",
    "- Make a list of columns containing NAs\n",
    "- Do not list columns containing more than 50% NAs<br>(insufficient data for replacement)\n",
    "- Replace NAs with mode in all listed columns\n",
    "\n",
    "(only to be used for categorical features,<br>numerical ones would require selecting the mean)"
   ],
   "metadata": {
    "collapsed": false
   }
  },
  {
   "cell_type": "code",
   "execution_count": 9,
   "outputs": [
    {
     "data": {
      "text/plain": "destination                 0\npassenger                   0\nweather                     0\ntemperature                 0\ntime                        0\ncoupon                      0\nexpiration                  0\ngender                      0\nage                         0\nmaritalStatus               0\nhas_children                0\neducation                   0\noccupation                  0\nincome                      0\ncar                     12576\nBar                       107\nCoffeeHouse               217\nCarryAway                 151\nRestaurantLessThan20      130\nRestaurant20To50          189\ntoCoupon_GEQ5min            0\ntoCoupon_GEQ15min           0\ntoCoupon_GEQ25min           0\ndirection_same              0\ndirection_opp               0\nY                           0\ndtype: int64"
     },
     "execution_count": 9,
     "metadata": {},
     "output_type": "execute_result"
    }
   ],
   "source": [
    "df.isna().sum()"
   ],
   "metadata": {
    "collapsed": false,
    "pycharm": {
     "name": "#%%\n"
    }
   }
  },
  {
   "cell_type": "code",
   "execution_count": 10,
   "outputs": [
    {
     "name": "stdout",
     "output_type": "stream",
     "text": [
      "['Bar', 'CoffeeHouse', 'CarryAway', 'RestaurantLessThan20', 'Restaurant20To50']\n",
      "Column is: Bar\n",
      "Mode is: never\n",
      "\n",
      "Column is: CoffeeHouse\n",
      "Mode is: less1\n",
      "\n",
      "Column is: CarryAway\n",
      "Mode is: 1~3\n",
      "\n",
      "Column is: RestaurantLessThan20\n",
      "Mode is: 1~3\n",
      "\n",
      "Column is: Restaurant20To50\n",
      "Mode is: less1\n",
      "\n"
     ]
    },
    {
     "data": {
      "text/plain": "destination                 0\npassenger                   0\nweather                     0\ntemperature                 0\ntime                        0\ncoupon                      0\nexpiration                  0\ngender                      0\nage                         0\nmaritalStatus               0\nhas_children                0\neducation                   0\noccupation                  0\nincome                      0\ncar                     12576\nBar                         0\nCoffeeHouse                 0\nCarryAway                   0\nRestaurantLessThan20        0\nRestaurant20To50            0\ntoCoupon_GEQ5min            0\ntoCoupon_GEQ15min           0\ntoCoupon_GEQ25min           0\ndirection_same              0\ndirection_opp               0\nY                           0\ndtype: int64"
     },
     "execution_count": 10,
     "metadata": {},
     "output_type": "execute_result"
    }
   ],
   "source": [
    "columns_withNA = []\n",
    "\n",
    "for index, value in df.isna().sum().items():\n",
    "    if value>0 and value < (df.shape[0] / 2):\n",
    "        columns_withNA.append(index)\n",
    "print(columns_withNA)\n",
    "\n",
    "for column in columns_withNA:\n",
    "    print('Column is: ' + column)\n",
    "    print('Mode is: ' + df[column].mode()[0])\n",
    "    print()\n",
    "    df[column] = df[column].fillna( df[column].mode()[0])\n",
    "\n",
    "df.isna().sum()"
   ],
   "metadata": {
    "collapsed": false,
    "pycharm": {
     "name": "#%%\n"
    }
   }
  },
  {
   "cell_type": "markdown",
   "source": [
    "## One-hot-encoding\n",
    "- make a list of all categorical features\n",
    "- get an overview of occurring values\n",
    "- drop all binary labeled features (already OHE)\n",
    "- for each feature create new columns, one for each distinct value using pd.get_dummies()<br>\n",
    "'FEATURE_IS_VALUE' (e.g. 'destination_IS_Home')"
   ],
   "metadata": {
    "collapsed": false
   }
  },
  {
   "cell_type": "code",
   "execution_count": 11,
   "outputs": [
    {
     "name": "stdout",
     "output_type": "stream",
     "text": [
      "Current feature: destination\n",
      "No Urgent Place\n",
      "Home\n",
      "Work\n",
      "\n",
      "Current feature: passenger\n",
      "Alone\n",
      "Friend(s)\n",
      "Partner\n",
      "Kid(s)\n",
      "\n",
      "Current feature: weather\n",
      "Sunny\n",
      "Snowy\n",
      "Rainy\n",
      "\n",
      "Current feature: time\n",
      "6PM\n",
      "7AM\n",
      "10AM\n",
      "2PM\n",
      "10PM\n",
      "\n",
      "Current feature: coupon\n",
      "Coffee House\n",
      "Restaurant(<20)\n",
      "Carry out & Take away\n",
      "Bar\n",
      "Restaurant(20-50)\n",
      "\n",
      "Current feature: expiration\n",
      "1d\n",
      "2h\n",
      "\n",
      "Current feature: gender\n",
      "Female\n",
      "Male\n",
      "\n",
      "Current feature: age\n",
      "21\n",
      "26\n",
      "31\n",
      "50plus\n",
      "36\n",
      "41\n",
      "46\n",
      "below21\n",
      "\n",
      "Current feature: maritalStatus\n",
      "Married partner\n",
      "Single\n",
      "Unmarried partner\n",
      "Divorced\n",
      "Widowed\n",
      "\n",
      "Current feature: has_children\n",
      "0\n",
      "1\n",
      "\n",
      "Current feature: education\n",
      "Some college - no degree\n",
      "Bachelors degree\n",
      "Graduate degree (Masters or Doctorate)\n",
      "Associates degree\n",
      "High School Graduate\n",
      "Some High School\n",
      "\n",
      "Current feature: occupation\n",
      "Unemployed\n",
      "Student\n",
      "Computer & Mathematical\n",
      "Sales & Related\n",
      "Education&Training&Library\n",
      "Management\n",
      "Office & Administrative Support\n",
      "Arts Design Entertainment Sports & Media\n",
      "Business & Financial\n",
      "Retired\n",
      "Food Preparation & Serving Related\n",
      "Healthcare Practitioners & Technical\n",
      "Healthcare Support\n",
      "Community & Social Services\n",
      "Legal\n",
      "Transportation & Material Moving\n",
      "Protective Service\n",
      "Personal Care & Service\n",
      "Architecture & Engineering\n",
      "Life Physical Social Science\n",
      "Construction & Extraction\n",
      "Installation Maintenance & Repair\n",
      "Production Occupations\n",
      "Building & Grounds Cleaning & Maintenance\n",
      "Farming Fishing & Forestry\n",
      "\n",
      "Current feature: income\n",
      "$25000 - $37499\n",
      "$12500 - $24999\n",
      "$37500 - $49999\n",
      "$100000 or More\n",
      "$50000 - $62499\n",
      "Less than $12500\n",
      "$87500 - $99999\n",
      "$75000 - $87499\n",
      "$62500 - $74999\n",
      "\n",
      "Current feature: car\n",
      "nan\n",
      "Mazda5\n",
      "do not drive\n",
      "Scooter and motorcycle\n",
      "crossover\n",
      "Car that is too old to install Onstar :D\n",
      "\n",
      "Current feature: Bar\n",
      "never\n",
      "less1\n",
      "1~3\n",
      "4~8\n",
      "gt8\n",
      "\n",
      "Current feature: CoffeeHouse\n",
      "less1\n",
      "1~3\n",
      "never\n",
      "4~8\n",
      "gt8\n",
      "\n",
      "Current feature: CarryAway\n",
      "1~3\n",
      "4~8\n",
      "less1\n",
      "gt8\n",
      "never\n",
      "\n",
      "Current feature: RestaurantLessThan20\n",
      "1~3\n",
      "4~8\n",
      "less1\n",
      "gt8\n",
      "never\n",
      "\n",
      "Current feature: Restaurant20To50\n",
      "less1\n",
      "1~3\n",
      "never\n",
      "4~8\n",
      "gt8\n",
      "\n",
      "Current feature: toCoupon_GEQ5min\n",
      "1\n",
      "\n",
      "Current feature: toCoupon_GEQ15min\n",
      "1\n",
      "0\n",
      "\n",
      "Current feature: toCoupon_GEQ25min\n",
      "0\n",
      "1\n",
      "\n",
      "Current feature: direction_same\n",
      "0\n",
      "1\n",
      "\n",
      "Current feature: direction_opp\n",
      "1\n",
      "0\n",
      "\n",
      "Current feature: Y\n",
      "1\n",
      "0\n",
      "\n",
      "Index(['destination', 'passenger', 'weather', 'time', 'coupon', 'expiration',\n",
      "       'gender', 'age', 'maritalStatus', 'education', 'occupation', 'income',\n",
      "       'car', 'Bar', 'CoffeeHouse', 'CarryAway', 'RestaurantLessThan20',\n",
      "       'Restaurant20To50'],\n",
      "      dtype='object')\n"
     ]
    }
   ],
   "source": [
    "dfOHE = df\n",
    "featuresToBeOHE = df.columns.drop('temperature')\n",
    "\n",
    "for feature in featuresToBeOHE:\n",
    "    print('Current feature: ' + feature)\n",
    "    valueArray = df[feature].value_counts(dropna=False).index\n",
    "    for value in valueArray:\n",
    "        print(value)\n",
    "    print()\n",
    "\n",
    "featuresToBeOHE = featuresToBeOHE.drop(labels=['has_children', 'toCoupon_GEQ5min', 'toCoupon_GEQ15min', 'toCoupon_GEQ25min', 'direction_same', 'direction_opp', 'Y'])\n",
    "print(featuresToBeOHE)"
   ],
   "metadata": {
    "collapsed": false,
    "pycharm": {
     "name": "#%%\n"
    }
   }
  },
  {
   "cell_type": "code",
   "execution_count": 12,
   "outputs": [
    {
     "data": {
      "text/plain": "   temperature  has_children  toCoupon_GEQ5min  toCoupon_GEQ15min  \\\n0           55             1                 1                  0   \n1           80             1                 1                  0   \n2           80             1                 1                  1   \n3           80             1                 1                  1   \n4           80             1                 1                  1   \n\n   toCoupon_GEQ25min  direction_same  direction_opp  destination_IS_Home  \\\n0                  0               0              1                    0   \n1                  0               0              1                    0   \n2                  0               0              1                    0   \n3                  0               0              1                    0   \n4                  0               0              1                    0   \n\n   destination_IS_No Urgent Place  destination_IS_Work  ...  \\\n0                               1                    0  ...   \n1                               1                    0  ...   \n2                               1                    0  ...   \n3                               1                    0  ...   \n4                               1                    0  ...   \n\n   RestaurantLessThan20_IS_4~8  RestaurantLessThan20_IS_gt8  \\\n0                            1                            0   \n1                            1                            0   \n2                            1                            0   \n3                            1                            0   \n4                            1                            0   \n\n   RestaurantLessThan20_IS_less1  RestaurantLessThan20_IS_never  \\\n0                              0                              0   \n1                              0                              0   \n2                              0                              0   \n3                              0                              0   \n4                              0                              0   \n\n   Restaurant20To50_IS_1~3  Restaurant20To50_IS_4~8  Restaurant20To50_IS_gt8  \\\n0                        1                        0                        0   \n1                        1                        0                        0   \n2                        1                        0                        0   \n3                        1                        0                        0   \n4                        1                        0                        0   \n\n   Restaurant20To50_IS_less1  Restaurant20To50_IS_never  Y  \n0                          0                          0  1  \n1                          0                          0  0  \n2                          0                          0  1  \n3                          0                          0  0  \n4                          0                          0  0  \n\n[5 rows x 115 columns]",
      "text/html": "<div>\n<style scoped>\n    .dataframe tbody tr th:only-of-type {\n        vertical-align: middle;\n    }\n\n    .dataframe tbody tr th {\n        vertical-align: top;\n    }\n\n    .dataframe thead th {\n        text-align: right;\n    }\n</style>\n<table border=\"1\" class=\"dataframe\">\n  <thead>\n    <tr style=\"text-align: right;\">\n      <th></th>\n      <th>temperature</th>\n      <th>has_children</th>\n      <th>toCoupon_GEQ5min</th>\n      <th>toCoupon_GEQ15min</th>\n      <th>toCoupon_GEQ25min</th>\n      <th>direction_same</th>\n      <th>direction_opp</th>\n      <th>destination_IS_Home</th>\n      <th>destination_IS_No Urgent Place</th>\n      <th>destination_IS_Work</th>\n      <th>...</th>\n      <th>RestaurantLessThan20_IS_4~8</th>\n      <th>RestaurantLessThan20_IS_gt8</th>\n      <th>RestaurantLessThan20_IS_less1</th>\n      <th>RestaurantLessThan20_IS_never</th>\n      <th>Restaurant20To50_IS_1~3</th>\n      <th>Restaurant20To50_IS_4~8</th>\n      <th>Restaurant20To50_IS_gt8</th>\n      <th>Restaurant20To50_IS_less1</th>\n      <th>Restaurant20To50_IS_never</th>\n      <th>Y</th>\n    </tr>\n  </thead>\n  <tbody>\n    <tr>\n      <th>0</th>\n      <td>55</td>\n      <td>1</td>\n      <td>1</td>\n      <td>0</td>\n      <td>0</td>\n      <td>0</td>\n      <td>1</td>\n      <td>0</td>\n      <td>1</td>\n      <td>0</td>\n      <td>...</td>\n      <td>1</td>\n      <td>0</td>\n      <td>0</td>\n      <td>0</td>\n      <td>1</td>\n      <td>0</td>\n      <td>0</td>\n      <td>0</td>\n      <td>0</td>\n      <td>1</td>\n    </tr>\n    <tr>\n      <th>1</th>\n      <td>80</td>\n      <td>1</td>\n      <td>1</td>\n      <td>0</td>\n      <td>0</td>\n      <td>0</td>\n      <td>1</td>\n      <td>0</td>\n      <td>1</td>\n      <td>0</td>\n      <td>...</td>\n      <td>1</td>\n      <td>0</td>\n      <td>0</td>\n      <td>0</td>\n      <td>1</td>\n      <td>0</td>\n      <td>0</td>\n      <td>0</td>\n      <td>0</td>\n      <td>0</td>\n    </tr>\n    <tr>\n      <th>2</th>\n      <td>80</td>\n      <td>1</td>\n      <td>1</td>\n      <td>1</td>\n      <td>0</td>\n      <td>0</td>\n      <td>1</td>\n      <td>0</td>\n      <td>1</td>\n      <td>0</td>\n      <td>...</td>\n      <td>1</td>\n      <td>0</td>\n      <td>0</td>\n      <td>0</td>\n      <td>1</td>\n      <td>0</td>\n      <td>0</td>\n      <td>0</td>\n      <td>0</td>\n      <td>1</td>\n    </tr>\n    <tr>\n      <th>3</th>\n      <td>80</td>\n      <td>1</td>\n      <td>1</td>\n      <td>1</td>\n      <td>0</td>\n      <td>0</td>\n      <td>1</td>\n      <td>0</td>\n      <td>1</td>\n      <td>0</td>\n      <td>...</td>\n      <td>1</td>\n      <td>0</td>\n      <td>0</td>\n      <td>0</td>\n      <td>1</td>\n      <td>0</td>\n      <td>0</td>\n      <td>0</td>\n      <td>0</td>\n      <td>0</td>\n    </tr>\n    <tr>\n      <th>4</th>\n      <td>80</td>\n      <td>1</td>\n      <td>1</td>\n      <td>1</td>\n      <td>0</td>\n      <td>0</td>\n      <td>1</td>\n      <td>0</td>\n      <td>1</td>\n      <td>0</td>\n      <td>...</td>\n      <td>1</td>\n      <td>0</td>\n      <td>0</td>\n      <td>0</td>\n      <td>1</td>\n      <td>0</td>\n      <td>0</td>\n      <td>0</td>\n      <td>0</td>\n      <td>0</td>\n    </tr>\n  </tbody>\n</table>\n<p>5 rows × 115 columns</p>\n</div>"
     },
     "execution_count": 12,
     "metadata": {},
     "output_type": "execute_result"
    }
   ],
   "source": [
    "dfOHE = pd.get_dummies(dfOHE, prefix_sep='_IS_', columns=featuresToBeOHE, dummy_na=False)\n",
    "buffer = dfOHE.pop('Y')\n",
    "dfOHE['Y'] = buffer\n",
    "dfOHE.head()\n"
   ],
   "metadata": {
    "collapsed": false,
    "pycharm": {
     "name": "#%%\n"
    }
   }
  },
  {
   "cell_type": "markdown",
   "source": [
    "## Train-Test-Split"
   ],
   "metadata": {
    "collapsed": false
   }
  },
  {
   "cell_type": "code",
   "execution_count": 13,
   "outputs": [],
   "source": [
    "df_train, df_test = train_test_split(dfOHE, random_state=257)\n",
    "X_train = df_train.drop(columns=['Y'])\n",
    "y_train = df_train['Y']\n",
    "\n",
    "df_test = df_test.dropna()\n",
    "X_test = df_test.drop(columns=['Y'])\n",
    "y_test = df_test['Y']"
   ],
   "metadata": {
    "collapsed": false,
    "pycharm": {
     "name": "#%%\n"
    }
   }
  },
  {
   "cell_type": "markdown",
   "source": [
    "## Run autoML pipeline"
   ],
   "metadata": {
    "collapsed": false,
    "pycharm": {
     "name": "#%% md\n"
    }
   }
  },
  {
   "cell_type": "code",
   "execution_count": 14,
   "outputs": [
    {
     "data": {
      "text/plain": "Optimization Progress:   0%|          | 0/120 [00:00<?, ?pipeline/s]",
      "application/vnd.jupyter.widget-view+json": {
       "version_major": 2,
       "version_minor": 0,
       "model_id": "a3cb0a3ed4f7472fb20f79b5d55b2aa7"
      }
     },
     "metadata": {},
     "output_type": "display_data"
    },
    {
     "name": "stdout",
     "output_type": "stream",
     "text": [
      "\n",
      "Generation 1 - Current best internal CV score: 0.736886138605655\n",
      "\n",
      "Generation 2 - Current best internal CV score: 0.7447699768973998\n",
      "\n",
      "Generation 3 - Current best internal CV score: 0.7447699768973998\n",
      "\n",
      "Generation 4 - Current best internal CV score: 0.7463465456335754\n",
      "\n",
      "Generation 5 - Current best internal CV score: 0.7463465456335754\n",
      "\n",
      "Best pipeline: ExtraTreesClassifier(RandomForestClassifier(input_matrix, bootstrap=False, criterion=entropy, max_features=0.1, min_samples_leaf=2, min_samples_split=10, n_estimators=100), bootstrap=False, criterion=gini, max_features=0.7500000000000001, min_samples_leaf=14, min_samples_split=4, n_estimators=100)\n"
     ]
    },
    {
     "data": {
      "text/plain": "TPOTClassifier(generations=5, population_size=20, random_state=257, verbosity=2)"
     },
     "execution_count": 14,
     "metadata": {},
     "output_type": "execute_result"
    }
   ],
   "source": [
    "pipeline_optimizer.fit(X_train, y_train)"
   ],
   "metadata": {
    "collapsed": false,
    "pycharm": {
     "name": "#%%\n"
    }
   }
  },
  {
   "cell_type": "code",
   "execution_count": 15,
   "outputs": [
    {
     "name": "stdout",
     "output_type": "stream",
     "text": [
      "0.7584358246609902\n"
     ]
    }
   ],
   "source": [
    "print(pipeline_optimizer.score(X_test, y_test))"
   ],
   "metadata": {
    "collapsed": false,
    "pycharm": {
     "name": "#%%\n"
    }
   }
  },
  {
   "cell_type": "code",
   "execution_count": 16,
   "outputs": [],
   "source": [
    "pipeline_optimizer.export('tpot_exported_pipeline.py')"
   ],
   "metadata": {
    "collapsed": false,
    "pycharm": {
     "name": "#%%\n"
    }
   }
  }
 ],
 "metadata": {
  "kernelspec": {
   "display_name": "Python 3",
   "language": "python",
   "name": "python3"
  },
  "language_info": {
   "codemirror_mode": {
    "name": "ipython",
    "version": 2
   },
   "file_extension": ".py",
   "mimetype": "text/x-python",
   "name": "python",
   "nbconvert_exporter": "python",
   "pygments_lexer": "ipython2",
   "version": "2.7.6"
  }
 },
 "nbformat": 4,
 "nbformat_minor": 0
}