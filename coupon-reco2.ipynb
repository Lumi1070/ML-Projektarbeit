{
 "cells": [
  {
   "cell_type": "markdown",
   "metadata": {
    "collapsed": true,
    "pycharm": {
     "name": "#%% md\n"
    }
   },
   "source": [
    "## Imports"
   ]
  },
  {
   "cell_type": "code",
   "execution_count": 1,
   "metadata": {
    "pycharm": {
     "name": "#%%\n"
    }
   },
   "outputs": [],
   "source": [
    "import pandas as pd\n",
    "import numpy as np\n",
    "import seaborn as sns\n",
    "import matplotlib.pyplot as plt\n",
    "\n",
    "from sklearn.model_selection import train_test_split\n",
    "from sklearn.preprocessing import StandardScaler\n",
    "\n",
    "from sklearn.feature_selection import SelectKBest\n",
    "from sklearn.feature_selection import chi2\n",
    "\n",
    "from sklearn.ensemble import ExtraTreesClassifier\n",
    "\n",
    "from sklearn.model_selection import GridSearchCV\n",
    "from sklearn.linear_model import LogisticRegression\n",
    "from sklearn.ensemble import RandomForestClassifier\n",
    "from sklearn.ensemble import GradientBoostingClassifier\n",
    "from sklearn.metrics import accuracy_score, precision_score, recall_score, f1_score\n",
    "from sklearn.metrics import roc_curve, roc_auc_score, precision_recall_curve, auc"
   ]
  },
  {
   "cell_type": "markdown",
   "metadata": {},
   "source": [
    "## Load dataset"
   ]
  },
  {
   "cell_type": "code",
   "execution_count": 2,
   "metadata": {
    "pycharm": {
     "name": "#%%\n"
    }
   },
   "outputs": [
    {
     "data": {
      "text/plain": "['destination',\n 'passanger',\n 'weather',\n 'temperature',\n 'time',\n 'coupon',\n 'expiration',\n 'gender',\n 'age',\n 'maritalStatus',\n 'has_children',\n 'education',\n 'occupation',\n 'income',\n 'car',\n 'Bar',\n 'CoffeeHouse',\n 'CarryAway',\n 'RestaurantLessThan20',\n 'Restaurant20To50',\n 'toCoupon_GEQ5min',\n 'toCoupon_GEQ15min',\n 'toCoupon_GEQ25min',\n 'direction_same',\n 'direction_opp',\n 'Y']"
     },
     "metadata": {},
     "output_type": "display_data"
    },
    {
     "data": {
      "text/plain": "           destination  passenger weather  temperature  time  \\\n0      No Urgent Place      Alone   Sunny           55   2PM   \n1      No Urgent Place  Friend(s)   Sunny           80  10AM   \n2      No Urgent Place  Friend(s)   Sunny           80  10AM   \n3      No Urgent Place  Friend(s)   Sunny           80   2PM   \n4      No Urgent Place  Friend(s)   Sunny           80   2PM   \n...                ...        ...     ...          ...   ...   \n12679             Home    Partner   Rainy           55   6PM   \n12680             Work      Alone   Rainy           55   7AM   \n12681             Work      Alone   Snowy           30   7AM   \n12682             Work      Alone   Snowy           30   7AM   \n12683             Work      Alone   Sunny           80   7AM   \n\n                      coupon expiration  gender age      maritalStatus  ...  \\\n0            Restaurant(<20)         1d  Female  21  Unmarried partner  ...   \n1               Coffee House         2h  Female  21  Unmarried partner  ...   \n2      Carry out & Take away         2h  Female  21  Unmarried partner  ...   \n3               Coffee House         2h  Female  21  Unmarried partner  ...   \n4               Coffee House         1d  Female  21  Unmarried partner  ...   \n...                      ...        ...     ...  ..                ...  ...   \n12679  Carry out & Take away         1d    Male  26             Single  ...   \n12680  Carry out & Take away         1d    Male  26             Single  ...   \n12681           Coffee House         1d    Male  26             Single  ...   \n12682                    Bar         1d    Male  26             Single  ...   \n12683      Restaurant(20-50)         2h    Male  26             Single  ...   \n\n       CoffeeHouse CarryAway RestaurantLessThan20 Restaurant20To50  \\\n0            never       NaN                  4~8              1~3   \n1            never       NaN                  4~8              1~3   \n2            never       NaN                  4~8              1~3   \n3            never       NaN                  4~8              1~3   \n4            never       NaN                  4~8              1~3   \n...            ...       ...                  ...              ...   \n12679        never       1~3                  4~8              1~3   \n12680        never       1~3                  4~8              1~3   \n12681        never       1~3                  4~8              1~3   \n12682        never       1~3                  4~8              1~3   \n12683        never       1~3                  4~8              1~3   \n\n      toCoupon_GEQ5min toCoupon_GEQ15min toCoupon_GEQ25min direction_same  \\\n0                    1                 0                 0              0   \n1                    1                 0                 0              0   \n2                    1                 1                 0              0   \n3                    1                 1                 0              0   \n4                    1                 1                 0              0   \n...                ...               ...               ...            ...   \n12679                1                 0                 0              1   \n12680                1                 0                 0              0   \n12681                1                 0                 0              1   \n12682                1                 1                 1              0   \n12683                1                 0                 0              1   \n\n      direction_opp  Y  \n0                 1  1  \n1                 1  0  \n2                 1  1  \n3                 1  0  \n4                 1  0  \n...             ... ..  \n12679             0  1  \n12680             1  1  \n12681             0  0  \n12682             1  0  \n12683             0  0  \n\n[12684 rows x 26 columns]",
      "text/html": "<div>\n<style scoped>\n    .dataframe tbody tr th:only-of-type {\n        vertical-align: middle;\n    }\n\n    .dataframe tbody tr th {\n        vertical-align: top;\n    }\n\n    .dataframe thead th {\n        text-align: right;\n    }\n</style>\n<table border=\"1\" class=\"dataframe\">\n  <thead>\n    <tr style=\"text-align: right;\">\n      <th></th>\n      <th>destination</th>\n      <th>passenger</th>\n      <th>weather</th>\n      <th>temperature</th>\n      <th>time</th>\n      <th>coupon</th>\n      <th>expiration</th>\n      <th>gender</th>\n      <th>age</th>\n      <th>maritalStatus</th>\n      <th>...</th>\n      <th>CoffeeHouse</th>\n      <th>CarryAway</th>\n      <th>RestaurantLessThan20</th>\n      <th>Restaurant20To50</th>\n      <th>toCoupon_GEQ5min</th>\n      <th>toCoupon_GEQ15min</th>\n      <th>toCoupon_GEQ25min</th>\n      <th>direction_same</th>\n      <th>direction_opp</th>\n      <th>Y</th>\n    </tr>\n  </thead>\n  <tbody>\n    <tr>\n      <th>0</th>\n      <td>No Urgent Place</td>\n      <td>Alone</td>\n      <td>Sunny</td>\n      <td>55</td>\n      <td>2PM</td>\n      <td>Restaurant(&lt;20)</td>\n      <td>1d</td>\n      <td>Female</td>\n      <td>21</td>\n      <td>Unmarried partner</td>\n      <td>...</td>\n      <td>never</td>\n      <td>NaN</td>\n      <td>4~8</td>\n      <td>1~3</td>\n      <td>1</td>\n      <td>0</td>\n      <td>0</td>\n      <td>0</td>\n      <td>1</td>\n      <td>1</td>\n    </tr>\n    <tr>\n      <th>1</th>\n      <td>No Urgent Place</td>\n      <td>Friend(s)</td>\n      <td>Sunny</td>\n      <td>80</td>\n      <td>10AM</td>\n      <td>Coffee House</td>\n      <td>2h</td>\n      <td>Female</td>\n      <td>21</td>\n      <td>Unmarried partner</td>\n      <td>...</td>\n      <td>never</td>\n      <td>NaN</td>\n      <td>4~8</td>\n      <td>1~3</td>\n      <td>1</td>\n      <td>0</td>\n      <td>0</td>\n      <td>0</td>\n      <td>1</td>\n      <td>0</td>\n    </tr>\n    <tr>\n      <th>2</th>\n      <td>No Urgent Place</td>\n      <td>Friend(s)</td>\n      <td>Sunny</td>\n      <td>80</td>\n      <td>10AM</td>\n      <td>Carry out &amp; Take away</td>\n      <td>2h</td>\n      <td>Female</td>\n      <td>21</td>\n      <td>Unmarried partner</td>\n      <td>...</td>\n      <td>never</td>\n      <td>NaN</td>\n      <td>4~8</td>\n      <td>1~3</td>\n      <td>1</td>\n      <td>1</td>\n      <td>0</td>\n      <td>0</td>\n      <td>1</td>\n      <td>1</td>\n    </tr>\n    <tr>\n      <th>3</th>\n      <td>No Urgent Place</td>\n      <td>Friend(s)</td>\n      <td>Sunny</td>\n      <td>80</td>\n      <td>2PM</td>\n      <td>Coffee House</td>\n      <td>2h</td>\n      <td>Female</td>\n      <td>21</td>\n      <td>Unmarried partner</td>\n      <td>...</td>\n      <td>never</td>\n      <td>NaN</td>\n      <td>4~8</td>\n      <td>1~3</td>\n      <td>1</td>\n      <td>1</td>\n      <td>0</td>\n      <td>0</td>\n      <td>1</td>\n      <td>0</td>\n    </tr>\n    <tr>\n      <th>4</th>\n      <td>No Urgent Place</td>\n      <td>Friend(s)</td>\n      <td>Sunny</td>\n      <td>80</td>\n      <td>2PM</td>\n      <td>Coffee House</td>\n      <td>1d</td>\n      <td>Female</td>\n      <td>21</td>\n      <td>Unmarried partner</td>\n      <td>...</td>\n      <td>never</td>\n      <td>NaN</td>\n      <td>4~8</td>\n      <td>1~3</td>\n      <td>1</td>\n      <td>1</td>\n      <td>0</td>\n      <td>0</td>\n      <td>1</td>\n      <td>0</td>\n    </tr>\n    <tr>\n      <th>...</th>\n      <td>...</td>\n      <td>...</td>\n      <td>...</td>\n      <td>...</td>\n      <td>...</td>\n      <td>...</td>\n      <td>...</td>\n      <td>...</td>\n      <td>...</td>\n      <td>...</td>\n      <td>...</td>\n      <td>...</td>\n      <td>...</td>\n      <td>...</td>\n      <td>...</td>\n      <td>...</td>\n      <td>...</td>\n      <td>...</td>\n      <td>...</td>\n      <td>...</td>\n      <td>...</td>\n    </tr>\n    <tr>\n      <th>12679</th>\n      <td>Home</td>\n      <td>Partner</td>\n      <td>Rainy</td>\n      <td>55</td>\n      <td>6PM</td>\n      <td>Carry out &amp; Take away</td>\n      <td>1d</td>\n      <td>Male</td>\n      <td>26</td>\n      <td>Single</td>\n      <td>...</td>\n      <td>never</td>\n      <td>1~3</td>\n      <td>4~8</td>\n      <td>1~3</td>\n      <td>1</td>\n      <td>0</td>\n      <td>0</td>\n      <td>1</td>\n      <td>0</td>\n      <td>1</td>\n    </tr>\n    <tr>\n      <th>12680</th>\n      <td>Work</td>\n      <td>Alone</td>\n      <td>Rainy</td>\n      <td>55</td>\n      <td>7AM</td>\n      <td>Carry out &amp; Take away</td>\n      <td>1d</td>\n      <td>Male</td>\n      <td>26</td>\n      <td>Single</td>\n      <td>...</td>\n      <td>never</td>\n      <td>1~3</td>\n      <td>4~8</td>\n      <td>1~3</td>\n      <td>1</td>\n      <td>0</td>\n      <td>0</td>\n      <td>0</td>\n      <td>1</td>\n      <td>1</td>\n    </tr>\n    <tr>\n      <th>12681</th>\n      <td>Work</td>\n      <td>Alone</td>\n      <td>Snowy</td>\n      <td>30</td>\n      <td>7AM</td>\n      <td>Coffee House</td>\n      <td>1d</td>\n      <td>Male</td>\n      <td>26</td>\n      <td>Single</td>\n      <td>...</td>\n      <td>never</td>\n      <td>1~3</td>\n      <td>4~8</td>\n      <td>1~3</td>\n      <td>1</td>\n      <td>0</td>\n      <td>0</td>\n      <td>1</td>\n      <td>0</td>\n      <td>0</td>\n    </tr>\n    <tr>\n      <th>12682</th>\n      <td>Work</td>\n      <td>Alone</td>\n      <td>Snowy</td>\n      <td>30</td>\n      <td>7AM</td>\n      <td>Bar</td>\n      <td>1d</td>\n      <td>Male</td>\n      <td>26</td>\n      <td>Single</td>\n      <td>...</td>\n      <td>never</td>\n      <td>1~3</td>\n      <td>4~8</td>\n      <td>1~3</td>\n      <td>1</td>\n      <td>1</td>\n      <td>1</td>\n      <td>0</td>\n      <td>1</td>\n      <td>0</td>\n    </tr>\n    <tr>\n      <th>12683</th>\n      <td>Work</td>\n      <td>Alone</td>\n      <td>Sunny</td>\n      <td>80</td>\n      <td>7AM</td>\n      <td>Restaurant(20-50)</td>\n      <td>2h</td>\n      <td>Male</td>\n      <td>26</td>\n      <td>Single</td>\n      <td>...</td>\n      <td>never</td>\n      <td>1~3</td>\n      <td>4~8</td>\n      <td>1~3</td>\n      <td>1</td>\n      <td>0</td>\n      <td>0</td>\n      <td>1</td>\n      <td>0</td>\n      <td>0</td>\n    </tr>\n  </tbody>\n</table>\n<p>12684 rows × 26 columns</p>\n</div>"
     },
     "execution_count": 2,
     "metadata": {},
     "output_type": "execute_result"
    }
   ],
   "source": [
    "df = pd.read_csv('in-vehicle-coupon-recommendation.csv')\n",
    "display(list(df.columns.values))\n",
    "df.rename(columns={\"passanger\": \"passenger\"}, inplace=True)\n",
    "df"
   ]
  },
  {
   "cell_type": "markdown",
   "metadata": {},
   "source": [
    "## Fill missing values in data\n",
    "- Count NAs per column\n",
    "- Make a list of columns containing NAs\n",
    "- Do not list columns containing more than 50% NAs<br>(insufficient data for replacement)\n",
    "- Replace NAs with mode in all listed columns\n",
    "\n",
    "(only to be used for categorical features,<br>numerical ones would require selecting the mean)"
   ]
  },
  {
   "cell_type": "code",
   "execution_count": 3,
   "metadata": {
    "pycharm": {
     "name": "#%%\n"
    }
   },
   "outputs": [
    {
     "data": {
      "text/plain": "destination                 0\npassenger                   0\nweather                     0\ntemperature                 0\ntime                        0\ncoupon                      0\nexpiration                  0\ngender                      0\nage                         0\nmaritalStatus               0\nhas_children                0\neducation                   0\noccupation                  0\nincome                      0\ncar                     12576\nBar                       107\nCoffeeHouse               217\nCarryAway                 151\nRestaurantLessThan20      130\nRestaurant20To50          189\ntoCoupon_GEQ5min            0\ntoCoupon_GEQ15min           0\ntoCoupon_GEQ25min           0\ndirection_same              0\ndirection_opp               0\nY                           0\ndtype: int64"
     },
     "execution_count": 3,
     "metadata": {},
     "output_type": "execute_result"
    }
   ],
   "source": [
    "df.isna().sum()"
   ]
  },
  {
   "cell_type": "code",
   "execution_count": 4,
   "metadata": {
    "pycharm": {
     "name": "#%%\n"
    }
   },
   "outputs": [
    {
     "name": "stdout",
     "output_type": "stream",
     "text": [
      "['Bar', 'CoffeeHouse', 'CarryAway', 'RestaurantLessThan20', 'Restaurant20To50']\n",
      "Column is: Bar\n",
      "Mode is: never\n",
      "\n",
      "Column is: CoffeeHouse\n",
      "Mode is: less1\n",
      "\n",
      "Column is: CarryAway\n",
      "Mode is: 1~3\n",
      "\n",
      "Column is: RestaurantLessThan20\n",
      "Mode is: 1~3\n",
      "\n",
      "Column is: Restaurant20To50\n",
      "Mode is: less1\n",
      "\n"
     ]
    },
    {
     "data": {
      "text/plain": "destination                 0\npassenger                   0\nweather                     0\ntemperature                 0\ntime                        0\ncoupon                      0\nexpiration                  0\ngender                      0\nage                         0\nmaritalStatus               0\nhas_children                0\neducation                   0\noccupation                  0\nincome                      0\ncar                     12576\nBar                         0\nCoffeeHouse                 0\nCarryAway                   0\nRestaurantLessThan20        0\nRestaurant20To50            0\ntoCoupon_GEQ5min            0\ntoCoupon_GEQ15min           0\ntoCoupon_GEQ25min           0\ndirection_same              0\ndirection_opp               0\nY                           0\ndtype: int64"
     },
     "execution_count": 4,
     "metadata": {},
     "output_type": "execute_result"
    }
   ],
   "source": [
    "columns_withNA = []\n",
    "\n",
    "for index, value in df.isna().sum().items():\n",
    "    if value>0 and value < (df.shape[0] / 2):\n",
    "        columns_withNA.append(index)\n",
    "print(columns_withNA)\n",
    "\n",
    "for column in columns_withNA:\n",
    "    print('Column is: ' + column)\n",
    "    print('Mode is: ' + df[column].mode()[0])\n",
    "    print()\n",
    "    df[column] = df[column].fillna( df[column].mode()[0])\n",
    "\n",
    "df.isna().sum()"
   ]
  },
  {
   "cell_type": "markdown",
   "metadata": {
    "pycharm": {
     "name": "#%% md\n"
    }
   },
   "source": [
    "## One-hot-encoding\n",
    "- make a list of all categorical features\n",
    "- get an overview of occurring values\n",
    "- drop all binary labeled features (already OHE)\n",
    "- for each feature create new columns, one for each distinct value using pd.get_dummies()<br>\n",
    "'FEATURE_IS_VALUE' (e.g. 'destination_IS_Home')"
   ]
  },
  {
   "cell_type": "code",
   "execution_count": 5,
   "metadata": {
    "pycharm": {
     "name": "#%%\n"
    }
   },
   "outputs": [
    {
     "name": "stdout",
     "output_type": "stream",
     "text": [
      "Current feature: destination\n",
      "No Urgent Place\n",
      "Home\n",
      "Work\n",
      "\n",
      "Current feature: passenger\n",
      "Alone\n",
      "Friend(s)\n",
      "Partner\n",
      "Kid(s)\n",
      "\n",
      "Current feature: weather\n",
      "Sunny\n",
      "Snowy\n",
      "Rainy\n",
      "\n",
      "Current feature: time\n",
      "6PM\n",
      "7AM\n",
      "10AM\n",
      "2PM\n",
      "10PM\n",
      "\n",
      "Current feature: coupon\n",
      "Coffee House\n",
      "Restaurant(<20)\n",
      "Carry out & Take away\n",
      "Bar\n",
      "Restaurant(20-50)\n",
      "\n",
      "Current feature: expiration\n",
      "1d\n",
      "2h\n",
      "\n",
      "Current feature: gender\n",
      "Female\n",
      "Male\n",
      "\n",
      "Current feature: age\n",
      "21\n",
      "26\n",
      "31\n",
      "50plus\n",
      "36\n",
      "41\n",
      "46\n",
      "below21\n",
      "\n",
      "Current feature: maritalStatus\n",
      "Married partner\n",
      "Single\n",
      "Unmarried partner\n",
      "Divorced\n",
      "Widowed\n",
      "\n",
      "Current feature: has_children\n",
      "0\n",
      "1\n",
      "\n",
      "Current feature: education\n",
      "Some college - no degree\n",
      "Bachelors degree\n",
      "Graduate degree (Masters or Doctorate)\n",
      "Associates degree\n",
      "High School Graduate\n",
      "Some High School\n",
      "\n",
      "Current feature: occupation\n",
      "Unemployed\n",
      "Student\n",
      "Computer & Mathematical\n",
      "Sales & Related\n",
      "Education&Training&Library\n",
      "Management\n",
      "Office & Administrative Support\n",
      "Arts Design Entertainment Sports & Media\n",
      "Business & Financial\n",
      "Retired\n",
      "Food Preparation & Serving Related\n",
      "Healthcare Practitioners & Technical\n",
      "Healthcare Support\n",
      "Community & Social Services\n",
      "Legal\n",
      "Transportation & Material Moving\n",
      "Personal Care & Service\n",
      "Protective Service\n",
      "Architecture & Engineering\n",
      "Life Physical Social Science\n",
      "Construction & Extraction\n",
      "Installation Maintenance & Repair\n",
      "Production Occupations\n",
      "Building & Grounds Cleaning & Maintenance\n",
      "Farming Fishing & Forestry\n",
      "\n",
      "Current feature: income\n",
      "$25000 - $37499\n",
      "$12500 - $24999\n",
      "$37500 - $49999\n",
      "$100000 or More\n",
      "$50000 - $62499\n",
      "Less than $12500\n",
      "$87500 - $99999\n",
      "$75000 - $87499\n",
      "$62500 - $74999\n",
      "\n",
      "Current feature: car\n",
      "nan\n",
      "do not drive\n",
      "Mazda5\n",
      "Scooter and motorcycle\n",
      "Car that is too old to install Onstar :D\n",
      "crossover\n",
      "\n",
      "Current feature: Bar\n",
      "never\n",
      "less1\n",
      "1~3\n",
      "4~8\n",
      "gt8\n",
      "\n",
      "Current feature: CoffeeHouse\n",
      "less1\n",
      "1~3\n",
      "never\n",
      "4~8\n",
      "gt8\n",
      "\n",
      "Current feature: CarryAway\n",
      "1~3\n",
      "4~8\n",
      "less1\n",
      "gt8\n",
      "never\n",
      "\n",
      "Current feature: RestaurantLessThan20\n",
      "1~3\n",
      "4~8\n",
      "less1\n",
      "gt8\n",
      "never\n",
      "\n",
      "Current feature: Restaurant20To50\n",
      "less1\n",
      "1~3\n",
      "never\n",
      "4~8\n",
      "gt8\n",
      "\n",
      "Current feature: toCoupon_GEQ5min\n",
      "1\n",
      "\n",
      "Current feature: toCoupon_GEQ15min\n",
      "1\n",
      "0\n",
      "\n",
      "Current feature: toCoupon_GEQ25min\n",
      "0\n",
      "1\n",
      "\n",
      "Current feature: direction_same\n",
      "0\n",
      "1\n",
      "\n",
      "Current feature: direction_opp\n",
      "1\n",
      "0\n",
      "\n",
      "Current feature: Y\n",
      "1\n",
      "0\n",
      "\n",
      "Index(['destination', 'passenger', 'weather', 'time', 'coupon', 'expiration',\n",
      "       'gender', 'age', 'maritalStatus', 'education', 'occupation', 'income',\n",
      "       'car', 'Bar', 'CoffeeHouse', 'CarryAway', 'RestaurantLessThan20',\n",
      "       'Restaurant20To50'],\n",
      "      dtype='object')\n"
     ]
    }
   ],
   "source": [
    "dfOHE = df\n",
    "featuresToBeOHE = df.columns.drop('temperature')\n",
    "\n",
    "for feature in featuresToBeOHE:\n",
    "    print('Current feature: ' + feature)\n",
    "    valueArray = df[feature].value_counts(dropna=False).index\n",
    "    for value in valueArray:\n",
    "        print(value)\n",
    "    print()\n",
    "\n",
    "featuresToBeOHE = featuresToBeOHE.drop(labels=['has_children', 'toCoupon_GEQ5min', 'toCoupon_GEQ15min', 'toCoupon_GEQ25min', 'direction_same', 'direction_opp', 'Y'])\n",
    "print(featuresToBeOHE)"
   ]
  },
  {
   "cell_type": "code",
   "execution_count": 6,
   "metadata": {
    "pycharm": {
     "name": "#%%\n"
    }
   },
   "outputs": [
    {
     "data": {
      "text/plain": "   temperature  has_children  toCoupon_GEQ5min  toCoupon_GEQ15min  \\\n0           55             1                 1                  0   \n1           80             1                 1                  0   \n2           80             1                 1                  1   \n3           80             1                 1                  1   \n4           80             1                 1                  1   \n\n   toCoupon_GEQ25min  direction_same  direction_opp  destination_IS_Home  \\\n0                  0               0              1                    0   \n1                  0               0              1                    0   \n2                  0               0              1                    0   \n3                  0               0              1                    0   \n4                  0               0              1                    0   \n\n   destination_IS_No Urgent Place  destination_IS_Work  ...  \\\n0                               1                    0  ...   \n1                               1                    0  ...   \n2                               1                    0  ...   \n3                               1                    0  ...   \n4                               1                    0  ...   \n\n   RestaurantLessThan20_IS_4~8  RestaurantLessThan20_IS_gt8  \\\n0                            1                            0   \n1                            1                            0   \n2                            1                            0   \n3                            1                            0   \n4                            1                            0   \n\n   RestaurantLessThan20_IS_less1  RestaurantLessThan20_IS_never  \\\n0                              0                              0   \n1                              0                              0   \n2                              0                              0   \n3                              0                              0   \n4                              0                              0   \n\n   Restaurant20To50_IS_1~3  Restaurant20To50_IS_4~8  Restaurant20To50_IS_gt8  \\\n0                        1                        0                        0   \n1                        1                        0                        0   \n2                        1                        0                        0   \n3                        1                        0                        0   \n4                        1                        0                        0   \n\n   Restaurant20To50_IS_less1  Restaurant20To50_IS_never  Y  \n0                          0                          0  1  \n1                          0                          0  0  \n2                          0                          0  1  \n3                          0                          0  0  \n4                          0                          0  0  \n\n[5 rows x 115 columns]",
      "text/html": "<div>\n<style scoped>\n    .dataframe tbody tr th:only-of-type {\n        vertical-align: middle;\n    }\n\n    .dataframe tbody tr th {\n        vertical-align: top;\n    }\n\n    .dataframe thead th {\n        text-align: right;\n    }\n</style>\n<table border=\"1\" class=\"dataframe\">\n  <thead>\n    <tr style=\"text-align: right;\">\n      <th></th>\n      <th>temperature</th>\n      <th>has_children</th>\n      <th>toCoupon_GEQ5min</th>\n      <th>toCoupon_GEQ15min</th>\n      <th>toCoupon_GEQ25min</th>\n      <th>direction_same</th>\n      <th>direction_opp</th>\n      <th>destination_IS_Home</th>\n      <th>destination_IS_No Urgent Place</th>\n      <th>destination_IS_Work</th>\n      <th>...</th>\n      <th>RestaurantLessThan20_IS_4~8</th>\n      <th>RestaurantLessThan20_IS_gt8</th>\n      <th>RestaurantLessThan20_IS_less1</th>\n      <th>RestaurantLessThan20_IS_never</th>\n      <th>Restaurant20To50_IS_1~3</th>\n      <th>Restaurant20To50_IS_4~8</th>\n      <th>Restaurant20To50_IS_gt8</th>\n      <th>Restaurant20To50_IS_less1</th>\n      <th>Restaurant20To50_IS_never</th>\n      <th>Y</th>\n    </tr>\n  </thead>\n  <tbody>\n    <tr>\n      <th>0</th>\n      <td>55</td>\n      <td>1</td>\n      <td>1</td>\n      <td>0</td>\n      <td>0</td>\n      <td>0</td>\n      <td>1</td>\n      <td>0</td>\n      <td>1</td>\n      <td>0</td>\n      <td>...</td>\n      <td>1</td>\n      <td>0</td>\n      <td>0</td>\n      <td>0</td>\n      <td>1</td>\n      <td>0</td>\n      <td>0</td>\n      <td>0</td>\n      <td>0</td>\n      <td>1</td>\n    </tr>\n    <tr>\n      <th>1</th>\n      <td>80</td>\n      <td>1</td>\n      <td>1</td>\n      <td>0</td>\n      <td>0</td>\n      <td>0</td>\n      <td>1</td>\n      <td>0</td>\n      <td>1</td>\n      <td>0</td>\n      <td>...</td>\n      <td>1</td>\n      <td>0</td>\n      <td>0</td>\n      <td>0</td>\n      <td>1</td>\n      <td>0</td>\n      <td>0</td>\n      <td>0</td>\n      <td>0</td>\n      <td>0</td>\n    </tr>\n    <tr>\n      <th>2</th>\n      <td>80</td>\n      <td>1</td>\n      <td>1</td>\n      <td>1</td>\n      <td>0</td>\n      <td>0</td>\n      <td>1</td>\n      <td>0</td>\n      <td>1</td>\n      <td>0</td>\n      <td>...</td>\n      <td>1</td>\n      <td>0</td>\n      <td>0</td>\n      <td>0</td>\n      <td>1</td>\n      <td>0</td>\n      <td>0</td>\n      <td>0</td>\n      <td>0</td>\n      <td>1</td>\n    </tr>\n    <tr>\n      <th>3</th>\n      <td>80</td>\n      <td>1</td>\n      <td>1</td>\n      <td>1</td>\n      <td>0</td>\n      <td>0</td>\n      <td>1</td>\n      <td>0</td>\n      <td>1</td>\n      <td>0</td>\n      <td>...</td>\n      <td>1</td>\n      <td>0</td>\n      <td>0</td>\n      <td>0</td>\n      <td>1</td>\n      <td>0</td>\n      <td>0</td>\n      <td>0</td>\n      <td>0</td>\n      <td>0</td>\n    </tr>\n    <tr>\n      <th>4</th>\n      <td>80</td>\n      <td>1</td>\n      <td>1</td>\n      <td>1</td>\n      <td>0</td>\n      <td>0</td>\n      <td>1</td>\n      <td>0</td>\n      <td>1</td>\n      <td>0</td>\n      <td>...</td>\n      <td>1</td>\n      <td>0</td>\n      <td>0</td>\n      <td>0</td>\n      <td>1</td>\n      <td>0</td>\n      <td>0</td>\n      <td>0</td>\n      <td>0</td>\n      <td>0</td>\n    </tr>\n  </tbody>\n</table>\n<p>5 rows × 115 columns</p>\n</div>"
     },
     "execution_count": 6,
     "metadata": {},
     "output_type": "execute_result"
    }
   ],
   "source": [
    "dfOHE = pd.get_dummies(dfOHE, prefix_sep='_IS_', columns=featuresToBeOHE, dummy_na=False)\n",
    "buffer = dfOHE.pop('Y')\n",
    "dfOHE['Y'] = buffer\n",
    "dfOHE.head()\n"
   ]
  },
  {
   "cell_type": "markdown",
   "metadata": {},
   "source": [
    "## Train-Test-Split"
   ]
  },
  {
   "cell_type": "code",
   "execution_count": 7,
   "metadata": {
    "pycharm": {
     "name": "#%%\n"
    }
   },
   "outputs": [],
   "source": [
    "df_train, df_test = train_test_split(dfOHE, random_state=257)\n",
    "X_train = df_train.drop(columns=['Y'])\n",
    "y_train = df_train['Y']\n",
    "\n",
    "df_test = df_test.dropna()\n",
    "X_test = df_test.drop(columns=['Y'])\n",
    "y_test = df_test['Y']\n",
    "\n"
   ]
  },
  {
   "cell_type": "markdown",
   "metadata": {
    "pycharm": {
     "name": "#%% md\n"
    }
   },
   "source": [
    "## Feature Selection\n",
    "#### 1. Univariate Selection"
   ]
  },
  {
   "cell_type": "code",
   "execution_count": 8,
   "metadata": {
    "pycharm": {
     "name": "#%%\n"
    }
   },
   "outputs": [
    {
     "name": "stdout",
     "output_type": "stream",
     "text": [
      "Top 20 Features:\n",
      "                            Feature       Score\n",
      "0                       temperature  211.388293\n",
      "23  coupon_IS_Carry out & Take away  203.581136\n",
      "26        coupon_IS_Restaurant(<20)  165.959110\n",
      "22                    coupon_IS_Bar  162.123273\n",
      "98             CoffeeHouse_IS_never  120.945825\n",
      "11           passenger_IS_Friend(s)  108.712940\n",
      "94               CoffeeHouse_IS_1~3   94.383038\n",
      "4                 toCoupon_GEQ25min   90.365798\n",
      "8    destination_IS_No Urgent Place   86.528807\n",
      "28                 expiration_IS_2h   85.798154\n",
      "25      coupon_IS_Restaurant(20-50)   78.233467\n",
      "27                 expiration_IS_1d   67.853547\n",
      "24           coupon_IS_Coffee House   56.150043\n",
      "19                      time_IS_2PM   50.225508\n",
      "14                 weather_IS_Rainy   45.712010\n",
      "9               destination_IS_Work   42.745865\n",
      "21                      time_IS_7AM   42.745865\n",
      "10               passenger_IS_Alone   41.846316\n",
      "7               destination_IS_Home   40.397402\n",
      "15                 weather_IS_Snowy   40.209627\n",
      "\n",
      "\n",
      "Bottom 10 Features:\n",
      "                                              Feature     Score\n",
      "2                                    toCoupon_GEQ5min  0.000000\n",
      "64         occupation_IS_Life Physical Social Science  0.000492\n",
      "68               occupation_IS_Production Occupations  0.002458\n",
      "35                                          age_IS_41  0.007540\n",
      "52  occupation_IS_Building & Grounds Cleaning & Ma...  0.019607\n",
      "53                 occupation_IS_Business & Financial  0.026585\n",
      "55              occupation_IS_Computer & Mathematical  0.050429\n",
      "78                          income_IS_$37500 - $49999  0.069130\n",
      "67              occupation_IS_Personal Care & Service  0.085449\n",
      "59   occupation_IS_Food Preparation & Serving Related  0.118088\n"
     ]
    }
   ],
   "source": [
    "bestfeatures = SelectKBest(score_func=chi2, k='all')\n",
    "fit = bestfeatures.fit(X_train, y_train)\n",
    "dfcolumns = pd.DataFrame(X_train.columns)\n",
    "dfscores = pd.DataFrame(fit.scores_)\n",
    "\n",
    "featureScores = pd.concat([dfcolumns, dfscores], axis=1)\n",
    "featureScores.columns = ['Feature', 'Score']\n",
    "print('Top 20 Features:')\n",
    "print(featureScores.nlargest(20, 'Score'))\n",
    "print('\\n\\nBottom 10 Features:')\n",
    "print(featureScores.nsmallest(10, 'Score'))"
   ]
  },
  {
   "cell_type": "markdown",
   "metadata": {
    "pycharm": {
     "name": "#%% md\n"
    }
   },
   "source": [
    "#### 2. Feature Importance"
   ]
  },
  {
   "cell_type": "code",
   "execution_count": 9,
   "metadata": {
    "pycharm": {
     "name": "#%%\n"
    }
   },
   "outputs": [
    {
     "data": {
      "text/plain": "<Figure size 432x288 with 1 Axes>",
      "image/png": "[encoded data removed]"
     },
     "metadata": {
      "needs_background": "light"
     },
     "output_type": "display_data"
    },
    {
     "data": {
      "text/plain": "<Figure size 432x288 with 1 Axes>",
      "image/png": "[encoded data removed]"
     },
     "metadata": {
      "needs_background": "light"
     },
     "output_type": "display_data"
    }
   ],
   "source": [
    "model = ExtraTreesClassifier(random_state=257)\n",
    "model.fit(X_train, y_train)\n",
    "#print(model.feature_importances_)\n",
    "\n",
    "feat_importances = pd.Series(model.feature_importances_, index=X_train.columns)\n",
    "feat_importances.nlargest(20).plot(kind='barh')\n",
    "plt.show()\n",
    "\n",
    "feat_importances.nsmallest(10).plot(kind='barh')\n",
    "plt.show()"
   ]
  },
  {
   "cell_type": "markdown",
   "metadata": {
    "pycharm": {
     "name": "#%% md\n"
    }
   },
   "source": [
    "#### 3. Correlation Matrix with Heatmap"
   ]
  },
  {
   "cell_type": "code",
   "execution_count": 10,
   "metadata": {
    "pycharm": {
     "name": "#%%\n"
    }
   },
   "outputs": [],
   "source": [
    "corrmatrix = df_train.corr()\n",
    "top_corr_features = corrmatrix.index"
   ]
  },
  {
   "cell_type": "code",
   "execution_count": 11,
   "metadata": {
    "pycharm": {
     "name": "#%%\n"
    }
   },
   "outputs": [
    {
     "data": {
      "text/plain": "                           temperature  has_children  toCoupon_GEQ5min  \\\ntemperature                   1.000000     -0.020133               NaN   \nhas_children                 -0.020133      1.000000               NaN   \ntoCoupon_GEQ5min                   NaN           NaN               NaN   \ntoCoupon_GEQ15min            -0.160839      0.080594               NaN   \ntoCoupon_GEQ25min            -0.219289     -0.014524               NaN   \n...                                ...           ...               ...   \nRestaurant20To50_IS_4~8      -0.044398      0.042976               NaN   \nRestaurant20To50_IS_gt8       0.000839     -0.047531               NaN   \nRestaurant20To50_IS_less1    -0.040174      0.035422               NaN   \nRestaurant20To50_IS_never     0.045513     -0.030952               NaN   \nY                             0.062055     -0.038390               NaN   \n\n                           toCoupon_GEQ15min  toCoupon_GEQ25min  \\\ntemperature                        -0.160839          -0.219289   \nhas_children                        0.080594          -0.014524   \ntoCoupon_GEQ5min                         NaN                NaN   \ntoCoupon_GEQ15min                   1.000000           0.325026   \ntoCoupon_GEQ25min                   0.325026           1.000000   \n...                                      ...                ...   \nRestaurant20To50_IS_4~8            -0.012048          -0.015383   \nRestaurant20To50_IS_gt8            -0.017895          -0.002093   \nRestaurant20To50_IS_less1           0.011073           0.010438   \nRestaurant20To50_IS_never           0.000329           0.010600   \nY                                  -0.088193          -0.103856   \n\n                           direction_same  direction_opp  destination_IS_Home  \\\ntemperature                      0.100373      -0.100373            -0.058629   \nhas_children                    -0.031861       0.031861            -0.007245   \ntoCoupon_GEQ5min                      NaN            NaN                  NaN   \ntoCoupon_GEQ15min               -0.309845       0.309845            -0.134776   \ntoCoupon_GEQ25min               -0.194286       0.194286             0.050982   \n...                                   ...            ...                  ...   \nRestaurant20To50_IS_4~8          0.015600      -0.015600             0.005760   \nRestaurant20To50_IS_gt8         -0.003330       0.003330            -0.000214   \nRestaurant20To50_IS_less1       -0.017881       0.017881            -0.010672   \nRestaurant20To50_IS_never        0.018765      -0.018765             0.008297   \nY                                0.016118      -0.016118            -0.075542   \n\n                           destination_IS_No Urgent Place  \\\ntemperature                                      0.137448   \nhas_children                                     0.025564   \ntoCoupon_GEQ5min                                      NaN   \ntoCoupon_GEQ15min                                0.039906   \ntoCoupon_GEQ25min                               -0.360750   \n...                                                   ...   \nRestaurant20To50_IS_4~8                          0.004498   \nRestaurant20To50_IS_gt8                         -0.001604   \nRestaurant20To50_IS_less1                        0.005620   \nRestaurant20To50_IS_never                       -0.021058   \nY                                                0.133543   \n\n                           destination_IS_Work  ...  \\\ntemperature                          -0.099054  ...   \nhas_children                         -0.022091  ...   \ntoCoupon_GEQ5min                           NaN  ...   \ntoCoupon_GEQ15min                     0.089251  ...   \ntoCoupon_GEQ25min                     0.363100  ...   \n...                                        ...  ...   \nRestaurant20To50_IS_4~8              -0.010937  ...   \nRestaurant20To50_IS_gt8               0.002056  ...   \nRestaurant20To50_IS_less1             0.004243  ...   \nRestaurant20To50_IS_never             0.015862  ...   \nY                                    -0.077620  ...   \n\n                           RestaurantLessThan20_IS_4~8  \\\ntemperature                                   0.008569   \nhas_children                                 -0.045084   \ntoCoupon_GEQ5min                                   NaN   \ntoCoupon_GEQ15min                            -0.000257   \ntoCoupon_GEQ25min                            -0.008853   \n...                                                ...   \nRestaurant20To50_IS_4~8                       0.119403   \nRestaurant20To50_IS_gt8                      -0.059865   \nRestaurant20To50_IS_less1                    -0.057593   \nRestaurant20To50_IS_never                    -0.089902   \nY                                             0.021417   \n\n                           RestaurantLessThan20_IS_gt8  \\\ntemperature                                   0.029750   \nhas_children                                 -0.034232   \ntoCoupon_GEQ5min                                   NaN   \ntoCoupon_GEQ15min                            -0.011360   \ntoCoupon_GEQ25min                            -0.008781   \n...                                                ...   \nRestaurant20To50_IS_4~8                       0.134584   \nRestaurant20To50_IS_gt8                       0.380572   \nRestaurant20To50_IS_less1                    -0.143600   \nRestaurant20To50_IS_never                    -0.100810   \nY                                             0.031231   \n\n                           RestaurantLessThan20_IS_less1  \\\ntemperature                                    -0.007479   \nhas_children                                   -0.031072   \ntoCoupon_GEQ5min                                     NaN   \ntoCoupon_GEQ15min                               0.009438   \ntoCoupon_GEQ25min                               0.011277   \n...                                                  ...   \nRestaurant20To50_IS_4~8                        -0.077418   \nRestaurant20To50_IS_gt8                        -0.063565   \nRestaurant20To50_IS_less1                       0.058096   \nRestaurant20To50_IS_never                       0.196476   \nY                                              -0.032492   \n\n                           RestaurantLessThan20_IS_never  \\\ntemperature                                    -0.031739   \nhas_children                                   -0.036991   \ntoCoupon_GEQ5min                                     NaN   \ntoCoupon_GEQ15min                               0.000887   \ntoCoupon_GEQ25min                               0.001989   \n...                                                  ...   \nRestaurant20To50_IS_4~8                        -0.032345   \nRestaurant20To50_IS_gt8                        -0.018831   \nRestaurant20To50_IS_less1                      -0.102441   \nRestaurant20To50_IS_never                       0.187291   \nY                                              -0.015307   \n\n                           Restaurant20To50_IS_1~3  Restaurant20To50_IS_4~8  \\\ntemperature                               0.030303                -0.044398   \nhas_children                             -0.021562                 0.042976   \ntoCoupon_GEQ5min                               NaN                      NaN   \ntoCoupon_GEQ15min                        -0.000784                -0.012048   \ntoCoupon_GEQ25min                        -0.012136                -0.015383   \n...                                            ...                      ...   \nRestaurant20To50_IS_4~8                  -0.145550                 1.000000   \nRestaurant20To50_IS_gt8                  -0.084739                -0.035381   \nRestaurant20To50_IS_less1                -0.585661                -0.244532   \nRestaurant20To50_IS_never                -0.265392                -0.110809   \nY                                         0.035596                 0.040096   \n\n                           Restaurant20To50_IS_gt8  Restaurant20To50_IS_less1  \\\ntemperature                               0.000839                  -0.040174   \nhas_children                             -0.047531                   0.035422   \ntoCoupon_GEQ5min                               NaN                        NaN   \ntoCoupon_GEQ15min                        -0.017895                   0.011073   \ntoCoupon_GEQ25min                        -0.002093                   0.010438   \n...                                            ...                        ...   \nRestaurant20To50_IS_4~8                  -0.035381                  -0.244532   \nRestaurant20To50_IS_gt8                   1.000000                  -0.142365   \nRestaurant20To50_IS_less1                -0.142365                   1.000000   \nRestaurant20To50_IS_never                -0.064513                  -0.445873   \nY                                         0.031853                  -0.021499   \n\n                           Restaurant20To50_IS_never         Y  \ntemperature                                 0.045513  0.062055  \nhas_children                               -0.030952 -0.038390  \ntoCoupon_GEQ5min                                 NaN       NaN  \ntoCoupon_GEQ15min                           0.000329 -0.088193  \ntoCoupon_GEQ25min                           0.010600 -0.103856  \n...                                              ...       ...  \nRestaurant20To50_IS_4~8                    -0.110809  0.040096  \nRestaurant20To50_IS_gt8                    -0.064513  0.031853  \nRestaurant20To50_IS_less1                  -0.445873 -0.021499  \nRestaurant20To50_IS_never                   1.000000 -0.049827  \nY                                          -0.049827  1.000000  \n\n[115 rows x 115 columns]",
      "text/html": "<div>\n<style scoped>\n    .dataframe tbody tr th:only-of-type {\n        vertical-align: middle;\n    }\n\n    .dataframe tbody tr th {\n        vertical-align: top;\n    }\n\n    .dataframe thead th {\n        text-align: right;\n    }\n</style>\n<table border=\"1\" class=\"dataframe\">\n  <thead>\n    <tr style=\"text-align: right;\">\n      <th></th>\n      <th>temperature</th>\n      <th>has_children</th>\n      <th>toCoupon_GEQ5min</th>\n      <th>toCoupon_GEQ15min</th>\n      <th>toCoupon_GEQ25min</th>\n      <th>direction_same</th>\n      <th>direction_opp</th>\n      <th>destination_IS_Home</th>\n      <th>destination_IS_No Urgent Place</th>\n      <th>destination_IS_Work</th>\n      <th>...</th>\n      <th>RestaurantLessThan20_IS_4~8</th>\n      <th>RestaurantLessThan20_IS_gt8</th>\n      <th>RestaurantLessThan20_IS_less1</th>\n      <th>RestaurantLessThan20_IS_never</th>\n      <th>Restaurant20To50_IS_1~3</th>\n      <th>Restaurant20To50_IS_4~8</th>\n      <th>Restaurant20To50_IS_gt8</th>\n      <th>Restaurant20To50_IS_less1</th>\n      <th>Restaurant20To50_IS_never</th>\n      <th>Y</th>\n    </tr>\n  </thead>\n  <tbody>\n    <tr>\n      <th>temperature</th>\n      <td>1.000000</td>\n      <td>-0.020133</td>\n      <td>NaN</td>\n      <td>-0.160839</td>\n      <td>-0.219289</td>\n      <td>0.100373</td>\n      <td>-0.100373</td>\n      <td>-0.058629</td>\n      <td>0.137448</td>\n      <td>-0.099054</td>\n      <td>...</td>\n      <td>0.008569</td>\n      <td>0.029750</td>\n      <td>-0.007479</td>\n      <td>-0.031739</td>\n      <td>0.030303</td>\n      <td>-0.044398</td>\n      <td>0.000839</td>\n      <td>-0.040174</td>\n      <td>0.045513</td>\n      <td>0.062055</td>\n    </tr>\n    <tr>\n      <th>has_children</th>\n      <td>-0.020133</td>\n      <td>1.000000</td>\n      <td>NaN</td>\n      <td>0.080594</td>\n      <td>-0.014524</td>\n      <td>-0.031861</td>\n      <td>0.031861</td>\n      <td>-0.007245</td>\n      <td>0.025564</td>\n      <td>-0.022091</td>\n      <td>...</td>\n      <td>-0.045084</td>\n      <td>-0.034232</td>\n      <td>-0.031072</td>\n      <td>-0.036991</td>\n      <td>-0.021562</td>\n      <td>0.042976</td>\n      <td>-0.047531</td>\n      <td>0.035422</td>\n      <td>-0.030952</td>\n      <td>-0.038390</td>\n    </tr>\n    <tr>\n      <th>toCoupon_GEQ5min</th>\n      <td>NaN</td>\n      <td>NaN</td>\n      <td>NaN</td>\n      <td>NaN</td>\n      <td>NaN</td>\n      <td>NaN</td>\n      <td>NaN</td>\n      <td>NaN</td>\n      <td>NaN</td>\n      <td>NaN</td>\n      <td>...</td>\n      <td>NaN</td>\n      <td>NaN</td>\n      <td>NaN</td>\n      <td>NaN</td>\n      <td>NaN</td>\n      <td>NaN</td>\n      <td>NaN</td>\n      <td>NaN</td>\n      <td>NaN</td>\n      <td>NaN</td>\n    </tr>\n    <tr>\n      <th>toCoupon_GEQ15min</th>\n      <td>-0.160839</td>\n      <td>0.080594</td>\n      <td>NaN</td>\n      <td>1.000000</td>\n      <td>0.325026</td>\n      <td>-0.309845</td>\n      <td>0.309845</td>\n      <td>-0.134776</td>\n      <td>0.039906</td>\n      <td>0.089251</td>\n      <td>...</td>\n      <td>-0.000257</td>\n      <td>-0.011360</td>\n      <td>0.009438</td>\n      <td>0.000887</td>\n      <td>-0.000784</td>\n      <td>-0.012048</td>\n      <td>-0.017895</td>\n      <td>0.011073</td>\n      <td>0.000329</td>\n      <td>-0.088193</td>\n    </tr>\n    <tr>\n      <th>toCoupon_GEQ25min</th>\n      <td>-0.219289</td>\n      <td>-0.014524</td>\n      <td>NaN</td>\n      <td>0.325026</td>\n      <td>1.000000</td>\n      <td>-0.194286</td>\n      <td>0.194286</td>\n      <td>0.050982</td>\n      <td>-0.360750</td>\n      <td>0.363100</td>\n      <td>...</td>\n      <td>-0.008853</td>\n      <td>-0.008781</td>\n      <td>0.011277</td>\n      <td>0.001989</td>\n      <td>-0.012136</td>\n      <td>-0.015383</td>\n      <td>-0.002093</td>\n      <td>0.010438</td>\n      <td>0.010600</td>\n      <td>-0.103856</td>\n    </tr>\n    <tr>\n      <th>...</th>\n      <td>...</td>\n      <td>...</td>\n      <td>...</td>\n      <td>...</td>\n      <td>...</td>\n      <td>...</td>\n      <td>...</td>\n      <td>...</td>\n      <td>...</td>\n      <td>...</td>\n      <td>...</td>\n      <td>...</td>\n      <td>...</td>\n      <td>...</td>\n      <td>...</td>\n      <td>...</td>\n      <td>...</td>\n      <td>...</td>\n      <td>...</td>\n      <td>...</td>\n      <td>...</td>\n    </tr>\n    <tr>\n      <th>Restaurant20To50_IS_4~8</th>\n      <td>-0.044398</td>\n      <td>0.042976</td>\n      <td>NaN</td>\n      <td>-0.012048</td>\n      <td>-0.015383</td>\n      <td>0.015600</td>\n      <td>-0.015600</td>\n      <td>0.005760</td>\n      <td>0.004498</td>\n      <td>-0.010937</td>\n      <td>...</td>\n      <td>0.119403</td>\n      <td>0.134584</td>\n      <td>-0.077418</td>\n      <td>-0.032345</td>\n      <td>-0.145550</td>\n      <td>1.000000</td>\n      <td>-0.035381</td>\n      <td>-0.244532</td>\n      <td>-0.110809</td>\n      <td>0.040096</td>\n    </tr>\n    <tr>\n      <th>Restaurant20To50_IS_gt8</th>\n      <td>0.000839</td>\n      <td>-0.047531</td>\n      <td>NaN</td>\n      <td>-0.017895</td>\n      <td>-0.002093</td>\n      <td>-0.003330</td>\n      <td>0.003330</td>\n      <td>-0.000214</td>\n      <td>-0.001604</td>\n      <td>0.002056</td>\n      <td>...</td>\n      <td>-0.059865</td>\n      <td>0.380572</td>\n      <td>-0.063565</td>\n      <td>-0.018831</td>\n      <td>-0.084739</td>\n      <td>-0.035381</td>\n      <td>1.000000</td>\n      <td>-0.142365</td>\n      <td>-0.064513</td>\n      <td>0.031853</td>\n    </tr>\n    <tr>\n      <th>Restaurant20To50_IS_less1</th>\n      <td>-0.040174</td>\n      <td>0.035422</td>\n      <td>NaN</td>\n      <td>0.011073</td>\n      <td>0.010438</td>\n      <td>-0.017881</td>\n      <td>0.017881</td>\n      <td>-0.010672</td>\n      <td>0.005620</td>\n      <td>0.004243</td>\n      <td>...</td>\n      <td>-0.057593</td>\n      <td>-0.143600</td>\n      <td>0.058096</td>\n      <td>-0.102441</td>\n      <td>-0.585661</td>\n      <td>-0.244532</td>\n      <td>-0.142365</td>\n      <td>1.000000</td>\n      <td>-0.445873</td>\n      <td>-0.021499</td>\n    </tr>\n    <tr>\n      <th>Restaurant20To50_IS_never</th>\n      <td>0.045513</td>\n      <td>-0.030952</td>\n      <td>NaN</td>\n      <td>0.000329</td>\n      <td>0.010600</td>\n      <td>0.018765</td>\n      <td>-0.018765</td>\n      <td>0.008297</td>\n      <td>-0.021058</td>\n      <td>0.015862</td>\n      <td>...</td>\n      <td>-0.089902</td>\n      <td>-0.100810</td>\n      <td>0.196476</td>\n      <td>0.187291</td>\n      <td>-0.265392</td>\n      <td>-0.110809</td>\n      <td>-0.064513</td>\n      <td>-0.445873</td>\n      <td>1.000000</td>\n      <td>-0.049827</td>\n    </tr>\n    <tr>\n      <th>Y</th>\n      <td>0.062055</td>\n      <td>-0.038390</td>\n      <td>NaN</td>\n      <td>-0.088193</td>\n      <td>-0.103856</td>\n      <td>0.016118</td>\n      <td>-0.016118</td>\n      <td>-0.075542</td>\n      <td>0.133543</td>\n      <td>-0.077620</td>\n      <td>...</td>\n      <td>0.021417</td>\n      <td>0.031231</td>\n      <td>-0.032492</td>\n      <td>-0.015307</td>\n      <td>0.035596</td>\n      <td>0.040096</td>\n      <td>0.031853</td>\n      <td>-0.021499</td>\n      <td>-0.049827</td>\n      <td>1.000000</td>\n    </tr>\n  </tbody>\n</table>\n<p>115 rows × 115 columns</p>\n</div>"
     },
     "execution_count": 11,
     "metadata": {},
     "output_type": "execute_result"
    }
   ],
   "source": [
    "corrmatrix"
   ]
  },
  {
   "cell_type": "code",
   "execution_count": 12,
   "metadata": {
    "pycharm": {
     "name": "#%%\n"
    }
   },
   "outputs": [],
   "source": [
    "#plt.figure(figsize=(115,115))\n",
    "#g=sns.heatmap(df_train[top_corr_features].corr(), annot=True, cmap='RdYlGn')"
   ]
  },
  {
   "cell_type": "code",
   "execution_count": 13,
   "metadata": {
    "pycharm": {
     "name": "#%%\n"
    }
   },
   "outputs": [],
   "source": [
    "#plt.figure(figsize=(115,115))\n",
    "#g=sns.heatmap(df_train[top_corr_features].corr(), annot=False, cmap='RdYlGn')"
   ]
  },
  {
   "cell_type": "markdown",
   "source": [
    "#### 4. Creating different datasets by dropping low scoring features"
   ],
   "metadata": {
    "collapsed": false,
    "pycharm": {
     "name": "#%% md\n"
    }
   }
  },
  {
   "cell_type": "code",
   "source": [
    "top_25_features = list(featureScores.nlargest(25, 'Score').Feature)\n",
    "top_50_features = list(featureScores.nlargest(50, 'Score').Feature)\n",
    "top_75_features = list(featureScores.nlargest(75, 'Score').Feature)\n",
    "\n",
    "X_train_top25 = X_train[top_25_features]\n",
    "X_test_top25 = X_test[top_25_features]\n",
    "\n",
    "X_train_top50 = X_train[top_50_features]\n",
    "X_test_top50 = X_test[top_50_features]\n",
    "\n",
    "X_train_top75 = X_train[top_75_features]\n",
    "X_test_top75 = X_test[top_75_features]"
   ],
   "metadata": {
    "collapsed": false,
    "pycharm": {
     "name": "#%%\n"
    }
   },
   "execution_count": 14,
   "outputs": []
  },
  {
   "cell_type": "markdown",
   "source": [
    "## Scaling"
   ],
   "metadata": {
    "collapsed": false
   }
  },
  {
   "cell_type": "code",
   "execution_count": 15,
   "outputs": [],
   "source": [
    "scaler = StandardScaler().fit(X_train)\n",
    "X_train_scaled = scaler.transform(X_train)\n",
    "X_test_scaled = scaler.transform(X_test)\n",
    "\n",
    "scaler25 = StandardScaler().fit(X_train_top25)\n",
    "X_train_top25_scaled = scaler25.transform(X_train_top25)\n",
    "X_test_top25_scaled = scaler25.transform(X_test_top25)\n",
    "\n",
    "scaler50 = StandardScaler().fit(X_train_top50)\n",
    "X_train_top50_scaled = scaler50.transform(X_train_top50)\n",
    "X_test_top50_scaled = scaler50.transform(X_test_top50)\n",
    "\n",
    "scaler75 = StandardScaler().fit(X_train_top75)\n",
    "X_train_top75_scaled = scaler75.transform(X_train_top75)\n",
    "X_test_top75_scaled = scaler75.transform(X_test_top75)"
   ],
   "metadata": {
    "collapsed": false,
    "pycharm": {
     "name": "#%%\n"
    }
   }
  },
  {
   "cell_type": "markdown",
   "source": [
    "## Training\n",
    "#### Logistic regression: C :[0.1,1,4,5,6,10,30,100] und penalty: [\"l1\", \"l2\"]"
   ],
   "metadata": {
    "collapsed": false
   }
  },
  {
   "cell_type": "code",
   "execution_count": 16,
   "outputs": [
    {
     "name": "stderr",
     "output_type": "stream",
     "text": [
      "C:\\ProgramData\\Miniconda3\\envs\\ML-Projektarbeit\\lib\\site-packages\\sklearn\\model_selection\\_search.py:918: UserWarning: One or more of the test scores are non-finite: [       nan 0.68390581        nan 0.68369562        nan 0.68390587\n",
      "        nan 0.68390587        nan 0.68390587        nan 0.68390587\n",
      "        nan 0.68390587        nan 0.68401097        nan 0.68401097\n",
      "        nan 0.68401097        nan 0.68411612        nan 0.68401097\n",
      "        nan 0.68401097]\n",
      "  warnings.warn(\n",
      "C:\\ProgramData\\Miniconda3\\envs\\ML-Projektarbeit\\lib\\site-packages\\sklearn\\model_selection\\_search.py:918: UserWarning: One or more of the test scores are non-finite: [       nan 0.67528674        nan 0.67507638        nan 0.67507638\n",
      "        nan 0.67507638        nan 0.67507638        nan 0.67497123\n",
      "        nan 0.67497123        nan 0.67497123        nan 0.67497123\n",
      "        nan 0.67497123        nan 0.67497123        nan 0.67497123\n",
      "        nan 0.67497123]\n",
      "  warnings.warn(\n",
      "C:\\ProgramData\\Miniconda3\\envs\\ML-Projektarbeit\\lib\\site-packages\\sklearn\\model_selection\\_search.py:918: UserWarning: One or more of the test scores are non-finite: [       nan 0.67854508        nan 0.67886043        nan 0.67886043\n",
      "        nan 0.67886037        nan 0.67886037        nan 0.67886037\n",
      "        nan 0.67886037        nan 0.67886037        nan 0.67886037\n",
      "        nan 0.67886037        nan 0.67886037        nan 0.67886037\n",
      "        nan 0.67886037]\n",
      "  warnings.warn(\n",
      "C:\\ProgramData\\Miniconda3\\envs\\ML-Projektarbeit\\lib\\site-packages\\sklearn\\model_selection\\_search.py:918: UserWarning: One or more of the test scores are non-finite: [       nan 0.68054171        nan 0.68085717        nan 0.68085722\n",
      "        nan 0.68096237        nan 0.68096237        nan 0.68096237\n",
      "        nan 0.68096237        nan 0.68075212        nan 0.68075212\n",
      "        nan 0.68075212        nan 0.68064697        nan 0.68064697\n",
      "        nan 0.68064697]\n",
      "  warnings.warn(\n"
     ]
    },
    {
     "name": "stdout",
     "output_type": "stream",
     "text": [
      "--- Training on all Features ---\n",
      "Best penalty: l2\n",
      "Best C: 0.4\n",
      "--- Training on top 25 Features ---\n",
      "Best penalty: l2\n",
      "Best C: 0.4\n",
      "--- Training on top 50 Features ---\n",
      "Best penalty: l2\n",
      "Best C: 0.4\n",
      "--- Training on top 75 Features ---\n",
      "Best penalty: l2\n",
      "Best C: 0.4\n"
     ]
    }
   ],
   "source": [
    "parameter_candidates = [{'C': [0.1,0.2,0.3,0.4,0.5,0.6,0.7,1,2,5,10,30,100], 'penalty': [\"l1\", \"l2\"]}]\n",
    "log = LogisticRegression(max_iter=1000,random_state=0)\n",
    "clf = GridSearchCV(estimator=log, param_grid=parameter_candidates, n_jobs=-1)\n",
    "clf_all = clf.fit(X_train_scaled, y_train)\n",
    "clf_top25 = clf.fit(X_train_top25_scaled, y_train)\n",
    "clf_top50 = clf.fit(X_train_top50_scaled, y_train)\n",
    "clf_top75 = clf.fit(X_train_top75_scaled, y_train)\n",
    "print('--- Training on all Features ---')\n",
    "print('Best penalty:', clf_all.best_estimator_.penalty)\n",
    "print('Best C:', clf_all.best_estimator_.C)\n",
    "\n",
    "print('--- Training on top 25 Features ---')\n",
    "print('Best penalty:', clf_top25.best_estimator_.penalty)\n",
    "print('Best C:', clf_top25.best_estimator_.C)\n",
    "\n",
    "print('--- Training on top 50 Features ---')\n",
    "print('Best penalty:', clf_top50.best_estimator_.penalty)\n",
    "print('Best C:', clf_top50.best_estimator_.C)\n",
    "\n",
    "print('--- Training on top 75 Features ---')\n",
    "print('Best penalty:', clf_top75.best_estimator_.penalty)\n",
    "print('Best C:', clf_top75.best_estimator_.C)"
   ],
   "metadata": {
    "collapsed": false,
    "pycharm": {
     "name": "#%%\n"
    }
   }
  },
  {
   "cell_type": "code",
   "execution_count": 17,
   "outputs": [
    {
     "data": {
      "text/plain": "LogisticRegression(C=0.4, max_iter=1000)"
     },
     "execution_count": 17,
     "metadata": {},
     "output_type": "execute_result"
    }
   ],
   "source": [
    "logisticRegr = LogisticRegression(max_iter=1000,C=clf_all.best_estimator_.C,penalty =clf_all.best_estimator_.penalty)\n",
    "logisticRegr.fit(X_train_scaled, y_train)\n",
    "\n",
    "logisticRegr_top25 = LogisticRegression(max_iter=1000,C=clf_top25.best_estimator_.C,penalty =clf_top25.best_estimator_.penalty)\n",
    "logisticRegr_top25.fit(X_train_top25_scaled, y_train)\n",
    "\n",
    "logisticRegr_top50 = LogisticRegression(max_iter=1000,C=clf_top50.best_estimator_.C,penalty =clf_top50.best_estimator_.penalty)\n",
    "logisticRegr_top50.fit(X_train_top50_scaled, y_train)\n",
    "\n",
    "logisticRegr_top75 = LogisticRegression(max_iter=1000,C=clf_top75.best_estimator_.C,penalty =clf_top75.best_estimator_.penalty)\n",
    "logisticRegr_top75.fit(X_train_top75_scaled, y_train)"
   ],
   "metadata": {
    "collapsed": false,
    "pycharm": {
     "name": "#%%\n"
    }
   }
  },
  {
   "cell_type": "markdown",
   "source": [
    "#### Random Forest: n_estimators: [60,80,100,120,140] und max_depth: [2, 3, 4, 5]"
   ],
   "metadata": {
    "collapsed": false
   }
  },
  {
   "cell_type": "code",
   "execution_count": 18,
   "outputs": [
    {
     "name": "stdout",
     "output_type": "stream",
     "text": [
      "--- Training on all Features ---\n",
      "Best n: 300\n",
      "Best depth: 9\n",
      "--- Training on top 25 Features ---\n",
      "Best n: 300\n",
      "Best depth: 9\n",
      "--- Training on top 50 Features ---\n",
      "Best n: 300\n",
      "Best depth: 9\n",
      "--- Training on top 75 Features ---\n",
      "Best n: 300\n",
      "Best depth: 9\n"
     ]
    }
   ],
   "source": [
    "parameter_candidates = [{'n_estimators': [200, 240, 260, 300], 'max_depth': [6, 7, 8, 9]}]\n",
    "RFC = RandomForestClassifier(random_state=0)\n",
    "clf = GridSearchCV(estimator=RFC, param_grid=parameter_candidates, n_jobs=-1)\n",
    "\n",
    "clf_all = clf.fit(X_train_scaled, y_train)\n",
    "clf_top25 = clf.fit(X_train_top25_scaled, y_train)\n",
    "clf_top50 = clf.fit(X_train_top50_scaled, y_train)\n",
    "clf_top75 = clf.fit(X_train_top75_scaled, y_train)\n",
    "\n",
    "print('--- Training on all Features ---')\n",
    "print('Best n:', clf_all.best_estimator_.n_estimators)\n",
    "print('Best depth:', clf_all.best_estimator_.max_depth)\n",
    "\n",
    "print('--- Training on top 25 Features ---')\n",
    "print('Best n:', clf_top25.best_estimator_.n_estimators)\n",
    "print('Best depth:', clf_top25.best_estimator_.max_depth)\n",
    "\n",
    "print('--- Training on top 50 Features ---')\n",
    "print('Best n:', clf_top50.best_estimator_.n_estimators)\n",
    "print('Best depth:', clf_top50.best_estimator_.max_depth)\n",
    "\n",
    "print('--- Training on top 75 Features ---')\n",
    "print('Best n:', clf_top75.best_estimator_.n_estimators)\n",
    "print('Best depth:', clf_top75.best_estimator_.max_depth)"
   ],
   "metadata": {
    "collapsed": false,
    "pycharm": {
     "name": "#%%\n"
    }
   }
  },
  {
   "cell_type": "code",
   "execution_count": 19,
   "outputs": [
    {
     "data": {
      "text/plain": "RandomForestClassifier(max_depth=9, n_estimators=300, random_state=0)"
     },
     "execution_count": 19,
     "metadata": {},
     "output_type": "execute_result"
    }
   ],
   "source": [
    "rf_all = RandomForestClassifier(random_state=0,max_depth=clf_all.best_estimator_.max_depth,n_estimators=clf_all.best_estimator_.n_estimators)\n",
    "rf_all.fit(X_train_scaled,y_train)\n",
    "\n",
    "rf_top25 = RandomForestClassifier(random_state=0,max_depth=clf_top25.best_estimator_.max_depth,n_estimators=clf_top25.best_estimator_.n_estimators)\n",
    "rf_top25.fit(X_train_top25_scaled,y_train)\n",
    "\n",
    "rf_top50 = RandomForestClassifier(random_state=0,max_depth=clf_top50.best_estimator_.max_depth,n_estimators=clf_top50.best_estimator_.n_estimators)\n",
    "rf_top50.fit(X_train_top50_scaled,y_train)\n",
    "\n",
    "rf_top75 = RandomForestClassifier(random_state=0,max_depth=clf_top75.best_estimator_.max_depth,n_estimators=clf_top75.best_estimator_.n_estimators)\n",
    "rf_top75.fit(X_train_top75_scaled,y_train)"
   ],
   "metadata": {
    "collapsed": false,
    "pycharm": {
     "name": "#%%\n"
    }
   }
  },
  {
   "cell_type": "markdown",
   "source": [
    "#### Gradient Boosting Tree: hyper params like in Random Forest."
   ],
   "metadata": {
    "collapsed": false
   }
  },
  {
   "cell_type": "code",
   "execution_count": 20,
   "outputs": [
    {
     "name": "stdout",
     "output_type": "stream",
     "text": [
      "Best n: 260\n",
      "Best depth: 7\n"
     ]
    }
   ],
   "source": [
    "\n",
    "parameter_candidates = [{'n_estimators': [200, 240, 260, 300], 'max_depth': [6, 7, 8, 9]}]\n",
    "gbt = GradientBoostingClassifier(random_state=0)\n",
    "clf = GridSearchCV(estimator=gbt, param_grid=parameter_candidates, n_jobs=-1)\n",
    "clf_all = clf.fit(X_train_scaled, y_train)\n",
    "print('Best n:', clf_all.best_estimator_.n_estimators)\n",
    "print('Best depth:', clf_all.best_estimator_.max_depth)"
   ],
   "metadata": {
    "collapsed": false,
    "pycharm": {
     "name": "#%%\n"
    }
   }
  },
  {
   "cell_type": "code",
   "execution_count": 21,
   "outputs": [
    {
     "data": {
      "text/plain": "GradientBoostingClassifier(max_depth=7, n_estimators=260, random_state=0)"
     },
     "execution_count": 21,
     "metadata": {},
     "output_type": "execute_result"
    }
   ],
   "source": [
    "gbt_all = GradientBoostingClassifier(random_state=0,max_depth=clf_all.best_estimator_.max_depth,n_estimators=clf_all.best_estimator_.n_estimators)\n",
    "gbt_all.fit(X_train_scaled,y_train)"
   ],
   "metadata": {
    "collapsed": false,
    "pycharm": {
     "name": "#%%\n"
    }
   }
  },
  {
   "cell_type": "markdown",
   "source": [
    "## Predictions\n",
    "#### Logistic regression"
   ],
   "metadata": {
    "collapsed": false
   }
  },
  {
   "cell_type": "code",
   "execution_count": 22,
   "outputs": [],
   "source": [
    "pred_prob_log_all = logisticRegr.predict_proba(X_test_scaled)\n",
    "pred_prob_log_top25 = logisticRegr_top25.predict_proba(X_test_top25_scaled)\n",
    "pred_prob_log_top50 = logisticRegr_top50.predict_proba(X_test_top50_scaled)\n",
    "pred_prob_log_top75 = logisticRegr_top75.predict_proba(X_test_top75_scaled)\n",
    "\n",
    "predictions_log_all = logisticRegr.predict(X_test_scaled)\n",
    "predictions_log_top25 = logisticRegr_top25.predict(X_test_top25_scaled)\n",
    "predictions_log_top50 = logisticRegr_top50.predict(X_test_top50_scaled)\n",
    "predictions_log_top75 = logisticRegr_top75.predict(X_test_top75_scaled)"
   ],
   "metadata": {
    "collapsed": false,
    "pycharm": {
     "name": "#%%\n"
    }
   }
  },
  {
   "cell_type": "markdown",
   "source": [
    "#### Random Forest"
   ],
   "metadata": {
    "collapsed": false
   }
  },
  {
   "cell_type": "code",
   "execution_count": 23,
   "outputs": [],
   "source": [
    "pred_prob_rf_all = rf_all.predict_proba(X_test_scaled)\n",
    "pred_prob_rf_top25 = rf_top25.predict_proba(X_test_top25_scaled)\n",
    "pred_prob_rf_top50 = rf_top50.predict_proba(X_test_top50_scaled)\n",
    "pred_prob_rf_top75 = rf_top75.predict_proba(X_test_top75_scaled)\n",
    "\n",
    "predictions_rf_all = rf_all.predict(X_test_scaled)\n",
    "predictions_rf_top25 = rf_top25.predict(X_test_top25_scaled)\n",
    "predictions_rf_top50 = rf_top50.predict(X_test_top50_scaled)\n",
    "predictions_rf_top75 = rf_top75.predict(X_test_top75_scaled)"
   ],
   "metadata": {
    "collapsed": false,
    "pycharm": {
     "name": "#%%\n"
    }
   }
  },
  {
   "cell_type": "markdown",
   "source": [
    "#### Gradient Boosting"
   ],
   "metadata": {
    "collapsed": false
   }
  },
  {
   "cell_type": "code",
   "execution_count": 24,
   "outputs": [],
   "source": [
    "pred_prob_gbt_all = gbt_all.predict_proba(X_test_scaled)\n",
    "\n",
    "predictions_gbt_all = gbt_all.predict(X_test_scaled)"
   ],
   "metadata": {
    "collapsed": false,
    "pycharm": {
     "name": "#%%\n"
    }
   }
  },
  {
   "cell_type": "markdown",
   "source": [
    "## Label Distribution"
   ],
   "metadata": {
    "collapsed": false
   }
  },
  {
   "cell_type": "code",
   "execution_count": 25,
   "outputs": [
    {
     "name": "stderr",
     "output_type": "stream",
     "text": [
      "C:\\ProgramData\\Miniconda3\\envs\\ML-Projektarbeit\\lib\\site-packages\\seaborn\\_decorators.py:36: FutureWarning: Pass the following variable as a keyword arg: x. From version 0.12, the only valid positional argument will be `data`, and passing other arguments without an explicit keyword will result in an error or misinterpretation.\n",
      "  warnings.warn(\n"
     ]
    },
    {
     "data": {
      "text/plain": "<Figure size 432x288 with 1 Axes>",
      "image/png": "[encoded data removed]"
     },
     "metadata": {
      "needs_background": "light"
     },
     "output_type": "display_data"
    },
    {
     "name": "stdout",
     "output_type": "stream",
     "text": [
      "Positive label ratio: 56.84%\n"
     ]
    }
   ],
   "source": [
    "sns.countplot(dfOHE.Y)\n",
    "plt.title('Countplot of label')\n",
    "plt.xlabel('label')\n",
    "plt.ylabel('coupon recommendations')\n",
    "plt.show()\n",
    "label_ratio = df[df['Y'] == 1]['Y'].count() / df['Y'].count()\n",
    "format_label_ratio = \"{:.2f}\".format(label_ratio*100)\n",
    "print('Positive label ratio: '+ format_label_ratio + '%')"
   ],
   "metadata": {
    "collapsed": false,
    "pycharm": {
     "name": "#%%\n"
    }
   }
  },
  {
   "cell_type": "markdown",
   "source": [
    "## Evaluation for Logistic Regression\n",
    "#### ROC Curves<br>(Receiver Opterating Characteristic Curve)"
   ],
   "metadata": {
    "collapsed": false,
    "pycharm": {
     "name": "#%% md\n"
    }
   }
  },
  {
   "cell_type": "code",
   "execution_count": 26,
   "outputs": [
    {
     "name": "stdout",
     "output_type": "stream",
     "text": [
      "Log Reg all features\n",
      "AUC-ROC score: 0.7351847111501174\n",
      "\n",
      "Log Reg top25 features\n",
      "AUC-ROC score: 0.7163296277334894\n",
      "\n",
      "Log Reg top50 features\n",
      "AUC-ROC score: 0.7298101692711507\n",
      "\n",
      "Log Reg top75 features\n",
      "AUC-ROC score: 0.7321911796972134\n",
      "\n"
     ]
    }
   ],
   "source": [
    "fpr_log_all, tpr_log_all, thresholds_log_all = roc_curve(y_test, pred_prob_log_all[:,1], pos_label=1)\n",
    "auc_score_log_all = roc_auc_score(y_test, pred_prob_log_all[:,1])\n",
    "\n",
    "fpr_log_top25, tpr_log_top25, thresholds_log_top25 = roc_curve(y_test, pred_prob_log_top25[:,1], pos_label=1)\n",
    "auc_score_log_top25 = roc_auc_score(y_test, pred_prob_log_top25[:,1])\n",
    "\n",
    "fpr_log_top50, tpr_log_top50, thresholds_log_top50 = roc_curve(y_test, pred_prob_log_top50[:,1], pos_label=1)\n",
    "auc_score_log_top50 = roc_auc_score(y_test, pred_prob_log_top50[:,1])\n",
    "\n",
    "fpr_log_top75, tpr_log_top75, thresholds_log_top75 = roc_curve(y_test, pred_prob_log_top75[:,1], pos_label=1)\n",
    "auc_score_log_top75 = roc_auc_score(y_test, pred_prob_log_top75[:,1])\n",
    "\n",
    "print('Log Reg all features')\n",
    "print('AUC-ROC score: ' + str(auc_score_log_all) + '\\n')\n",
    "\n",
    "print('Log Reg top25 features')\n",
    "print('AUC-ROC score: ' + str(auc_score_log_top25) + '\\n')\n",
    "\n",
    "print('Log Reg top50 features')\n",
    "print('AUC-ROC score: ' + str(auc_score_log_top50) + '\\n')\n",
    "\n",
    "print('Log Reg top75 features')\n",
    "print('AUC-ROC score: ' + str(auc_score_log_top75) + '\\n')"
   ],
   "metadata": {
    "collapsed": false,
    "pycharm": {
     "name": "#%%\n"
    }
   }
  },
  {
   "cell_type": "code",
   "execution_count": 27,
   "outputs": [
    {
     "data": {
      "text/plain": "<Figure size 576x396 with 1 Axes>",
      "image/png": "[encoded data removed]"
     },
     "metadata": {},
     "output_type": "display_data"
    }
   ],
   "source": [
    "plt.style.use('seaborn')\n",
    "plt.plot(fpr_log_all, tpr_log_all, linestyle='--', color='blue', label='all features')\n",
    "plt.plot(fpr_log_top25, tpr_log_top25, linestyle='--', color='red', label='top25 features')\n",
    "plt.plot(fpr_log_top50, tpr_log_top50, linestyle='--', color='yellow', label='top50 features')\n",
    "plt.plot(fpr_log_top75, tpr_log_top75, linestyle='--', color='green', label='top75 features')\n",
    "plt.title('ROC curve - Logistic Regression')\n",
    "plt.xlabel('False Positive Rate')\n",
    "plt.ylabel('True Positive Rate (Recall)')\n",
    "plt.legend(loc='best')\n",
    "plt.savefig('ROC Logreg', dpi=300)\n",
    "plt.show()"
   ],
   "metadata": {
    "collapsed": false,
    "pycharm": {
     "name": "#%%\n"
    }
   }
  },
  {
   "cell_type": "markdown",
   "source": [
    "#### PRC (Precision-Recall-Curve)"
   ],
   "metadata": {
    "collapsed": false,
    "pycharm": {
     "name": "#%% md\n"
    }
   }
  },
  {
   "cell_type": "code",
   "execution_count": 28,
   "outputs": [
    {
     "name": "stdout",
     "output_type": "stream",
     "text": [
      "Log Reg all features\n",
      "AUC-PRC score: 0.7732539765529091\n",
      "\n",
      "Log Reg top25 features\n",
      "AUC-PRC score: 0.7521317134742832\n",
      "\n",
      "Log Reg top50 features\n",
      "AUC-PRC score: 0.7707390576985277\n",
      "\n",
      "Log Reg top75 features\n",
      "AUC-PRC score: 0.772210029876744\n",
      "\n"
     ]
    }
   ],
   "source": [
    "precision_log_all, recall_log_all, thresholds_log_all = precision_recall_curve(y_test, pred_prob_log_all[:,1])\n",
    "auc_prc_log_all = auc(recall_log_all, precision_log_all)\n",
    "print('Log Reg all features')\n",
    "print('AUC-PRC score: ' + str(auc_prc_log_all) + '\\n')\n",
    "\n",
    "precision_log_top25, recall_log_top25, thresholds_log_top25 = precision_recall_curve(y_test, pred_prob_log_top25[:,1])\n",
    "auc_prc_log_top25 = auc(recall_log_top25, precision_log_top25)\n",
    "print('Log Reg top25 features')\n",
    "print('AUC-PRC score: ' + str(auc_prc_log_top25) + '\\n')\n",
    "\n",
    "precision_log_top50, recall_log_top50, thresholds_log_top50 = precision_recall_curve(y_test, pred_prob_log_top50[:,1])\n",
    "auc_prc_log_top50 = auc(recall_log_top50, precision_log_top50)\n",
    "print('Log Reg top50 features')\n",
    "print('AUC-PRC score: ' + str(auc_prc_log_top50) + '\\n')\n",
    "\n",
    "precision_log_top75, recall_log_top75, thresholds_log_top75 = precision_recall_curve(y_test, pred_prob_log_top75[:,1])\n",
    "auc_prc_log_top75 = auc(recall_log_top75, precision_log_top75)\n",
    "print('Log Reg top75 features')\n",
    "print('AUC-PRC score: ' + str(auc_prc_log_top75) + '\\n')"
   ],
   "metadata": {
    "collapsed": false,
    "pycharm": {
     "name": "#%%\n"
    }
   }
  },
  {
   "cell_type": "code",
   "execution_count": 29,
   "outputs": [
    {
     "data": {
      "text/plain": "<Figure size 576x396 with 1 Axes>",
      "image/png": "[encoded data removed]"
     },
     "metadata": {},
     "output_type": "display_data"
    }
   ],
   "source": [
    "plt.style.use('seaborn')\n",
    "plt.plot(recall_log_all, precision_log_all, linestyle='--', color='blue', label='all features')\n",
    "plt.plot(recall_log_top25, precision_log_top25, linestyle='--', color='red', label='top25 features')\n",
    "plt.plot(recall_log_top50, precision_log_top50, linestyle='--', color='yellow', label='top50 features')\n",
    "plt.plot(recall_log_top75, precision_log_top75, linestyle='--', color='green', label='top75 features')\n",
    "plt.title('PRC curve - Logistic Regression')\n",
    "plt.xlabel('Recall')\n",
    "plt.ylabel('Precision')\n",
    "plt.legend(loc='best')\n",
    "plt.savefig('PRC Logreg', dpi=300)\n",
    "plt.show()"
   ],
   "metadata": {
    "collapsed": false,
    "pycharm": {
     "name": "#%%\n"
    }
   }
  },
  {
   "cell_type": "markdown",
   "source": [
    "#### Accuracy, precision and recall, f1-score"
   ],
   "metadata": {
    "collapsed": false
   }
  },
  {
   "cell_type": "code",
   "execution_count": 30,
   "outputs": [
    {
     "name": "stdout",
     "output_type": "stream",
     "text": [
      "--- Log reg on all features ---\n",
      "Accuracy score is:\n",
      "0.6877956480605487\n",
      "Recall is:\n",
      "0.7658402203856749\n",
      "Precision is:\n",
      "0.710997442455243\n",
      "F1-Score is:\n",
      "0.7374005305039787\n",
      "\n",
      "--- Log reg on top25 features ---\n",
      "Accuracy score is:\n",
      "0.674550614947966\n",
      "Recall is:\n",
      "0.7509641873278237\n",
      "Precision is:\n",
      "0.7014925373134329\n",
      "F1-Score is:\n",
      "0.7253858435337946\n",
      "\n",
      "--- Log reg on top50 features ---\n",
      "Accuracy score is:\n",
      "0.6827499211605171\n",
      "Recall is:\n",
      "0.7581267217630854\n",
      "Precision is:\n",
      "0.7081832218219248\n",
      "F1-Score is:\n",
      "0.7323044172432144\n",
      "\n",
      "--- Log reg on top75 features ---\n",
      "Accuracy score is:\n",
      "0.6840113528855251\n",
      "Recall is:\n",
      "0.7570247933884298\n",
      "Precision is:\n",
      "0.710077519379845\n",
      "F1-Score is:\n",
      "0.7328\n",
      "\n"
     ]
    }
   ],
   "source": [
    "print('--- Log reg on all features ---')\n",
    "print(\"Accuracy score is:\")\n",
    "print(accuracy_score(y_test, predictions_log_all))\n",
    "print(\"Recall is:\")\n",
    "print(recall_score(y_test, predictions_log_all))\n",
    "print(\"Precision is:\")\n",
    "print(precision_score(y_test, predictions_log_all))\n",
    "print(\"F1-Score is:\")\n",
    "print(f1_score(y_test, predictions_log_all))\n",
    "print()\n",
    "\n",
    "print('--- Log reg on top25 features ---')\n",
    "print(\"Accuracy score is:\")\n",
    "print(accuracy_score(y_test, predictions_log_top25))\n",
    "print(\"Recall is:\")\n",
    "print(recall_score(y_test, predictions_log_top25))\n",
    "print(\"Precision is:\")\n",
    "print(precision_score(y_test, predictions_log_top25))\n",
    "print(\"F1-Score is:\")\n",
    "print(f1_score(y_test, predictions_log_top25))\n",
    "print()\n",
    "\n",
    "print('--- Log reg on top50 features ---')\n",
    "print(\"Accuracy score is:\")\n",
    "print(accuracy_score(y_test, predictions_log_top50))\n",
    "print(\"Recall is:\")\n",
    "print(recall_score(y_test, predictions_log_top50))\n",
    "print(\"Precision is:\")\n",
    "print(precision_score(y_test, predictions_log_top50))\n",
    "print(\"F1-Score is:\")\n",
    "print(f1_score(y_test, predictions_log_top50))\n",
    "print()\n",
    "\n",
    "print('--- Log reg on top75 features ---')\n",
    "print(\"Accuracy score is:\")\n",
    "print(accuracy_score(y_test, predictions_log_top75))\n",
    "print(\"Recall is:\")\n",
    "print(recall_score(y_test, predictions_log_top75))\n",
    "print(\"Precision is:\")\n",
    "print(precision_score(y_test, predictions_log_top75))\n",
    "print(\"F1-Score is:\")\n",
    "print(f1_score(y_test, predictions_log_top75))\n",
    "print()"
   ],
   "metadata": {
    "collapsed": false,
    "pycharm": {
     "name": "#%%\n"
    }
   }
  },
  {
   "cell_type": "markdown",
   "source": [
    "## Evaluation for Random Forest\n",
    "#### ROC Curves<br>(Receiver Opterating Characteristic Curve)"
   ],
   "metadata": {
    "collapsed": false
   }
  },
  {
   "cell_type": "code",
   "execution_count": 31,
   "outputs": [
    {
     "name": "stdout",
     "output_type": "stream",
     "text": [
      "RF  all features\n",
      "AUC-ROC score: 0.7915110477258507\n",
      "\n",
      "RF  top25 features\n",
      "AUC-ROC score: 0.74568634860268\n",
      "\n",
      "RF  top50 features\n",
      "AUC-ROC score: 0.77910927456382\n",
      "\n",
      "RF  top75 features\n",
      "AUC-ROC score: 0.7825178575781955\n",
      "\n"
     ]
    }
   ],
   "source": [
    "fpr_rf_all, tpr_rf_all, thresholds_rf_all = roc_curve(y_test, pred_prob_rf_all[:,1], pos_label=1)\n",
    "auc_score_rf_all = roc_auc_score(y_test, pred_prob_rf_all[:,1])\n",
    "\n",
    "fpr_rf_top25, tpr_rf_top25, thresholds_rf_top25 = roc_curve(y_test, pred_prob_rf_top25[:,1], pos_label=1)\n",
    "auc_score_rf_top25 = roc_auc_score(y_test, pred_prob_rf_top25[:,1])\n",
    "\n",
    "fpr_rf_top50, tpr_rf_top50, thresholds_rf_top50 = roc_curve(y_test, pred_prob_rf_top50[:,1], pos_label=1)\n",
    "auc_score_rf_top50 = roc_auc_score(y_test, pred_prob_rf_top50[:,1])\n",
    "\n",
    "fpr_rf_top75, tpr_rf_top75, thresholds_rf_top75 = roc_curve(y_test, pred_prob_rf_top75[:,1], pos_label=1)\n",
    "auc_score_rf_top75 = roc_auc_score(y_test, pred_prob_rf_top75[:,1])\n",
    "\n",
    "print('RF  all features')\n",
    "print('AUC-ROC score: ' + str(auc_score_rf_all) + '\\n')\n",
    "\n",
    "print('RF  top25 features')\n",
    "print('AUC-ROC score: ' + str(auc_score_rf_top25) + '\\n')\n",
    "\n",
    "print('RF  top50 features')\n",
    "print('AUC-ROC score: ' + str(auc_score_rf_top50) + '\\n')\n",
    "\n",
    "print('RF  top75 features')\n",
    "print('AUC-ROC score: ' + str(auc_score_rf_top75) + '\\n')"
   ],
   "metadata": {
    "collapsed": false,
    "pycharm": {
     "name": "#%%\n"
    }
   }
  },
  {
   "cell_type": "code",
   "execution_count": 32,
   "outputs": [
    {
     "data": {
      "text/plain": "<Figure size 576x396 with 1 Axes>",
      "image/png": "[encoded data removed]"
     },
     "metadata": {},
     "output_type": "display_data"
    }
   ],
   "source": [
    "plt.style.use('seaborn')\n",
    "plt.plot(fpr_rf_all, tpr_rf_all, linestyle='--', color='blue', label='all features')\n",
    "plt.plot(fpr_rf_top25, tpr_rf_top25, linestyle='--', color='red', label='top25 features')\n",
    "plt.plot(fpr_rf_top50, tpr_rf_top50, linestyle='--', color='yellow', label='top50 features')\n",
    "plt.plot(fpr_rf_top75, tpr_rf_top75, linestyle='--', color='green', label='top75 features')\n",
    "plt.title('ROC curve - Random Forest')\n",
    "plt.xlabel('False Positive Rate')\n",
    "plt.ylabel('True Positive Rate (Recall)')\n",
    "plt.legend(loc='best')\n",
    "plt.savefig('ROC RF', dpi=300)\n",
    "plt.show()"
   ],
   "metadata": {
    "collapsed": false,
    "pycharm": {
     "name": "#%%\n"
    }
   }
  },
  {
   "cell_type": "markdown",
   "source": [
    "#### PRC (Precision-Recall-Curve)"
   ],
   "metadata": {
    "collapsed": false
   }
  },
  {
   "cell_type": "code",
   "execution_count": 33,
   "outputs": [
    {
     "name": "stdout",
     "output_type": "stream",
     "text": [
      "RF  all features\n",
      "AUC-PRC score: 0.8212398913695533\n",
      "\n",
      "RF  top25 features\n",
      "AUC-PRC score: 0.7846502676081076\n",
      "\n",
      "RF  top50 features\n",
      "AUC-PRC score: 0.8073026589021923\n",
      "\n",
      "RF  top75 features\n",
      "AUC-PRC score: 0.8114317904476485\n",
      "\n"
     ]
    }
   ],
   "source": [
    "precision_rf_all, recall_rf_all, thresholds_rf_all = precision_recall_curve(y_test, pred_prob_rf_all[:,1])\n",
    "auc_prc_rf_all = auc(recall_rf_all, precision_rf_all)\n",
    "print('RF  all features')\n",
    "print('AUC-PRC score: ' + str(auc_prc_rf_all) + '\\n')\n",
    "\n",
    "precision_rf_top25, recall_rf_top25, thresholds_rf_top25 = precision_recall_curve(y_test, pred_prob_rf_top25[:,1])\n",
    "auc_prc_rf_top25 = auc(recall_rf_top25, precision_rf_top25)\n",
    "print('RF  top25 features')\n",
    "print('AUC-PRC score: ' + str(auc_prc_rf_top25) + '\\n')\n",
    "\n",
    "precision_rf_top50, recall_rf_top50, thresholds_rf_top50 = precision_recall_curve(y_test, pred_prob_rf_top50[:,1])\n",
    "auc_prc_rf_top50 = auc(recall_rf_top50, precision_rf_top50)\n",
    "print('RF  top50 features')\n",
    "print('AUC-PRC score: ' + str(auc_prc_rf_top50) + '\\n')\n",
    "\n",
    "precision_rf_top75, recall_rf_top75, thresholds_rf_top75 = precision_recall_curve(y_test, pred_prob_rf_top75[:,1])\n",
    "auc_prc_rf_top75 = auc(recall_rf_top75, precision_rf_top75)\n",
    "print('RF  top75 features')\n",
    "print('AUC-PRC score: ' + str(auc_prc_rf_top75) + '\\n')"
   ],
   "metadata": {
    "collapsed": false,
    "pycharm": {
     "name": "#%%\n"
    }
   }
  },
  {
   "cell_type": "code",
   "execution_count": 34,
   "outputs": [
    {
     "data": {
      "text/plain": "<Figure size 576x396 with 1 Axes>",
      "image/png": "[encoded data removed]"
     },
     "metadata": {},
     "output_type": "display_data"
    }
   ],
   "source": [
    "plt.style.use('seaborn')\n",
    "plt.plot(recall_rf_all, precision_rf_all, linestyle='--', color='blue', label='all features')\n",
    "plt.plot(recall_rf_top25, precision_rf_top25, linestyle='--', color='red', label='top25 features')\n",
    "plt.plot(recall_rf_top50, precision_rf_top50, linestyle='--', color='yellow', label='top50 features')\n",
    "plt.plot(recall_rf_top75, precision_rf_top75, linestyle='--', color='green', label='top75 features')\n",
    "plt.title('PRC curve - Random Forest')\n",
    "plt.xlabel('Recall')\n",
    "plt.ylabel('Precision')\n",
    "plt.legend(loc='best')\n",
    "plt.savefig('PRC RF', dpi=300)\n",
    "plt.show()"
   ],
   "metadata": {
    "collapsed": false,
    "pycharm": {
     "name": "#%%\n"
    }
   }
  },
  {
   "cell_type": "markdown",
   "source": [
    "#### Accuracy, precision and recall, f1-score"
   ],
   "metadata": {
    "collapsed": false
   }
  },
  {
   "cell_type": "code",
   "execution_count": 35,
   "outputs": [
    {
     "name": "stdout",
     "output_type": "stream",
     "text": [
      "--- Random Forest on all features ---\n",
      "Accuracy score is:\n",
      "0.7360454115421002\n",
      "Recall is:\n",
      "0.8556473829201102\n",
      "Precision is:\n",
      "0.7297932330827067\n",
      "F1-Score is:\n",
      "0.7877250824245499\n",
      "\n",
      "--- Random Forest on top25 features ---\n",
      "Accuracy score is:\n",
      "0.6912645853043204\n",
      "Recall is:\n",
      "0.7691460055096419\n",
      "Precision is:\n",
      "0.7137014314928425\n",
      "F1-Score is:\n",
      "0.7403871652081676\n",
      "\n",
      "--- Random Forest on top50 features ---\n",
      "Accuracy score is:\n",
      "0.7243771680857773\n",
      "Recall is:\n",
      "0.8209366391184573\n",
      "Precision is:\n",
      "0.7307503678273664\n",
      "F1-Score is:\n",
      "0.7732226258432796\n",
      "\n",
      "--- Random Forest on top75 features ---\n",
      "Accuracy score is:\n",
      "0.7313150425733207\n",
      "Recall is:\n",
      "0.8341597796143251\n",
      "Precision is:\n",
      "0.7331719128329298\n",
      "F1-Score is:\n",
      "0.7804123711340207\n",
      "\n"
     ]
    }
   ],
   "source": [
    "print('--- Random Forest on all features ---')\n",
    "print(\"Accuracy score is:\")\n",
    "print(accuracy_score(y_test, predictions_rf_all))\n",
    "print(\"Recall is:\")\n",
    "print(recall_score(y_test, predictions_rf_all))\n",
    "print(\"Precision is:\")\n",
    "print(precision_score(y_test, predictions_rf_all))\n",
    "print(\"F1-Score is:\")\n",
    "print(f1_score(y_test, predictions_rf_all))\n",
    "print()\n",
    "\n",
    "print('--- Random Forest on top25 features ---')\n",
    "print(\"Accuracy score is:\")\n",
    "print(accuracy_score(y_test, predictions_rf_top25))\n",
    "print(\"Recall is:\")\n",
    "print(recall_score(y_test, predictions_rf_top25))\n",
    "print(\"Precision is:\")\n",
    "print(precision_score(y_test, predictions_rf_top25))\n",
    "print(\"F1-Score is:\")\n",
    "print(f1_score(y_test, predictions_rf_top25))\n",
    "print()\n",
    "\n",
    "print('--- Random Forest on top50 features ---')\n",
    "print(\"Accuracy score is:\")\n",
    "print(accuracy_score(y_test, predictions_rf_top50))\n",
    "print(\"Recall is:\")\n",
    "print(recall_score(y_test, predictions_rf_top50))\n",
    "print(\"Precision is:\")\n",
    "print(precision_score(y_test, predictions_rf_top50))\n",
    "print(\"F1-Score is:\")\n",
    "print(f1_score(y_test, predictions_rf_top50))\n",
    "print()\n",
    "\n",
    "print('--- Random Forest on top75 features ---')\n",
    "print(\"Accuracy score is:\")\n",
    "print(accuracy_score(y_test, predictions_rf_top75))\n",
    "print(\"Recall is:\")\n",
    "print(recall_score(y_test, predictions_rf_top75))\n",
    "print(\"Precision is:\")\n",
    "print(precision_score(y_test, predictions_rf_top75))\n",
    "print(\"F1-Score is:\")\n",
    "print(f1_score(y_test, predictions_rf_top75))\n",
    "print()\n"
   ],
   "metadata": {
    "collapsed": false,
    "pycharm": {
     "name": "#%%\n"
    }
   }
  },
  {
   "cell_type": "markdown",
   "source": [
    "## Evaluation for Gradient Boosting Tree\n",
    "#### ROC Curves<br>(Receiver Opterating Characteristic Curve)"
   ],
   "metadata": {
    "collapsed": false
   }
  },
  {
   "cell_type": "code",
   "execution_count": 36,
   "outputs": [
    {
     "name": "stdout",
     "output_type": "stream",
     "text": [
      "GBT  all features\n",
      "AUC-ROC score: 0.8387745109989679\n",
      "\n"
     ]
    }
   ],
   "source": [
    "fpr_gbt_all, tpr_gbt_all, thresholds_gbt_all = roc_curve(y_test, pred_prob_gbt_all[:,1], pos_label=1)\n",
    "auc_score_gbt_all = roc_auc_score(y_test, pred_prob_gbt_all[:,1])\n",
    "\n",
    "print('GBT  all features')\n",
    "print('AUC-ROC score: ' + str(auc_score_gbt_all) + '\\n')"
   ],
   "metadata": {
    "collapsed": false,
    "pycharm": {
     "name": "#%%\n"
    }
   }
  },
  {
   "cell_type": "code",
   "execution_count": 37,
   "outputs": [
    {
     "data": {
      "text/plain": "<Figure size 576x396 with 1 Axes>",
      "image/png": "[encoded data removed]"
     },
     "metadata": {},
     "output_type": "display_data"
    }
   ],
   "source": [
    "plt.style.use('seaborn')\n",
    "plt.plot(fpr_gbt_all, tpr_gbt_all, linestyle='--', color='blue', label='GBT')\n",
    "plt.plot(fpr_rf_all, tpr_rf_all, linestyle='--', color='green', label='RF')\n",
    "plt.plot(fpr_log_all, tpr_log_all, linestyle='--', color='red', label='LogReg')\n",
    "plt.title('ROC curve - best models')\n",
    "plt.xlabel('False Positive Rate')\n",
    "plt.ylabel('True Positive Rate (Recall)')\n",
    "plt.legend(loc='best')\n",
    "plt.savefig('ROC best models', dpi=300)\n",
    "plt.show()"
   ],
   "metadata": {
    "collapsed": false,
    "pycharm": {
     "name": "#%%\n"
    }
   }
  },
  {
   "cell_type": "markdown",
   "source": [
    "#### PRC (Precision-Recall-Curve)"
   ],
   "metadata": {
    "collapsed": false
   }
  },
  {
   "cell_type": "code",
   "execution_count": 38,
   "outputs": [
    {
     "name": "stdout",
     "output_type": "stream",
     "text": [
      "GBT  all features\n",
      "AUC-PRC score: 0.862360695937081\n",
      "\n"
     ]
    }
   ],
   "source": [
    "precision_gbt_all, recall_gbt_all, thresholds_gbt_all = precision_recall_curve(y_test, pred_prob_gbt_all[:,1])\n",
    "auc_prc_gbt_all = auc(recall_gbt_all, precision_gbt_all)\n",
    "print('GBT  all features')\n",
    "print('AUC-PRC score: ' + str(auc_prc_gbt_all) + '\\n')"
   ],
   "metadata": {
    "collapsed": false,
    "pycharm": {
     "name": "#%%\n"
    }
   }
  },
  {
   "cell_type": "code",
   "execution_count": 39,
   "outputs": [
    {
     "data": {
      "text/plain": "<Figure size 576x396 with 1 Axes>",
      "image/png": "[encoded data removed]"
     },
     "metadata": {},
     "output_type": "display_data"
    }
   ],
   "source": [
    "plt.style.use('seaborn')\n",
    "plt.plot(recall_gbt_all, precision_gbt_all, linestyle='--', color='blue', label='GBT')\n",
    "plt.plot(recall_rf_all, precision_rf_all, linestyle='--', color='green', label='RF')\n",
    "plt.plot(recall_log_all, precision_log_all, linestyle='--', color='red', label='LogReg')\n",
    "plt.title('PRC curve - best models')\n",
    "plt.xlabel('Recall')\n",
    "plt.ylabel('Precision')\n",
    "plt.legend(loc='best')\n",
    "plt.savefig('PRC best models', dpi=300)\n",
    "plt.show()"
   ],
   "metadata": {
    "collapsed": false,
    "pycharm": {
     "name": "#%%\n"
    }
   }
  },
  {
   "cell_type": "markdown",
   "source": [
    "#### Accuracy, precision and recall, f1-score"
   ],
   "metadata": {
    "collapsed": false
   }
  },
  {
   "cell_type": "code",
   "execution_count": 40,
   "outputs": [
    {
     "name": "stdout",
     "output_type": "stream",
     "text": [
      "--- Gradient Boosting Tree on all features ---\n",
      "Accuracy score is:\n",
      "0.7650583412172817\n",
      "Recall is:\n",
      "0.809366391184573\n",
      "Precision is:\n",
      "0.7864025695931478\n",
      "F1-Score is:\n",
      "0.7977192506109151\n",
      "\n"
     ]
    }
   ],
   "source": [
    "print('--- Gradient Boosting Tree on all features ---')\n",
    "print(\"Accuracy score is:\")\n",
    "print(accuracy_score(y_test, predictions_gbt_all))\n",
    "print(\"Recall is:\")\n",
    "print(recall_score(y_test, predictions_gbt_all))\n",
    "print(\"Precision is:\")\n",
    "print(precision_score(y_test, predictions_gbt_all))\n",
    "print(\"F1-Score is:\")\n",
    "print(f1_score(y_test, predictions_gbt_all))\n",
    "print()"
   ],
   "metadata": {
    "collapsed": false,
    "pycharm": {
     "name": "#%%\n"
    }
   }
  },
  {
   "cell_type": "code",
   "execution_count": 41,
   "outputs": [
    {
     "data": {
      "text/plain": "array([[0.54500721, 0.45499279],\n       [0.33406503, 0.66593497],\n       [0.80260731, 0.19739269],\n       ...,\n       [0.44598492, 0.55401508],\n       [0.27287537, 0.72712463],\n       [0.78697836, 0.21302164]])"
     },
     "execution_count": 41,
     "metadata": {},
     "output_type": "execute_result"
    }
   ],
   "source": [
    "pred_prob_log_all"
   ],
   "metadata": {
    "collapsed": false,
    "pycharm": {
     "name": "#%%\n"
    }
   }
  },
  {
   "cell_type": "code",
   "execution_count": 42,
   "outputs": [
    {
     "data": {
      "text/plain": "array([0.07140788, 0.07350582, 0.07440895, ..., 0.95867875, 0.9635359 ,\n       0.96956882])"
     },
     "execution_count": 42,
     "metadata": {},
     "output_type": "execute_result"
    }
   ],
   "source": [
    "thresholds_log_all"
   ],
   "metadata": {
    "collapsed": false,
    "pycharm": {
     "name": "#%%\n"
    }
   }
  },
  {
   "cell_type": "code",
   "execution_count": 43,
   "outputs": [
    {
     "data": {
      "text/plain": "3158"
     },
     "execution_count": 43,
     "metadata": {},
     "output_type": "execute_result"
    }
   ],
   "source": [
    "len(thresholds_log_all)"
   ],
   "metadata": {
    "collapsed": false,
    "pycharm": {
     "name": "#%%\n"
    }
   }
  },
  {
   "cell_type": "code",
   "execution_count": 44,
   "outputs": [
    {
     "data": {
      "text/plain": "           fpr       tpr\n0     0.000000  0.000000\n1     0.000000  0.000551\n2     0.000000  0.013774\n3     0.000737  0.013774\n4     0.000737  0.024793\n...        ...       ...\n1331  0.987463  0.998898\n1332  0.987463  0.999449\n1333  0.997050  0.999449\n1334  0.997050  1.000000\n1335  1.000000  1.000000\n\n[1336 rows x 2 columns]",
      "text/html": "<div>\n<style scoped>\n    .dataframe tbody tr th:only-of-type {\n        vertical-align: middle;\n    }\n\n    .dataframe tbody tr th {\n        vertical-align: top;\n    }\n\n    .dataframe thead th {\n        text-align: right;\n    }\n</style>\n<table border=\"1\" class=\"dataframe\">\n  <thead>\n    <tr style=\"text-align: right;\">\n      <th></th>\n      <th>fpr</th>\n      <th>tpr</th>\n    </tr>\n  </thead>\n  <tbody>\n    <tr>\n      <th>0</th>\n      <td>0.000000</td>\n      <td>0.000000</td>\n    </tr>\n    <tr>\n      <th>1</th>\n      <td>0.000000</td>\n      <td>0.000551</td>\n    </tr>\n    <tr>\n      <th>2</th>\n      <td>0.000000</td>\n      <td>0.013774</td>\n    </tr>\n    <tr>\n      <th>3</th>\n      <td>0.000737</td>\n      <td>0.013774</td>\n    </tr>\n    <tr>\n      <th>4</th>\n      <td>0.000737</td>\n      <td>0.024793</td>\n    </tr>\n    <tr>\n      <th>...</th>\n      <td>...</td>\n      <td>...</td>\n    </tr>\n    <tr>\n      <th>1331</th>\n      <td>0.987463</td>\n      <td>0.998898</td>\n    </tr>\n    <tr>\n      <th>1332</th>\n      <td>0.987463</td>\n      <td>0.999449</td>\n    </tr>\n    <tr>\n      <th>1333</th>\n      <td>0.997050</td>\n      <td>0.999449</td>\n    </tr>\n    <tr>\n      <th>1334</th>\n      <td>0.997050</td>\n      <td>1.000000</td>\n    </tr>\n    <tr>\n      <th>1335</th>\n      <td>1.000000</td>\n      <td>1.000000</td>\n    </tr>\n  </tbody>\n</table>\n<p>1336 rows × 2 columns</p>\n</div>"
     },
     "execution_count": 44,
     "metadata": {},
     "output_type": "execute_result"
    }
   ],
   "source": [
    "testy = pd.DataFrame(data= {'fpr':fpr_log_all, 'tpr':tpr_log_all})\n",
    "testy"
   ],
   "metadata": {
    "collapsed": false,
    "pycharm": {
     "name": "#%%\n"
    }
   }
  }
 ],
 "metadata": {
  "kernelspec": {
   "display_name": "Python 3",
   "language": "python",
   "name": "python3"
  },
  "language_info": {
   "codemirror_mode": {
    "name": "ipython",
    "version": 3
   },
   "file_extension": ".py",
   "mimetype": "text/x-python",
   "name": "python",
   "nbconvert_exporter": "python",
   "pygments_lexer": "ipython3",
   "version": "3.8.5"
  }
 },
 "nbformat": 4,
 "nbformat_minor": 1
}