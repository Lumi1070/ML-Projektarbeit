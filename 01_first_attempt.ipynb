{
 "cells": [
  {
   "cell_type": "markdown",
   "metadata": {
    "collapsed": true,
    "pycharm": {
     "name": "#%% md\n"
    }
   },
   "source": [
    "## Imports"
   ]
  },
  {
   "cell_type": "code",
   "execution_count": 1,
   "metadata": {
    "pycharm": {
     "name": "#%%\n"
    }
   },
   "outputs": [],
   "source": [
    "import pandas as pd\n",
    "\n",
    "from sklearn.model_selection import train_test_split\n",
    "from sklearn.preprocessing import StandardScaler\n",
    "from sklearn.model_selection import GridSearchCV\n",
    "from sklearn.linear_model import LogisticRegression\n",
    "from sklearn.ensemble import RandomForestClassifier\n",
    "from sklearn.ensemble import GradientBoostingClassifier\n",
    "from sklearn.metrics import accuracy_score, precision_score, recall_score"
   ]
  },
  {
   "cell_type": "markdown",
   "metadata": {
    "pycharm": {
     "name": "#%% md\n"
    }
   },
   "source": [
    "## Lade Datensatz"
   ]
  },
  {
   "cell_type": "code",
   "execution_count": 2,
   "metadata": {
    "pycharm": {
     "name": "#%%\n"
    }
   },
   "outputs": [
    {
     "data": {
      "text/plain": "['destination',\n 'passanger',\n 'weather',\n 'temperature',\n 'time',\n 'coupon',\n 'expiration',\n 'gender',\n 'age',\n 'maritalStatus',\n 'has_children',\n 'education',\n 'occupation',\n 'income',\n 'car',\n 'Bar',\n 'CoffeeHouse',\n 'CarryAway',\n 'RestaurantLessThan20',\n 'Restaurant20To50',\n 'toCoupon_GEQ5min',\n 'toCoupon_GEQ15min',\n 'toCoupon_GEQ25min',\n 'direction_same',\n 'direction_opp',\n 'Y']"
     },
     "metadata": {},
     "output_type": "display_data"
    },
    {
     "data": {
      "text/plain": "           destination  passenger weather  temperature  time  \\\n0      No Urgent Place      Alone   Sunny           55   2PM   \n1      No Urgent Place  Friend(s)   Sunny           80  10AM   \n2      No Urgent Place  Friend(s)   Sunny           80  10AM   \n3      No Urgent Place  Friend(s)   Sunny           80   2PM   \n4      No Urgent Place  Friend(s)   Sunny           80   2PM   \n...                ...        ...     ...          ...   ...   \n12679             Home    Partner   Rainy           55   6PM   \n12680             Work      Alone   Rainy           55   7AM   \n12681             Work      Alone   Snowy           30   7AM   \n12682             Work      Alone   Snowy           30   7AM   \n12683             Work      Alone   Sunny           80   7AM   \n\n                      coupon expiration  gender age      maritalStatus  ...  \\\n0            Restaurant(<20)         1d  Female  21  Unmarried partner  ...   \n1               Coffee House         2h  Female  21  Unmarried partner  ...   \n2      Carry out & Take away         2h  Female  21  Unmarried partner  ...   \n3               Coffee House         2h  Female  21  Unmarried partner  ...   \n4               Coffee House         1d  Female  21  Unmarried partner  ...   \n...                      ...        ...     ...  ..                ...  ...   \n12679  Carry out & Take away         1d    Male  26             Single  ...   \n12680  Carry out & Take away         1d    Male  26             Single  ...   \n12681           Coffee House         1d    Male  26             Single  ...   \n12682                    Bar         1d    Male  26             Single  ...   \n12683      Restaurant(20-50)         2h    Male  26             Single  ...   \n\n       CoffeeHouse CarryAway RestaurantLessThan20 Restaurant20To50  \\\n0            never       NaN                  4~8              1~3   \n1            never       NaN                  4~8              1~3   \n2            never       NaN                  4~8              1~3   \n3            never       NaN                  4~8              1~3   \n4            never       NaN                  4~8              1~3   \n...            ...       ...                  ...              ...   \n12679        never       1~3                  4~8              1~3   \n12680        never       1~3                  4~8              1~3   \n12681        never       1~3                  4~8              1~3   \n12682        never       1~3                  4~8              1~3   \n12683        never       1~3                  4~8              1~3   \n\n      toCoupon_GEQ5min toCoupon_GEQ15min toCoupon_GEQ25min direction_same  \\\n0                    1                 0                 0              0   \n1                    1                 0                 0              0   \n2                    1                 1                 0              0   \n3                    1                 1                 0              0   \n4                    1                 1                 0              0   \n...                ...               ...               ...            ...   \n12679                1                 0                 0              1   \n12680                1                 0                 0              0   \n12681                1                 0                 0              1   \n12682                1                 1                 1              0   \n12683                1                 0                 0              1   \n\n      direction_opp  Y  \n0                 1  1  \n1                 1  0  \n2                 1  1  \n3                 1  0  \n4                 1  0  \n...             ... ..  \n12679             0  1  \n12680             1  1  \n12681             0  0  \n12682             1  0  \n12683             0  0  \n\n[12684 rows x 26 columns]",
      "text/html": "<div>\n<style scoped>\n    .dataframe tbody tr th:only-of-type {\n        vertical-align: middle;\n    }\n\n    .dataframe tbody tr th {\n        vertical-align: top;\n    }\n\n    .dataframe thead th {\n        text-align: right;\n    }\n</style>\n<table border=\"1\" class=\"dataframe\">\n  <thead>\n    <tr style=\"text-align: right;\">\n      <th></th>\n      <th>destination</th>\n      <th>passenger</th>\n      <th>weather</th>\n      <th>temperature</th>\n      <th>time</th>\n      <th>coupon</th>\n      <th>expiration</th>\n      <th>gender</th>\n      <th>age</th>\n      <th>maritalStatus</th>\n      <th>...</th>\n      <th>CoffeeHouse</th>\n      <th>CarryAway</th>\n      <th>RestaurantLessThan20</th>\n      <th>Restaurant20To50</th>\n      <th>toCoupon_GEQ5min</th>\n      <th>toCoupon_GEQ15min</th>\n      <th>toCoupon_GEQ25min</th>\n      <th>direction_same</th>\n      <th>direction_opp</th>\n      <th>Y</th>\n    </tr>\n  </thead>\n  <tbody>\n    <tr>\n      <th>0</th>\n      <td>No Urgent Place</td>\n      <td>Alone</td>\n      <td>Sunny</td>\n      <td>55</td>\n      <td>2PM</td>\n      <td>Restaurant(&lt;20)</td>\n      <td>1d</td>\n      <td>Female</td>\n      <td>21</td>\n      <td>Unmarried partner</td>\n      <td>...</td>\n      <td>never</td>\n      <td>NaN</td>\n      <td>4~8</td>\n      <td>1~3</td>\n      <td>1</td>\n      <td>0</td>\n      <td>0</td>\n      <td>0</td>\n      <td>1</td>\n      <td>1</td>\n    </tr>\n    <tr>\n      <th>1</th>\n      <td>No Urgent Place</td>\n      <td>Friend(s)</td>\n      <td>Sunny</td>\n      <td>80</td>\n      <td>10AM</td>\n      <td>Coffee House</td>\n      <td>2h</td>\n      <td>Female</td>\n      <td>21</td>\n      <td>Unmarried partner</td>\n      <td>...</td>\n      <td>never</td>\n      <td>NaN</td>\n      <td>4~8</td>\n      <td>1~3</td>\n      <td>1</td>\n      <td>0</td>\n      <td>0</td>\n      <td>0</td>\n      <td>1</td>\n      <td>0</td>\n    </tr>\n    <tr>\n      <th>2</th>\n      <td>No Urgent Place</td>\n      <td>Friend(s)</td>\n      <td>Sunny</td>\n      <td>80</td>\n      <td>10AM</td>\n      <td>Carry out &amp; Take away</td>\n      <td>2h</td>\n      <td>Female</td>\n      <td>21</td>\n      <td>Unmarried partner</td>\n      <td>...</td>\n      <td>never</td>\n      <td>NaN</td>\n      <td>4~8</td>\n      <td>1~3</td>\n      <td>1</td>\n      <td>1</td>\n      <td>0</td>\n      <td>0</td>\n      <td>1</td>\n      <td>1</td>\n    </tr>\n    <tr>\n      <th>3</th>\n      <td>No Urgent Place</td>\n      <td>Friend(s)</td>\n      <td>Sunny</td>\n      <td>80</td>\n      <td>2PM</td>\n      <td>Coffee House</td>\n      <td>2h</td>\n      <td>Female</td>\n      <td>21</td>\n      <td>Unmarried partner</td>\n      <td>...</td>\n      <td>never</td>\n      <td>NaN</td>\n      <td>4~8</td>\n      <td>1~3</td>\n      <td>1</td>\n      <td>1</td>\n      <td>0</td>\n      <td>0</td>\n      <td>1</td>\n      <td>0</td>\n    </tr>\n    <tr>\n      <th>4</th>\n      <td>No Urgent Place</td>\n      <td>Friend(s)</td>\n      <td>Sunny</td>\n      <td>80</td>\n      <td>2PM</td>\n      <td>Coffee House</td>\n      <td>1d</td>\n      <td>Female</td>\n      <td>21</td>\n      <td>Unmarried partner</td>\n      <td>...</td>\n      <td>never</td>\n      <td>NaN</td>\n      <td>4~8</td>\n      <td>1~3</td>\n      <td>1</td>\n      <td>1</td>\n      <td>0</td>\n      <td>0</td>\n      <td>1</td>\n      <td>0</td>\n    </tr>\n    <tr>\n      <th>...</th>\n      <td>...</td>\n      <td>...</td>\n      <td>...</td>\n      <td>...</td>\n      <td>...</td>\n      <td>...</td>\n      <td>...</td>\n      <td>...</td>\n      <td>...</td>\n      <td>...</td>\n      <td>...</td>\n      <td>...</td>\n      <td>...</td>\n      <td>...</td>\n      <td>...</td>\n      <td>...</td>\n      <td>...</td>\n      <td>...</td>\n      <td>...</td>\n      <td>...</td>\n      <td>...</td>\n    </tr>\n    <tr>\n      <th>12679</th>\n      <td>Home</td>\n      <td>Partner</td>\n      <td>Rainy</td>\n      <td>55</td>\n      <td>6PM</td>\n      <td>Carry out &amp; Take away</td>\n      <td>1d</td>\n      <td>Male</td>\n      <td>26</td>\n      <td>Single</td>\n      <td>...</td>\n      <td>never</td>\n      <td>1~3</td>\n      <td>4~8</td>\n      <td>1~3</td>\n      <td>1</td>\n      <td>0</td>\n      <td>0</td>\n      <td>1</td>\n      <td>0</td>\n      <td>1</td>\n    </tr>\n    <tr>\n      <th>12680</th>\n      <td>Work</td>\n      <td>Alone</td>\n      <td>Rainy</td>\n      <td>55</td>\n      <td>7AM</td>\n      <td>Carry out &amp; Take away</td>\n      <td>1d</td>\n      <td>Male</td>\n      <td>26</td>\n      <td>Single</td>\n      <td>...</td>\n      <td>never</td>\n      <td>1~3</td>\n      <td>4~8</td>\n      <td>1~3</td>\n      <td>1</td>\n      <td>0</td>\n      <td>0</td>\n      <td>0</td>\n      <td>1</td>\n      <td>1</td>\n    </tr>\n    <tr>\n      <th>12681</th>\n      <td>Work</td>\n      <td>Alone</td>\n      <td>Snowy</td>\n      <td>30</td>\n      <td>7AM</td>\n      <td>Coffee House</td>\n      <td>1d</td>\n      <td>Male</td>\n      <td>26</td>\n      <td>Single</td>\n      <td>...</td>\n      <td>never</td>\n      <td>1~3</td>\n      <td>4~8</td>\n      <td>1~3</td>\n      <td>1</td>\n      <td>0</td>\n      <td>0</td>\n      <td>1</td>\n      <td>0</td>\n      <td>0</td>\n    </tr>\n    <tr>\n      <th>12682</th>\n      <td>Work</td>\n      <td>Alone</td>\n      <td>Snowy</td>\n      <td>30</td>\n      <td>7AM</td>\n      <td>Bar</td>\n      <td>1d</td>\n      <td>Male</td>\n      <td>26</td>\n      <td>Single</td>\n      <td>...</td>\n      <td>never</td>\n      <td>1~3</td>\n      <td>4~8</td>\n      <td>1~3</td>\n      <td>1</td>\n      <td>1</td>\n      <td>1</td>\n      <td>0</td>\n      <td>1</td>\n      <td>0</td>\n    </tr>\n    <tr>\n      <th>12683</th>\n      <td>Work</td>\n      <td>Alone</td>\n      <td>Sunny</td>\n      <td>80</td>\n      <td>7AM</td>\n      <td>Restaurant(20-50)</td>\n      <td>2h</td>\n      <td>Male</td>\n      <td>26</td>\n      <td>Single</td>\n      <td>...</td>\n      <td>never</td>\n      <td>1~3</td>\n      <td>4~8</td>\n      <td>1~3</td>\n      <td>1</td>\n      <td>0</td>\n      <td>0</td>\n      <td>1</td>\n      <td>0</td>\n      <td>0</td>\n    </tr>\n  </tbody>\n</table>\n<p>12684 rows × 26 columns</p>\n</div>"
     },
     "execution_count": 2,
     "metadata": {},
     "output_type": "execute_result"
    }
   ],
   "source": [
    "df = pd.read_csv('in-vehicle-coupon-recommendation.csv')\n",
    "display(list(df.columns.values))\n",
    "df.rename(columns={\"passanger\": \"passenger\"}, inplace=True)\n",
    "df"
   ]
  },
  {
   "cell_type": "markdown",
   "metadata": {
    "pycharm": {
     "name": "#%% md\n"
    }
   },
   "source": [
    "## Fill missing values in data\n",
    "- Count NAs per column\n",
    "- For each column containing NAs pick the mode\n",
    "- Replace NAs with mode if mode is not NaN (insufficient data)\n",
    "\n",
    "(only works because all affected features are categorical)"
   ]
  },
  {
   "cell_type": "code",
   "execution_count": 3,
   "metadata": {
    "pycharm": {
     "name": "#%%\n"
    }
   },
   "outputs": [
    {
     "data": {
      "text/plain": "destination                 0\npassenger                   0\nweather                     0\ntemperature                 0\ntime                        0\ncoupon                      0\nexpiration                  0\ngender                      0\nage                         0\nmaritalStatus               0\nhas_children                0\neducation                   0\noccupation                  0\nincome                      0\ncar                     12576\nBar                       107\nCoffeeHouse               217\nCarryAway                 151\nRestaurantLessThan20      130\nRestaurant20To50          189\ntoCoupon_GEQ5min            0\ntoCoupon_GEQ15min           0\ntoCoupon_GEQ25min           0\ndirection_same              0\ndirection_opp               0\nY                           0\ndtype: int64"
     },
     "execution_count": 3,
     "metadata": {},
     "output_type": "execute_result"
    }
   ],
   "source": [
    "df.isna().sum()"
   ]
  },
  {
   "cell_type": "code",
   "execution_count": 4,
   "metadata": {
    "pycharm": {
     "name": "#%%\n"
    }
   },
   "outputs": [
    {
     "name": "stdout",
     "output_type": "stream",
     "text": [
      "Current Column: 'car'\n",
      "NaN                                         12576\n",
      "Mazda5                                         22\n",
      "do not drive                                   22\n",
      "Scooter and motorcycle                         22\n",
      "Car that is too old to install Onstar :D       21\n",
      "crossover                                      21\n",
      "Name: car, dtype: int64\n",
      "\n",
      "Not filling in Column 'car' due to lack of data.\n",
      "\n",
      "\n",
      "Current Column: 'Bar'\n",
      "never    5197\n",
      "less1    3482\n",
      "1~3      2473\n",
      "4~8      1076\n",
      "gt8       349\n",
      "NaN       107\n",
      "Name: Bar, dtype: int64\n",
      "\n",
      "Filling Column 'Bar' with mode: never\n",
      "never    5304\n",
      "less1    3482\n",
      "1~3      2473\n",
      "4~8      1076\n",
      "gt8       349\n",
      "Name: Bar, dtype: int64\n",
      "\n",
      "\n",
      "Current Column: 'CoffeeHouse'\n",
      "less1    3385\n",
      "1~3      3225\n",
      "never    2962\n",
      "4~8      1784\n",
      "gt8      1111\n",
      "NaN       217\n",
      "Name: CoffeeHouse, dtype: int64\n",
      "\n",
      "Filling Column 'CoffeeHouse' with mode: less1\n",
      "less1    3602\n",
      "1~3      3225\n",
      "never    2962\n",
      "4~8      1784\n",
      "gt8      1111\n",
      "Name: CoffeeHouse, dtype: int64\n",
      "\n",
      "\n",
      "Current Column: 'CarryAway'\n",
      "1~3      4672\n",
      "4~8      4258\n",
      "less1    1856\n",
      "gt8      1594\n",
      "never     153\n",
      "NaN       151\n",
      "Name: CarryAway, dtype: int64\n",
      "\n",
      "Filling Column 'CarryAway' with mode: 1~3\n",
      "1~3      4823\n",
      "4~8      4258\n",
      "less1    1856\n",
      "gt8      1594\n",
      "never     153\n",
      "Name: CarryAway, dtype: int64\n",
      "\n",
      "\n",
      "Current Column: 'RestaurantLessThan20'\n",
      "1~3      5376\n",
      "4~8      3580\n",
      "less1    2093\n",
      "gt8      1285\n",
      "never     220\n",
      "NaN       130\n",
      "Name: RestaurantLessThan20, dtype: int64\n",
      "\n",
      "Filling Column 'RestaurantLessThan20' with mode: 1~3\n",
      "1~3      5506\n",
      "4~8      3580\n",
      "less1    2093\n",
      "gt8      1285\n",
      "never     220\n",
      "Name: RestaurantLessThan20, dtype: int64\n",
      "\n",
      "\n",
      "Current Column: 'Restaurant20To50'\n",
      "less1    6077\n",
      "1~3      3290\n",
      "never    2136\n",
      "4~8       728\n",
      "gt8       264\n",
      "NaN       189\n",
      "Name: Restaurant20To50, dtype: int64\n",
      "\n",
      "Filling Column 'Restaurant20To50' with mode: less1\n",
      "less1    6266\n",
      "1~3      3290\n",
      "never    2136\n",
      "4~8       728\n",
      "gt8       264\n",
      "Name: Restaurant20To50, dtype: int64\n",
      "\n",
      "\n"
     ]
    },
    {
     "data": {
      "text/plain": "destination                 0\npassenger                   0\nweather                     0\ntemperature                 0\ntime                        0\ncoupon                      0\nexpiration                  0\ngender                      0\nage                         0\nmaritalStatus               0\nhas_children                0\neducation                   0\noccupation                  0\nincome                      0\ncar                     12576\nBar                         0\nCoffeeHouse                 0\nCarryAway                   0\nRestaurantLessThan20        0\nRestaurant20To50            0\ntoCoupon_GEQ5min            0\ntoCoupon_GEQ15min           0\ntoCoupon_GEQ25min           0\ndirection_same              0\ndirection_opp               0\nY                           0\ndtype: int64"
     },
     "execution_count": 4,
     "metadata": {},
     "output_type": "execute_result"
    }
   ],
   "source": [
    "for index, value in df.isna().sum().items():\n",
    "    if value>0:\n",
    "        print('Current Column: \\'' + index + '\\'')\n",
    "        print(df[index].value_counts(dropna=False))\n",
    "        mode = df[index].value_counts(dropna=False).index[0]\n",
    "        print()\n",
    "        if str(mode) == 'nan':\n",
    "            print('Not filling in Column \\'' + index + '\\' due to lack of data.')\n",
    "        else:\n",
    "            print('Filling Column \\'' + index + '\\' with mode: ' + str(mode))\n",
    "            df[index] = df[index].fillna(mode)\n",
    "            print(df[index].value_counts(dropna=False))\n",
    "        print('\\n')\n",
    "\n",
    "df.isna().sum()"
   ]
  },
  {
   "cell_type": "markdown",
   "metadata": {
    "pycharm": {
     "name": "#%% md\n"
    }
   },
   "source": [
    "## One-hot-encoding\n",
    "- make a list of all categorical features\n",
    "- get an overview of occurring values\n",
    "- drop all binary labeled features (already OHE)\n",
    "- for each feature create new columns, one for each distinct value<br>\n",
    "FEATURE_IS_VALUE (e.g. destination_IS_Home)\n",
    "- drop old features"
   ]
  },
  {
   "cell_type": "code",
   "execution_count": 5,
   "metadata": {
    "pycharm": {
     "name": "#%%\n"
    }
   },
   "outputs": [
    {
     "name": "stdout",
     "output_type": "stream",
     "text": [
      "Current feature: destination\n",
      "No Urgent Place\n",
      "Home\n",
      "Work\n",
      "\n",
      "Current feature: passenger\n",
      "Alone\n",
      "Friend(s)\n",
      "Partner\n",
      "Kid(s)\n",
      "\n",
      "Current feature: weather\n",
      "Sunny\n",
      "Snowy\n",
      "Rainy\n",
      "\n",
      "Current feature: time\n",
      "6PM\n",
      "7AM\n",
      "10AM\n",
      "2PM\n",
      "10PM\n",
      "\n",
      "Current feature: coupon\n",
      "Coffee House\n",
      "Restaurant(<20)\n",
      "Carry out & Take away\n",
      "Bar\n",
      "Restaurant(20-50)\n",
      "\n",
      "Current feature: expiration\n",
      "1d\n",
      "2h\n",
      "\n",
      "Current feature: gender\n",
      "Female\n",
      "Male\n",
      "\n",
      "Current feature: age\n",
      "21\n",
      "26\n",
      "31\n",
      "50plus\n",
      "36\n",
      "41\n",
      "46\n",
      "below21\n",
      "\n",
      "Current feature: maritalStatus\n",
      "Married partner\n",
      "Single\n",
      "Unmarried partner\n",
      "Divorced\n",
      "Widowed\n",
      "\n",
      "Current feature: has_children\n",
      "0\n",
      "1\n",
      "\n",
      "Current feature: education\n",
      "Some college - no degree\n",
      "Bachelors degree\n",
      "Graduate degree (Masters or Doctorate)\n",
      "Associates degree\n",
      "High School Graduate\n",
      "Some High School\n",
      "\n",
      "Current feature: occupation\n",
      "Unemployed\n",
      "Student\n",
      "Computer & Mathematical\n",
      "Sales & Related\n",
      "Education&Training&Library\n",
      "Management\n",
      "Office & Administrative Support\n",
      "Arts Design Entertainment Sports & Media\n",
      "Business & Financial\n",
      "Retired\n",
      "Food Preparation & Serving Related\n",
      "Healthcare Practitioners & Technical\n",
      "Healthcare Support\n",
      "Community & Social Services\n",
      "Legal\n",
      "Transportation & Material Moving\n",
      "Personal Care & Service\n",
      "Protective Service\n",
      "Architecture & Engineering\n",
      "Life Physical Social Science\n",
      "Construction & Extraction\n",
      "Installation Maintenance & Repair\n",
      "Production Occupations\n",
      "Building & Grounds Cleaning & Maintenance\n",
      "Farming Fishing & Forestry\n",
      "\n",
      "Current feature: income\n",
      "$25000 - $37499\n",
      "$12500 - $24999\n",
      "$37500 - $49999\n",
      "$100000 or More\n",
      "$50000 - $62499\n",
      "Less than $12500\n",
      "$87500 - $99999\n",
      "$75000 - $87499\n",
      "$62500 - $74999\n",
      "\n",
      "Current feature: car\n",
      "nan\n",
      "Mazda5\n",
      "do not drive\n",
      "Scooter and motorcycle\n",
      "Car that is too old to install Onstar :D\n",
      "crossover\n",
      "\n",
      "Current feature: Bar\n",
      "never\n",
      "less1\n",
      "1~3\n",
      "4~8\n",
      "gt8\n",
      "\n",
      "Current feature: CoffeeHouse\n",
      "less1\n",
      "1~3\n",
      "never\n",
      "4~8\n",
      "gt8\n",
      "\n",
      "Current feature: CarryAway\n",
      "1~3\n",
      "4~8\n",
      "less1\n",
      "gt8\n",
      "never\n",
      "\n",
      "Current feature: RestaurantLessThan20\n",
      "1~3\n",
      "4~8\n",
      "less1\n",
      "gt8\n",
      "never\n",
      "\n",
      "Current feature: Restaurant20To50\n",
      "less1\n",
      "1~3\n",
      "never\n",
      "4~8\n",
      "gt8\n",
      "\n",
      "Current feature: toCoupon_GEQ5min\n",
      "1\n",
      "\n",
      "Current feature: toCoupon_GEQ15min\n",
      "1\n",
      "0\n",
      "\n",
      "Current feature: toCoupon_GEQ25min\n",
      "0\n",
      "1\n",
      "\n",
      "Current feature: direction_same\n",
      "0\n",
      "1\n",
      "\n",
      "Current feature: direction_opp\n",
      "1\n",
      "0\n",
      "\n",
      "Current feature: Y\n",
      "1\n",
      "0\n",
      "\n",
      "Index(['destination', 'passenger', 'weather', 'time', 'coupon', 'expiration',\n",
      "       'gender', 'age', 'maritalStatus', 'education', 'occupation', 'income',\n",
      "       'car', 'Bar', 'CoffeeHouse', 'CarryAway', 'RestaurantLessThan20',\n",
      "       'Restaurant20To50'],\n",
      "      dtype='object')\n"
     ]
    }
   ],
   "source": [
    "dfOHE = df\n",
    "featuresToBeOHE = df.columns.drop('temperature')\n",
    "\n",
    "for feature in featuresToBeOHE:\n",
    "    print('Current feature: ' + feature)\n",
    "    valueArray = df[feature].value_counts(dropna=False).index\n",
    "    for value in valueArray:\n",
    "        print(value)\n",
    "    print()\n",
    "\n",
    "featuresToBeOHE = featuresToBeOHE.drop(labels=['has_children', 'toCoupon_GEQ5min', 'toCoupon_GEQ15min', 'toCoupon_GEQ25min', 'direction_same', 'direction_opp', 'Y'])\n",
    "print(featuresToBeOHE)"
   ]
  },
  {
   "cell_type": "code",
   "execution_count": 6,
   "metadata": {
    "pycharm": {
     "name": "#%%\n"
    }
   },
   "outputs": [
    {
     "data": {
      "text/plain": "       destination  passenger weather  temperature  time  \\\n0  No Urgent Place      Alone   Sunny           55   2PM   \n1  No Urgent Place  Friend(s)   Sunny           80  10AM   \n2  No Urgent Place  Friend(s)   Sunny           80  10AM   \n3  No Urgent Place  Friend(s)   Sunny           80   2PM   \n4  No Urgent Place  Friend(s)   Sunny           80   2PM   \n\n                  coupon expiration  gender age      maritalStatus  ...  \\\n0        Restaurant(<20)         1d  Female  21  Unmarried partner  ...   \n1           Coffee House         2h  Female  21  Unmarried partner  ...   \n2  Carry out & Take away         2h  Female  21  Unmarried partner  ...   \n3           Coffee House         2h  Female  21  Unmarried partner  ...   \n4           Coffee House         1d  Female  21  Unmarried partner  ...   \n\n   CoffeeHouse CarryAway RestaurantLessThan20 Restaurant20To50  \\\n0        never       1~3                  4~8              1~3   \n1        never       1~3                  4~8              1~3   \n2        never       1~3                  4~8              1~3   \n3        never       1~3                  4~8              1~3   \n4        never       1~3                  4~8              1~3   \n\n  toCoupon_GEQ5min toCoupon_GEQ15min toCoupon_GEQ25min direction_same  \\\n0                1                 0                 0              0   \n1                1                 0                 0              0   \n2                1                 1                 0              0   \n3                1                 1                 0              0   \n4                1                 1                 0              0   \n\n  direction_opp  Y  \n0             1  1  \n1             1  0  \n2             1  1  \n3             1  0  \n4             1  0  \n\n[5 rows x 26 columns]",
      "text/html": "<div>\n<style scoped>\n    .dataframe tbody tr th:only-of-type {\n        vertical-align: middle;\n    }\n\n    .dataframe tbody tr th {\n        vertical-align: top;\n    }\n\n    .dataframe thead th {\n        text-align: right;\n    }\n</style>\n<table border=\"1\" class=\"dataframe\">\n  <thead>\n    <tr style=\"text-align: right;\">\n      <th></th>\n      <th>destination</th>\n      <th>passenger</th>\n      <th>weather</th>\n      <th>temperature</th>\n      <th>time</th>\n      <th>coupon</th>\n      <th>expiration</th>\n      <th>gender</th>\n      <th>age</th>\n      <th>maritalStatus</th>\n      <th>...</th>\n      <th>CoffeeHouse</th>\n      <th>CarryAway</th>\n      <th>RestaurantLessThan20</th>\n      <th>Restaurant20To50</th>\n      <th>toCoupon_GEQ5min</th>\n      <th>toCoupon_GEQ15min</th>\n      <th>toCoupon_GEQ25min</th>\n      <th>direction_same</th>\n      <th>direction_opp</th>\n      <th>Y</th>\n    </tr>\n  </thead>\n  <tbody>\n    <tr>\n      <th>0</th>\n      <td>No Urgent Place</td>\n      <td>Alone</td>\n      <td>Sunny</td>\n      <td>55</td>\n      <td>2PM</td>\n      <td>Restaurant(&lt;20)</td>\n      <td>1d</td>\n      <td>Female</td>\n      <td>21</td>\n      <td>Unmarried partner</td>\n      <td>...</td>\n      <td>never</td>\n      <td>1~3</td>\n      <td>4~8</td>\n      <td>1~3</td>\n      <td>1</td>\n      <td>0</td>\n      <td>0</td>\n      <td>0</td>\n      <td>1</td>\n      <td>1</td>\n    </tr>\n    <tr>\n      <th>1</th>\n      <td>No Urgent Place</td>\n      <td>Friend(s)</td>\n      <td>Sunny</td>\n      <td>80</td>\n      <td>10AM</td>\n      <td>Coffee House</td>\n      <td>2h</td>\n      <td>Female</td>\n      <td>21</td>\n      <td>Unmarried partner</td>\n      <td>...</td>\n      <td>never</td>\n      <td>1~3</td>\n      <td>4~8</td>\n      <td>1~3</td>\n      <td>1</td>\n      <td>0</td>\n      <td>0</td>\n      <td>0</td>\n      <td>1</td>\n      <td>0</td>\n    </tr>\n    <tr>\n      <th>2</th>\n      <td>No Urgent Place</td>\n      <td>Friend(s)</td>\n      <td>Sunny</td>\n      <td>80</td>\n      <td>10AM</td>\n      <td>Carry out &amp; Take away</td>\n      <td>2h</td>\n      <td>Female</td>\n      <td>21</td>\n      <td>Unmarried partner</td>\n      <td>...</td>\n      <td>never</td>\n      <td>1~3</td>\n      <td>4~8</td>\n      <td>1~3</td>\n      <td>1</td>\n      <td>1</td>\n      <td>0</td>\n      <td>0</td>\n      <td>1</td>\n      <td>1</td>\n    </tr>\n    <tr>\n      <th>3</th>\n      <td>No Urgent Place</td>\n      <td>Friend(s)</td>\n      <td>Sunny</td>\n      <td>80</td>\n      <td>2PM</td>\n      <td>Coffee House</td>\n      <td>2h</td>\n      <td>Female</td>\n      <td>21</td>\n      <td>Unmarried partner</td>\n      <td>...</td>\n      <td>never</td>\n      <td>1~3</td>\n      <td>4~8</td>\n      <td>1~3</td>\n      <td>1</td>\n      <td>1</td>\n      <td>0</td>\n      <td>0</td>\n      <td>1</td>\n      <td>0</td>\n    </tr>\n    <tr>\n      <th>4</th>\n      <td>No Urgent Place</td>\n      <td>Friend(s)</td>\n      <td>Sunny</td>\n      <td>80</td>\n      <td>2PM</td>\n      <td>Coffee House</td>\n      <td>1d</td>\n      <td>Female</td>\n      <td>21</td>\n      <td>Unmarried partner</td>\n      <td>...</td>\n      <td>never</td>\n      <td>1~3</td>\n      <td>4~8</td>\n      <td>1~3</td>\n      <td>1</td>\n      <td>1</td>\n      <td>0</td>\n      <td>0</td>\n      <td>1</td>\n      <td>0</td>\n    </tr>\n  </tbody>\n</table>\n<p>5 rows × 26 columns</p>\n</div>"
     },
     "execution_count": 6,
     "metadata": {},
     "output_type": "execute_result"
    }
   ],
   "source": [
    "df.head()"
   ]
  },
  {
   "cell_type": "code",
   "execution_count": 7,
   "metadata": {
    "pycharm": {
     "name": "#%%\n"
    }
   },
   "outputs": [
    {
     "name": "stdout",
     "output_type": "stream",
     "text": [
      "Current feature: destination\n",
      "No Urgent Place    6283\n",
      "Home               3237\n",
      "Work               3164\n",
      "Name: destination, dtype: int64\n",
      "  Current value: No Urgent Place\n",
      "0    6401\n",
      "1    6283\n",
      "Name: destination_IS_No Urgent Place, dtype: int64\n",
      "  Current value: Home\n",
      "0    9447\n",
      "1    3237\n",
      "Name: destination_IS_Home, dtype: int64\n",
      "  Current value: Work\n",
      "0    9520\n",
      "1    3164\n",
      "Name: destination_IS_Work, dtype: int64\n",
      "\n",
      "Current feature: passenger\n",
      "Alone        7305\n",
      "Friend(s)    3298\n",
      "Partner      1075\n",
      "Kid(s)       1006\n",
      "Name: passenger, dtype: int64\n",
      "  Current value: Alone\n",
      "1    7305\n",
      "0    5379\n",
      "Name: passenger_IS_Alone, dtype: int64\n",
      "  Current value: Friend(s)\n",
      "0    9386\n",
      "1    3298\n",
      "Name: passenger_IS_Friend(s), dtype: int64\n",
      "  Current value: Partner\n",
      "0    11609\n",
      "1     1075\n",
      "Name: passenger_IS_Partner, dtype: int64\n",
      "  Current value: Kid(s)\n",
      "0    11678\n",
      "1     1006\n",
      "Name: passenger_IS_Kid(s), dtype: int64\n",
      "\n",
      "Current feature: weather\n",
      "Sunny    10069\n",
      "Snowy     1405\n",
      "Rainy     1210\n",
      "Name: weather, dtype: int64\n",
      "  Current value: Sunny\n",
      "1    10069\n",
      "0     2615\n",
      "Name: weather_IS_Sunny, dtype: int64\n",
      "  Current value: Snowy\n",
      "0    11279\n",
      "1     1405\n",
      "Name: weather_IS_Snowy, dtype: int64\n",
      "  Current value: Rainy\n",
      "0    11474\n",
      "1     1210\n",
      "Name: weather_IS_Rainy, dtype: int64\n",
      "\n",
      "Current feature: time\n",
      "6PM     3230\n",
      "7AM     3164\n",
      "10AM    2275\n",
      "2PM     2009\n",
      "10PM    2006\n",
      "Name: time, dtype: int64\n",
      "  Current value: 6PM\n",
      "0    9454\n",
      "1    3230\n",
      "Name: time_IS_6PM, dtype: int64\n",
      "  Current value: 7AM\n",
      "0    9520\n",
      "1    3164\n",
      "Name: time_IS_7AM, dtype: int64\n",
      "  Current value: 10AM\n",
      "0    10409\n",
      "1     2275\n",
      "Name: time_IS_10AM, dtype: int64\n",
      "  Current value: 2PM\n",
      "0    10675\n",
      "1     2009\n",
      "Name: time_IS_2PM, dtype: int64\n",
      "  Current value: 10PM\n",
      "0    10678\n",
      "1     2006\n",
      "Name: time_IS_10PM, dtype: int64\n",
      "\n",
      "Current feature: coupon\n",
      "Coffee House             3996\n",
      "Restaurant(<20)          2786\n",
      "Carry out & Take away    2393\n",
      "Bar                      2017\n",
      "Restaurant(20-50)        1492\n",
      "Name: coupon, dtype: int64\n",
      "  Current value: Coffee House\n",
      "0    8688\n",
      "1    3996\n",
      "Name: coupon_IS_Coffee House, dtype: int64\n",
      "  Current value: Restaurant(<20)\n",
      "0    9898\n",
      "1    2786\n",
      "Name: coupon_IS_Restaurant(<20), dtype: int64\n",
      "  Current value: Carry out & Take away\n",
      "0    10291\n",
      "1     2393\n",
      "Name: coupon_IS_Carry out & Take away, dtype: int64\n",
      "  Current value: Bar\n",
      "0    10667\n",
      "1     2017\n",
      "Name: coupon_IS_Bar, dtype: int64\n",
      "  Current value: Restaurant(20-50)\n",
      "0    11192\n",
      "1     1492\n",
      "Name: coupon_IS_Restaurant(20-50), dtype: int64\n",
      "\n",
      "Current feature: expiration\n",
      "1d    7091\n",
      "2h    5593\n",
      "Name: expiration, dtype: int64\n",
      "  Current value: 1d\n",
      "1    7091\n",
      "0    5593\n",
      "Name: expiration_IS_1d, dtype: int64\n",
      "  Current value: 2h\n",
      "0    7091\n",
      "1    5593\n",
      "Name: expiration_IS_2h, dtype: int64\n",
      "\n",
      "Current feature: gender\n",
      "Female    6511\n",
      "Male      6173\n",
      "Name: gender, dtype: int64\n",
      "  Current value: Female\n",
      "1    6511\n",
      "0    6173\n",
      "Name: gender_IS_Female, dtype: int64\n",
      "  Current value: Male\n",
      "0    6511\n",
      "1    6173\n",
      "Name: gender_IS_Male, dtype: int64\n",
      "\n",
      "Current feature: age\n",
      "21         2653\n",
      "26         2559\n",
      "31         2039\n",
      "50plus     1788\n",
      "36         1319\n",
      "41         1093\n",
      "46          686\n",
      "below21     547\n",
      "Name: age, dtype: int64\n",
      "  Current value: 21\n",
      "0    10031\n",
      "1     2653\n",
      "Name: age_IS_21, dtype: int64\n",
      "  Current value: 26\n",
      "0    10125\n",
      "1     2559\n",
      "Name: age_IS_26, dtype: int64\n",
      "  Current value: 31\n",
      "0    10645\n",
      "1     2039\n",
      "Name: age_IS_31, dtype: int64\n",
      "  Current value: 50plus\n",
      "0    10896\n",
      "1     1788\n",
      "Name: age_IS_50plus, dtype: int64\n",
      "  Current value: 36\n",
      "0    11365\n",
      "1     1319\n",
      "Name: age_IS_36, dtype: int64\n",
      "  Current value: 41\n",
      "0    11591\n",
      "1     1093\n",
      "Name: age_IS_41, dtype: int64\n",
      "  Current value: 46\n",
      "0    11998\n",
      "1      686\n",
      "Name: age_IS_46, dtype: int64\n",
      "  Current value: below21\n",
      "0    12137\n",
      "1      547\n",
      "Name: age_IS_below21, dtype: int64\n",
      "\n",
      "Current feature: maritalStatus\n",
      "Married partner      5100\n",
      "Single               4752\n",
      "Unmarried partner    2186\n",
      "Divorced              516\n",
      "Widowed               130\n",
      "Name: maritalStatus, dtype: int64\n",
      "  Current value: Married partner\n",
      "0    7584\n",
      "1    5100\n",
      "Name: maritalStatus_IS_Married partner, dtype: int64\n",
      "  Current value: Single\n",
      "0    7932\n",
      "1    4752\n",
      "Name: maritalStatus_IS_Single, dtype: int64\n",
      "  Current value: Unmarried partner\n",
      "0    10498\n",
      "1     2186\n",
      "Name: maritalStatus_IS_Unmarried partner, dtype: int64\n",
      "  Current value: Divorced\n",
      "0    12168\n",
      "1      516\n",
      "Name: maritalStatus_IS_Divorced, dtype: int64\n",
      "  Current value: Widowed\n",
      "0    12554\n",
      "1      130\n",
      "Name: maritalStatus_IS_Widowed, dtype: int64\n",
      "\n",
      "Current feature: education\n",
      "Some college - no degree                  4351\n",
      "Bachelors degree                          4335\n",
      "Graduate degree (Masters or Doctorate)    1852\n",
      "Associates degree                         1153\n",
      "High School Graduate                       905\n",
      "Some High School                            88\n",
      "Name: education, dtype: int64\n",
      "  Current value: Some college - no degree\n",
      "0    8333\n",
      "1    4351\n",
      "Name: education_IS_Some college - no degree, dtype: int64\n",
      "  Current value: Bachelors degree\n",
      "0    8349\n",
      "1    4335\n",
      "Name: education_IS_Bachelors degree, dtype: int64\n",
      "  Current value: Graduate degree (Masters or Doctorate)\n",
      "0    10832\n",
      "1     1852\n",
      "Name: education_IS_Graduate degree (Masters or Doctorate), dtype: int64\n",
      "  Current value: Associates degree\n",
      "0    11531\n",
      "1     1153\n",
      "Name: education_IS_Associates degree, dtype: int64\n",
      "  Current value: High School Graduate\n",
      "0    11779\n",
      "1      905\n",
      "Name: education_IS_High School Graduate, dtype: int64\n",
      "  Current value: Some High School\n",
      "0    12596\n",
      "1       88\n",
      "Name: education_IS_Some High School, dtype: int64\n",
      "\n",
      "Current feature: occupation\n",
      "Unemployed                                   1870\n",
      "Student                                      1584\n",
      "Computer & Mathematical                      1408\n",
      "Sales & Related                              1093\n",
      "Education&Training&Library                    943\n",
      "Management                                    838\n",
      "Office & Administrative Support               639\n",
      "Arts Design Entertainment Sports & Media      629\n",
      "Business & Financial                          544\n",
      "Retired                                       495\n",
      "Food Preparation & Serving Related            298\n",
      "Healthcare Practitioners & Technical          244\n",
      "Healthcare Support                            242\n",
      "Community & Social Services                   241\n",
      "Legal                                         219\n",
      "Transportation & Material Moving              218\n",
      "Personal Care & Service                       175\n",
      "Protective Service                            175\n",
      "Architecture & Engineering                    175\n",
      "Life Physical Social Science                  170\n",
      "Construction & Extraction                     154\n",
      "Installation Maintenance & Repair             133\n",
      "Production Occupations                        110\n",
      "Building & Grounds Cleaning & Maintenance      44\n",
      "Farming Fishing & Forestry                     43\n",
      "Name: occupation, dtype: int64\n",
      "  Current value: Unemployed\n",
      "0    10814\n",
      "1     1870\n",
      "Name: occupation_IS_Unemployed, dtype: int64\n",
      "  Current value: Student\n",
      "0    11100\n",
      "1     1584\n",
      "Name: occupation_IS_Student, dtype: int64\n",
      "  Current value: Computer & Mathematical\n",
      "0    11276\n",
      "1     1408\n",
      "Name: occupation_IS_Computer & Mathematical, dtype: int64\n",
      "  Current value: Sales & Related\n",
      "0    11591\n",
      "1     1093\n",
      "Name: occupation_IS_Sales & Related, dtype: int64\n",
      "  Current value: Education&Training&Library\n",
      "0    11741\n",
      "1      943\n",
      "Name: occupation_IS_Education&Training&Library, dtype: int64\n",
      "  Current value: Management\n",
      "0    11846\n",
      "1      838\n",
      "Name: occupation_IS_Management, dtype: int64\n",
      "  Current value: Office & Administrative Support\n",
      "0    12045\n",
      "1      639\n",
      "Name: occupation_IS_Office & Administrative Support, dtype: int64\n",
      "  Current value: Arts Design Entertainment Sports & Media\n",
      "0    12055\n",
      "1      629\n",
      "Name: occupation_IS_Arts Design Entertainment Sports & Media, dtype: int64\n",
      "  Current value: Business & Financial\n",
      "0    12140\n",
      "1      544\n",
      "Name: occupation_IS_Business & Financial, dtype: int64\n",
      "  Current value: Retired\n",
      "0    12189\n",
      "1      495\n",
      "Name: occupation_IS_Retired, dtype: int64\n",
      "  Current value: Food Preparation & Serving Related\n",
      "0    12386\n",
      "1      298\n",
      "Name: occupation_IS_Food Preparation & Serving Related, dtype: int64\n",
      "  Current value: Healthcare Practitioners & Technical\n",
      "0    12440\n",
      "1      244\n",
      "Name: occupation_IS_Healthcare Practitioners & Technical, dtype: int64\n",
      "  Current value: Healthcare Support\n",
      "0    12442\n",
      "1      242\n",
      "Name: occupation_IS_Healthcare Support, dtype: int64\n",
      "  Current value: Community & Social Services\n",
      "0    12443\n",
      "1      241\n",
      "Name: occupation_IS_Community & Social Services, dtype: int64\n",
      "  Current value: Legal\n",
      "0    12465\n",
      "1      219\n",
      "Name: occupation_IS_Legal, dtype: int64\n",
      "  Current value: Transportation & Material Moving\n",
      "0    12466\n",
      "1      218\n",
      "Name: occupation_IS_Transportation & Material Moving, dtype: int64\n",
      "  Current value: Personal Care & Service\n",
      "0    12509\n",
      "1      175\n",
      "Name: occupation_IS_Personal Care & Service, dtype: int64\n",
      "  Current value: Protective Service\n",
      "0    12509\n",
      "1      175\n",
      "Name: occupation_IS_Protective Service, dtype: int64\n",
      "  Current value: Architecture & Engineering\n",
      "0    12509\n",
      "1      175\n",
      "Name: occupation_IS_Architecture & Engineering, dtype: int64\n",
      "  Current value: Life Physical Social Science\n",
      "0    12514\n",
      "1      170\n",
      "Name: occupation_IS_Life Physical Social Science, dtype: int64\n",
      "  Current value: Construction & Extraction\n",
      "0    12530\n",
      "1      154\n",
      "Name: occupation_IS_Construction & Extraction, dtype: int64\n",
      "  Current value: Installation Maintenance & Repair\n",
      "0    12551\n",
      "1      133\n",
      "Name: occupation_IS_Installation Maintenance & Repair, dtype: int64\n",
      "  Current value: Production Occupations\n",
      "0    12574\n",
      "1      110\n",
      "Name: occupation_IS_Production Occupations, dtype: int64\n",
      "  Current value: Building & Grounds Cleaning & Maintenance\n",
      "0    12640\n",
      "1       44\n",
      "Name: occupation_IS_Building & Grounds Cleaning & Maintenance, dtype: int64\n",
      "  Current value: Farming Fishing & Forestry\n",
      "0    12641\n",
      "1       43\n",
      "Name: occupation_IS_Farming Fishing & Forestry, dtype: int64\n",
      "\n",
      "Current feature: income\n",
      "$25000 - $37499     2013\n",
      "$12500 - $24999     1831\n",
      "$37500 - $49999     1805\n",
      "$100000 or More     1736\n",
      "$50000 - $62499     1659\n",
      "Less than $12500    1042\n",
      "$87500 - $99999      895\n",
      "$75000 - $87499      857\n",
      "$62500 - $74999      846\n",
      "Name: income, dtype: int64\n",
      "  Current value: $25000 - $37499\n",
      "0    10671\n",
      "1     2013\n",
      "Name: income_IS_$25000 - $37499, dtype: int64\n",
      "  Current value: $12500 - $24999\n",
      "0    10853\n",
      "1     1831\n",
      "Name: income_IS_$12500 - $24999, dtype: int64\n",
      "  Current value: $37500 - $49999\n",
      "0    10879\n",
      "1     1805\n",
      "Name: income_IS_$37500 - $49999, dtype: int64\n",
      "  Current value: $100000 or More\n",
      "0    10948\n",
      "1     1736\n",
      "Name: income_IS_$100000 or More, dtype: int64\n",
      "  Current value: $50000 - $62499\n",
      "0    11025\n",
      "1     1659\n",
      "Name: income_IS_$50000 - $62499, dtype: int64\n",
      "  Current value: Less than $12500\n",
      "0    11642\n",
      "1     1042\n",
      "Name: income_IS_Less than $12500, dtype: int64\n",
      "  Current value: $87500 - $99999\n",
      "0    11789\n",
      "1      895\n",
      "Name: income_IS_$87500 - $99999, dtype: int64\n",
      "  Current value: $75000 - $87499\n",
      "0    11827\n",
      "1      857\n",
      "Name: income_IS_$75000 - $87499, dtype: int64\n",
      "  Current value: $62500 - $74999\n",
      "0    11838\n",
      "1      846\n",
      "Name: income_IS_$62500 - $74999, dtype: int64\n",
      "\n",
      "Current feature: car\n",
      "Mazda5                                      22\n",
      "do not drive                                22\n",
      "Scooter and motorcycle                      22\n",
      "Car that is too old to install Onstar :D    21\n",
      "crossover                                   21\n",
      "Name: car, dtype: int64\n",
      "  Current value: nan\n",
      "0    12684\n",
      "Name: car_IS_nan, dtype: int64\n",
      "  Current value: Mazda5\n",
      "0    12662\n",
      "1       22\n",
      "Name: car_IS_Mazda5, dtype: int64\n",
      "  Current value: do not drive\n",
      "0    12662\n",
      "1       22\n",
      "Name: car_IS_do not drive, dtype: int64\n",
      "  Current value: Scooter and motorcycle\n",
      "0    12662\n",
      "1       22\n",
      "Name: car_IS_Scooter and motorcycle, dtype: int64\n",
      "  Current value: Car that is too old to install Onstar :D\n",
      "0    12663\n",
      "1       21\n",
      "Name: car_IS_Car that is too old to install Onstar :D, dtype: int64\n",
      "  Current value: crossover\n",
      "0    12663\n",
      "1       21\n",
      "Name: car_IS_crossover, dtype: int64\n",
      "\n",
      "Current feature: Bar\n",
      "never    5304\n",
      "less1    3482\n",
      "1~3      2473\n",
      "4~8      1076\n",
      "gt8       349\n",
      "Name: Bar, dtype: int64\n",
      "  Current value: never\n",
      "0    7380\n",
      "1    5304\n",
      "Name: Bar_IS_never, dtype: int64\n",
      "  Current value: less1\n",
      "0    9202\n",
      "1    3482\n",
      "Name: Bar_IS_less1, dtype: int64\n",
      "  Current value: 1~3\n",
      "0    10211\n",
      "1     2473\n",
      "Name: Bar_IS_1~3, dtype: int64\n",
      "  Current value: 4~8\n",
      "0    11608\n",
      "1     1076\n",
      "Name: Bar_IS_4~8, dtype: int64\n",
      "  Current value: gt8\n",
      "0    12335\n",
      "1      349\n",
      "Name: Bar_IS_gt8, dtype: int64\n",
      "\n",
      "Current feature: CoffeeHouse\n",
      "less1    3602\n",
      "1~3      3225\n",
      "never    2962\n",
      "4~8      1784\n",
      "gt8      1111\n",
      "Name: CoffeeHouse, dtype: int64\n",
      "  Current value: less1\n",
      "0    9082\n",
      "1    3602\n",
      "Name: CoffeeHouse_IS_less1, dtype: int64\n",
      "  Current value: 1~3\n",
      "0    9459\n",
      "1    3225\n",
      "Name: CoffeeHouse_IS_1~3, dtype: int64\n",
      "  Current value: never\n",
      "0    9722\n",
      "1    2962\n",
      "Name: CoffeeHouse_IS_never, dtype: int64\n",
      "  Current value: 4~8\n",
      "0    10900\n",
      "1     1784\n",
      "Name: CoffeeHouse_IS_4~8, dtype: int64\n",
      "  Current value: gt8\n",
      "0    11573\n",
      "1     1111\n",
      "Name: CoffeeHouse_IS_gt8, dtype: int64\n",
      "\n",
      "Current feature: CarryAway\n",
      "1~3      4823\n",
      "4~8      4258\n",
      "less1    1856\n",
      "gt8      1594\n",
      "never     153\n",
      "Name: CarryAway, dtype: int64\n",
      "  Current value: 1~3\n",
      "0    7861\n",
      "1    4823\n",
      "Name: CarryAway_IS_1~3, dtype: int64\n",
      "  Current value: 4~8\n",
      "0    8426\n",
      "1    4258\n",
      "Name: CarryAway_IS_4~8, dtype: int64\n",
      "  Current value: less1\n",
      "0    10828\n",
      "1     1856\n",
      "Name: CarryAway_IS_less1, dtype: int64\n",
      "  Current value: gt8\n",
      "0    11090\n",
      "1     1594\n",
      "Name: CarryAway_IS_gt8, dtype: int64\n",
      "  Current value: never\n",
      "0    12531\n",
      "1      153\n",
      "Name: CarryAway_IS_never, dtype: int64\n",
      "\n",
      "Current feature: RestaurantLessThan20\n",
      "1~3      5506\n",
      "4~8      3580\n",
      "less1    2093\n",
      "gt8      1285\n",
      "never     220\n",
      "Name: RestaurantLessThan20, dtype: int64\n",
      "  Current value: 1~3\n",
      "0    7178\n",
      "1    5506\n",
      "Name: RestaurantLessThan20_IS_1~3, dtype: int64\n",
      "  Current value: 4~8\n",
      "0    9104\n",
      "1    3580\n",
      "Name: RestaurantLessThan20_IS_4~8, dtype: int64\n",
      "  Current value: less1\n",
      "0    10591\n",
      "1     2093\n",
      "Name: RestaurantLessThan20_IS_less1, dtype: int64\n",
      "  Current value: gt8\n",
      "0    11399\n",
      "1     1285\n",
      "Name: RestaurantLessThan20_IS_gt8, dtype: int64\n",
      "  Current value: never\n",
      "0    12464\n",
      "1      220\n",
      "Name: RestaurantLessThan20_IS_never, dtype: int64\n",
      "\n",
      "Current feature: Restaurant20To50\n",
      "less1    6266\n",
      "1~3      3290\n",
      "never    2136\n",
      "4~8       728\n",
      "gt8       264\n",
      "Name: Restaurant20To50, dtype: int64\n",
      "  Current value: less1\n",
      "0    6418\n",
      "1    6266\n",
      "Name: Restaurant20To50_IS_less1, dtype: int64\n",
      "  Current value: 1~3\n",
      "0    9394\n",
      "1    3290\n",
      "Name: Restaurant20To50_IS_1~3, dtype: int64\n",
      "  Current value: never\n",
      "0    10548\n",
      "1     2136\n",
      "Name: Restaurant20To50_IS_never, dtype: int64\n",
      "  Current value: 4~8\n",
      "0    11956\n",
      "1      728\n",
      "Name: Restaurant20To50_IS_4~8, dtype: int64\n",
      "  Current value: gt8\n",
      "0    12420\n",
      "1      264\n",
      "Name: Restaurant20To50_IS_gt8, dtype: int64\n",
      "\n"
     ]
    }
   ],
   "source": [
    "for feature in featuresToBeOHE:\n",
    "    print('Current feature: ' + feature)\n",
    "    valueArray = df[feature].value_counts(dropna=False).index\n",
    "    print(dfOHE[feature].value_counts())\n",
    "    for value in valueArray:\n",
    "        dfOHE[str(feature) + '_IS_' + str(value)] = df[feature].map(lambda x: 1 if x==value else 0)\n",
    "        print('  Current value: ' + str(value))\n",
    "        print(dfOHE[str(feature) + '_IS_' + str(value)].value_counts())\n",
    "    print()\n",
    "\n",
    "dfOHE = dfOHE.drop(columns=featuresToBeOHE)"
   ]
  },
  {
   "cell_type": "code",
   "execution_count": 8,
   "metadata": {
    "pycharm": {
     "name": "#%%\n"
    }
   },
   "outputs": [
    {
     "data": {
      "text/plain": "       temperature  has_children  toCoupon_GEQ5min  toCoupon_GEQ15min  \\\n0               55             1                 1                  0   \n1               80             1                 1                  0   \n2               80             1                 1                  1   \n3               80             1                 1                  1   \n4               80             1                 1                  1   \n...            ...           ...               ...                ...   \n12679           55             0                 1                  0   \n12680           55             0                 1                  0   \n12681           30             0                 1                  0   \n12682           30             0                 1                  1   \n12683           80             0                 1                  0   \n\n       toCoupon_GEQ25min  direction_same  direction_opp  Y  \\\n0                      0               0              1  1   \n1                      0               0              1  0   \n2                      0               0              1  1   \n3                      0               0              1  0   \n4                      0               0              1  0   \n...                  ...             ...            ... ..   \n12679                  0               1              0  1   \n12680                  0               0              1  1   \n12681                  0               1              0  0   \n12682                  1               0              1  0   \n12683                  0               1              0  0   \n\n       destination_IS_No Urgent Place  destination_IS_Home  ...  \\\n0                                   1                    0  ...   \n1                                   1                    0  ...   \n2                                   1                    0  ...   \n3                                   1                    0  ...   \n4                                   1                    0  ...   \n...                               ...                  ...  ...   \n12679                               0                    1  ...   \n12680                               0                    0  ...   \n12681                               0                    0  ...   \n12682                               0                    0  ...   \n12683                               0                    0  ...   \n\n       RestaurantLessThan20_IS_1~3  RestaurantLessThan20_IS_4~8  \\\n0                                0                            1   \n1                                0                            1   \n2                                0                            1   \n3                                0                            1   \n4                                0                            1   \n...                            ...                          ...   \n12679                            0                            1   \n12680                            0                            1   \n12681                            0                            1   \n12682                            0                            1   \n12683                            0                            1   \n\n       RestaurantLessThan20_IS_less1  RestaurantLessThan20_IS_gt8  \\\n0                                  0                            0   \n1                                  0                            0   \n2                                  0                            0   \n3                                  0                            0   \n4                                  0                            0   \n...                              ...                          ...   \n12679                              0                            0   \n12680                              0                            0   \n12681                              0                            0   \n12682                              0                            0   \n12683                              0                            0   \n\n       RestaurantLessThan20_IS_never  Restaurant20To50_IS_less1  \\\n0                                  0                          0   \n1                                  0                          0   \n2                                  0                          0   \n3                                  0                          0   \n4                                  0                          0   \n...                              ...                        ...   \n12679                              0                          0   \n12680                              0                          0   \n12681                              0                          0   \n12682                              0                          0   \n12683                              0                          0   \n\n       Restaurant20To50_IS_1~3  Restaurant20To50_IS_never  \\\n0                            1                          0   \n1                            1                          0   \n2                            1                          0   \n3                            1                          0   \n4                            1                          0   \n...                        ...                        ...   \n12679                        1                          0   \n12680                        1                          0   \n12681                        1                          0   \n12682                        1                          0   \n12683                        1                          0   \n\n       Restaurant20To50_IS_4~8  Restaurant20To50_IS_gt8  \n0                            0                        0  \n1                            0                        0  \n2                            0                        0  \n3                            0                        0  \n4                            0                        0  \n...                        ...                      ...  \n12679                        0                        0  \n12680                        0                        0  \n12681                        0                        0  \n12682                        0                        0  \n12683                        0                        0  \n\n[12684 rows x 116 columns]",
      "text/html": "<div>\n<style scoped>\n    .dataframe tbody tr th:only-of-type {\n        vertical-align: middle;\n    }\n\n    .dataframe tbody tr th {\n        vertical-align: top;\n    }\n\n    .dataframe thead th {\n        text-align: right;\n    }\n</style>\n<table border=\"1\" class=\"dataframe\">\n  <thead>\n    <tr style=\"text-align: right;\">\n      <th></th>\n      <th>temperature</th>\n      <th>has_children</th>\n      <th>toCoupon_GEQ5min</th>\n      <th>toCoupon_GEQ15min</th>\n      <th>toCoupon_GEQ25min</th>\n      <th>direction_same</th>\n      <th>direction_opp</th>\n      <th>Y</th>\n      <th>destination_IS_No Urgent Place</th>\n      <th>destination_IS_Home</th>\n      <th>...</th>\n      <th>RestaurantLessThan20_IS_1~3</th>\n      <th>RestaurantLessThan20_IS_4~8</th>\n      <th>RestaurantLessThan20_IS_less1</th>\n      <th>RestaurantLessThan20_IS_gt8</th>\n      <th>RestaurantLessThan20_IS_never</th>\n      <th>Restaurant20To50_IS_less1</th>\n      <th>Restaurant20To50_IS_1~3</th>\n      <th>Restaurant20To50_IS_never</th>\n      <th>Restaurant20To50_IS_4~8</th>\n      <th>Restaurant20To50_IS_gt8</th>\n    </tr>\n  </thead>\n  <tbody>\n    <tr>\n      <th>0</th>\n      <td>55</td>\n      <td>1</td>\n      <td>1</td>\n      <td>0</td>\n      <td>0</td>\n      <td>0</td>\n      <td>1</td>\n      <td>1</td>\n      <td>1</td>\n      <td>0</td>\n      <td>...</td>\n      <td>0</td>\n      <td>1</td>\n      <td>0</td>\n      <td>0</td>\n      <td>0</td>\n      <td>0</td>\n      <td>1</td>\n      <td>0</td>\n      <td>0</td>\n      <td>0</td>\n    </tr>\n    <tr>\n      <th>1</th>\n      <td>80</td>\n      <td>1</td>\n      <td>1</td>\n      <td>0</td>\n      <td>0</td>\n      <td>0</td>\n      <td>1</td>\n      <td>0</td>\n      <td>1</td>\n      <td>0</td>\n      <td>...</td>\n      <td>0</td>\n      <td>1</td>\n      <td>0</td>\n      <td>0</td>\n      <td>0</td>\n      <td>0</td>\n      <td>1</td>\n      <td>0</td>\n      <td>0</td>\n      <td>0</td>\n    </tr>\n    <tr>\n      <th>2</th>\n      <td>80</td>\n      <td>1</td>\n      <td>1</td>\n      <td>1</td>\n      <td>0</td>\n      <td>0</td>\n      <td>1</td>\n      <td>1</td>\n      <td>1</td>\n      <td>0</td>\n      <td>...</td>\n      <td>0</td>\n      <td>1</td>\n      <td>0</td>\n      <td>0</td>\n      <td>0</td>\n      <td>0</td>\n      <td>1</td>\n      <td>0</td>\n      <td>0</td>\n      <td>0</td>\n    </tr>\n    <tr>\n      <th>3</th>\n      <td>80</td>\n      <td>1</td>\n      <td>1</td>\n      <td>1</td>\n      <td>0</td>\n      <td>0</td>\n      <td>1</td>\n      <td>0</td>\n      <td>1</td>\n      <td>0</td>\n      <td>...</td>\n      <td>0</td>\n      <td>1</td>\n      <td>0</td>\n      <td>0</td>\n      <td>0</td>\n      <td>0</td>\n      <td>1</td>\n      <td>0</td>\n      <td>0</td>\n      <td>0</td>\n    </tr>\n    <tr>\n      <th>4</th>\n      <td>80</td>\n      <td>1</td>\n      <td>1</td>\n      <td>1</td>\n      <td>0</td>\n      <td>0</td>\n      <td>1</td>\n      <td>0</td>\n      <td>1</td>\n      <td>0</td>\n      <td>...</td>\n      <td>0</td>\n      <td>1</td>\n      <td>0</td>\n      <td>0</td>\n      <td>0</td>\n      <td>0</td>\n      <td>1</td>\n      <td>0</td>\n      <td>0</td>\n      <td>0</td>\n    </tr>\n    <tr>\n      <th>...</th>\n      <td>...</td>\n      <td>...</td>\n      <td>...</td>\n      <td>...</td>\n      <td>...</td>\n      <td>...</td>\n      <td>...</td>\n      <td>...</td>\n      <td>...</td>\n      <td>...</td>\n      <td>...</td>\n      <td>...</td>\n      <td>...</td>\n      <td>...</td>\n      <td>...</td>\n      <td>...</td>\n      <td>...</td>\n      <td>...</td>\n      <td>...</td>\n      <td>...</td>\n      <td>...</td>\n    </tr>\n    <tr>\n      <th>12679</th>\n      <td>55</td>\n      <td>0</td>\n      <td>1</td>\n      <td>0</td>\n      <td>0</td>\n      <td>1</td>\n      <td>0</td>\n      <td>1</td>\n      <td>0</td>\n      <td>1</td>\n      <td>...</td>\n      <td>0</td>\n      <td>1</td>\n      <td>0</td>\n      <td>0</td>\n      <td>0</td>\n      <td>0</td>\n      <td>1</td>\n      <td>0</td>\n      <td>0</td>\n      <td>0</td>\n    </tr>\n    <tr>\n      <th>12680</th>\n      <td>55</td>\n      <td>0</td>\n      <td>1</td>\n      <td>0</td>\n      <td>0</td>\n      <td>0</td>\n      <td>1</td>\n      <td>1</td>\n      <td>0</td>\n      <td>0</td>\n      <td>...</td>\n      <td>0</td>\n      <td>1</td>\n      <td>0</td>\n      <td>0</td>\n      <td>0</td>\n      <td>0</td>\n      <td>1</td>\n      <td>0</td>\n      <td>0</td>\n      <td>0</td>\n    </tr>\n    <tr>\n      <th>12681</th>\n      <td>30</td>\n      <td>0</td>\n      <td>1</td>\n      <td>0</td>\n      <td>0</td>\n      <td>1</td>\n      <td>0</td>\n      <td>0</td>\n      <td>0</td>\n      <td>0</td>\n      <td>...</td>\n      <td>0</td>\n      <td>1</td>\n      <td>0</td>\n      <td>0</td>\n      <td>0</td>\n      <td>0</td>\n      <td>1</td>\n      <td>0</td>\n      <td>0</td>\n      <td>0</td>\n    </tr>\n    <tr>\n      <th>12682</th>\n      <td>30</td>\n      <td>0</td>\n      <td>1</td>\n      <td>1</td>\n      <td>1</td>\n      <td>0</td>\n      <td>1</td>\n      <td>0</td>\n      <td>0</td>\n      <td>0</td>\n      <td>...</td>\n      <td>0</td>\n      <td>1</td>\n      <td>0</td>\n      <td>0</td>\n      <td>0</td>\n      <td>0</td>\n      <td>1</td>\n      <td>0</td>\n      <td>0</td>\n      <td>0</td>\n    </tr>\n    <tr>\n      <th>12683</th>\n      <td>80</td>\n      <td>0</td>\n      <td>1</td>\n      <td>0</td>\n      <td>0</td>\n      <td>1</td>\n      <td>0</td>\n      <td>0</td>\n      <td>0</td>\n      <td>0</td>\n      <td>...</td>\n      <td>0</td>\n      <td>1</td>\n      <td>0</td>\n      <td>0</td>\n      <td>0</td>\n      <td>0</td>\n      <td>1</td>\n      <td>0</td>\n      <td>0</td>\n      <td>0</td>\n    </tr>\n  </tbody>\n</table>\n<p>12684 rows × 116 columns</p>\n</div>"
     },
     "execution_count": 8,
     "metadata": {},
     "output_type": "execute_result"
    }
   ],
   "source": [
    "dfOHE"
   ]
  },
  {
   "cell_type": "markdown",
   "metadata": {
    "pycharm": {
     "name": "#%% md\n"
    }
   },
   "source": [
    "## Train-Test-Split"
   ]
  },
  {
   "cell_type": "code",
   "execution_count": 9,
   "metadata": {
    "pycharm": {
     "name": "#%%\n"
    }
   },
   "outputs": [],
   "source": [
    "df_train, df_test = train_test_split(dfOHE)\n",
    "X_train = df_train.drop(columns=['Y'])\n",
    "y_train = df_train['Y']\n",
    "\n",
    "df_test = df_test.dropna()\n",
    "X_test = df_test.drop(columns=['Y'])\n",
    "y_test = df_test['Y']"
   ]
  },
  {
   "cell_type": "markdown",
   "metadata": {
    "pycharm": {
     "name": "#%% md\n"
    }
   },
   "source": [
    "## Scaling"
   ]
  },
  {
   "cell_type": "code",
   "execution_count": 10,
   "metadata": {
    "pycharm": {
     "name": "#%%\n"
    }
   },
   "outputs": [],
   "source": [
    "scaler = StandardScaler().fit(X_train)\n",
    "X_train_scaled = scaler.transform(X_train)"
   ]
  },
  {
   "cell_type": "markdown",
   "metadata": {
    "pycharm": {
     "name": "#%% md\n"
    }
   },
   "source": [
    "## Training\n",
    "#### Logistic regression: C :[0.1,1,4,5,6,10,30,100] und penalty: [\"l1\", \"l2\"]"
   ]
  },
  {
   "cell_type": "code",
   "execution_count": 11,
   "metadata": {
    "pycharm": {
     "name": "#%%\n"
    }
   },
   "outputs": [
    {
     "name": "stdout",
     "output_type": "stream",
     "text": [
      "Best penalty: l2\n",
      "Best C: 0.1\n"
     ]
    }
   ],
   "source": [
    "parameter_candidates = [{'C': [0.1,1,4,5,6,10,30,100], 'penalty': [\"l1\", \"l2\"]}]\n",
    "log = LogisticRegression(max_iter=1000,random_state=0)\n",
    "clf = GridSearchCV(estimator=log, param_grid=parameter_candidates, n_jobs=-1)\n",
    "clf = clf.fit(X_train_scaled, y_train)\n",
    "print('Best penalty:', clf.best_estimator_.penalty)\n",
    "print('Best C:', clf.best_estimator_.C)"
   ]
  },
  {
   "cell_type": "code",
   "execution_count": 12,
   "metadata": {
    "pycharm": {
     "name": "#%%\n"
    }
   },
   "outputs": [
    {
     "data": {
      "text/plain": "LogisticRegression(C=0.1, max_iter=1000)"
     },
     "execution_count": 12,
     "metadata": {},
     "output_type": "execute_result"
    }
   ],
   "source": [
    "logisticRegr = LogisticRegression(max_iter=1000,C=clf.best_estimator_.C,penalty =clf.best_estimator_.penalty)\n",
    "logisticRegr.fit(X_train_scaled, y_train)"
   ]
  },
  {
   "cell_type": "markdown",
   "metadata": {},
   "source": [
    "#### Random Forest: n_estimators: [60,80,100,120,140] und max_depth: [2, 3, 4, 5]"
   ]
  },
  {
   "cell_type": "code",
   "execution_count": 13,
   "metadata": {
    "pycharm": {
     "name": "#%%\n"
    }
   },
   "outputs": [
    {
     "name": "stdout",
     "output_type": "stream",
     "text": [
      "Best n: 80\n",
      "Best depth: 5\n"
     ]
    }
   ],
   "source": [
    "parameter_candidates = [{'n_estimators': [60,80,100,120,140], 'max_depth': [2, 3, 4, 5]}]\n",
    "RFC = RandomForestClassifier(random_state=0)\n",
    "clf = GridSearchCV(estimator=RFC, param_grid=parameter_candidates, n_jobs=-1)\n",
    "clf = clf.fit(X_train_scaled, y_train)\n",
    "print('Best n:', clf.best_estimator_.n_estimators)\n",
    "print('Best depth:', clf.best_estimator_.max_depth)"
   ]
  },
  {
   "cell_type": "code",
   "execution_count": 14,
   "metadata": {
    "pycharm": {
     "name": "#%%\n"
    }
   },
   "outputs": [
    {
     "data": {
      "text/plain": "RandomForestClassifier(max_depth=5, n_estimators=80, random_state=0)"
     },
     "execution_count": 14,
     "metadata": {},
     "output_type": "execute_result"
    }
   ],
   "source": [
    "model = RandomForestClassifier(random_state=0,max_depth=clf.best_estimator_.max_depth,n_estimators=clf.best_estimator_.n_estimators)\n",
    "model.fit(X_train_scaled,y_train)"
   ]
  },
  {
   "cell_type": "markdown",
   "metadata": {},
   "source": [
    "#### Gradient Boosting Tree: hyper params like in Random Forest."
   ]
  },
  {
   "cell_type": "code",
   "execution_count": 15,
   "metadata": {
    "pycharm": {
     "name": "#%%\n"
    }
   },
   "outputs": [
    {
     "name": "stdout",
     "output_type": "stream",
     "text": [
      "Best n: 140\n",
      "Best depth: 5\n"
     ]
    }
   ],
   "source": [
    "\n",
    "parameter_candidates = [{'n_estimators': [60,80,100,120,140], 'max_depth': [2, 3, 4, 5]}]\n",
    "gbt = GradientBoostingClassifier(random_state=0)\n",
    "clf = GridSearchCV(estimator=gbt, param_grid=parameter_candidates, n_jobs=-1)\n",
    "clf = clf.fit(X_train_scaled, y_train)\n",
    "print('Best n:', clf.best_estimator_.n_estimators)\n",
    "print('Best depth:', clf.best_estimator_.max_depth)"
   ]
  },
  {
   "cell_type": "code",
   "execution_count": 16,
   "metadata": {
    "pycharm": {
     "name": "#%%\n"
    }
   },
   "outputs": [
    {
     "data": {
      "text/plain": "GradientBoostingClassifier(max_depth=5, n_estimators=140, random_state=0)"
     },
     "execution_count": 16,
     "metadata": {},
     "output_type": "execute_result"
    }
   ],
   "source": [
    "gbt = GradientBoostingClassifier(random_state=0,max_depth=clf.best_estimator_.max_depth,n_estimators=clf.best_estimator_.n_estimators)\n",
    "gbt.fit(X_train_scaled,y_train)"
   ]
  },
  {
   "cell_type": "markdown",
   "metadata": {
    "pycharm": {
     "name": "#%% md\n"
    }
   },
   "source": [
    "## Scale test data"
   ]
  },
  {
   "cell_type": "code",
   "execution_count": 17,
   "metadata": {
    "pycharm": {
     "name": "#%%\n"
    }
   },
   "outputs": [],
   "source": [
    "X_test_scaled = scaler.transform(X_test)\n"
   ]
  },
  {
   "cell_type": "markdown",
   "metadata": {},
   "source": [
    "## Predictions\n",
    "#### Logistic regression"
   ]
  },
  {
   "cell_type": "code",
   "execution_count": 18,
   "metadata": {
    "pycharm": {
     "name": "#%%\n"
    }
   },
   "outputs": [],
   "source": [
    "predictions_log = logisticRegr.predict(X_test_scaled)"
   ]
  },
  {
   "cell_type": "markdown",
   "metadata": {},
   "source": [
    "#### Random Forest"
   ]
  },
  {
   "cell_type": "code",
   "execution_count": 19,
   "metadata": {
    "pycharm": {
     "name": "#%%\n"
    }
   },
   "outputs": [],
   "source": [
    "predictions_rf = model.predict(X_test_scaled)"
   ]
  },
  {
   "cell_type": "markdown",
   "metadata": {},
   "source": [
    "#### Gradient Boosting"
   ]
  },
  {
   "cell_type": "code",
   "execution_count": 20,
   "metadata": {
    "pycharm": {
     "name": "#%%\n"
    }
   },
   "outputs": [],
   "source": [
    "predictions_gd = gbt.predict(X_test_scaled)"
   ]
  },
  {
   "cell_type": "markdown",
   "metadata": {},
   "source": [
    "## Accuracy, precision and recall"
   ]
  },
  {
   "cell_type": "markdown",
   "metadata": {},
   "source": [
    "#### Logistic regression"
   ]
  },
  {
   "cell_type": "code",
   "execution_count": 21,
   "metadata": {
    "pycharm": {
     "name": "#%%\n"
    }
   },
   "outputs": [
    {
     "name": "stdout",
     "output_type": "stream",
     "text": [
      "Accuracy score is:\n",
      "0.6881110059918006\n",
      "Recall is:\n",
      "0.7754988913525499\n",
      "Precision is:\n",
      "0.7054967221381745\n"
     ]
    }
   ],
   "source": [
    "print(\"Accuracy score is:\")\n",
    "print(accuracy_score(y_test, predictions_log))\n",
    "print(\"Recall is:\")\n",
    "print(recall_score(y_test, predictions_log))\n",
    "print(\"Precision is:\")\n",
    "print(precision_score(y_test, predictions_log))"
   ]
  },
  {
   "cell_type": "markdown",
   "metadata": {},
   "source": [
    "#### Random Forest"
   ]
  },
  {
   "cell_type": "code",
   "execution_count": 22,
   "metadata": {
    "pycharm": {
     "name": "#%%\n"
    }
   },
   "outputs": [
    {
     "name": "stdout",
     "output_type": "stream",
     "text": [
      "Accuracy score is:\n",
      "0.6808577735730054\n",
      "Recall is:\n",
      "0.8841463414634146\n",
      "Precision is:\n",
      "0.6651376146788991\n"
     ]
    }
   ],
   "source": [
    "print(\"Accuracy score is:\")\n",
    "print(accuracy_score(y_test, predictions_rf))\n",
    "print(\"Recall is:\")\n",
    "print(recall_score(y_test, predictions_rf))\n",
    "print(\"Precision is:\")\n",
    "print(precision_score(y_test, predictions_rf))"
   ]
  },
  {
   "cell_type": "markdown",
   "metadata": {},
   "source": [
    "#### Gradient Boosting"
   ]
  },
  {
   "cell_type": "code",
   "execution_count": 23,
   "metadata": {
    "pycharm": {
     "name": "#%%\n"
    }
   },
   "outputs": [
    {
     "name": "stdout",
     "output_type": "stream",
     "text": [
      "Accuracy score is:\n",
      "0.7590665405234942\n",
      "Recall is:\n",
      "0.8242793791574279\n",
      "Precision is:\n",
      "0.7688728024819028\n"
     ]
    }
   ],
   "source": [
    "print(\"Accuracy score is:\")\n",
    "print(accuracy_score(y_test, predictions_gd))\n",
    "print(\"Recall is:\")\n",
    "print(recall_score(y_test, predictions_gd))\n",
    "print(\"Precision is:\")\n",
    "print(precision_score(y_test, predictions_gd))"
   ]
  },
  {
   "cell_type": "code",
   "execution_count": 24,
   "metadata": {
    "pycharm": {
     "name": "#%%\n"
    }
   },
   "outputs": [
    {
     "data": {
      "text/plain": "1    7210\n0    5474\nName: Y, dtype: int64"
     },
     "execution_count": 24,
     "metadata": {},
     "output_type": "execute_result"
    }
   ],
   "source": [
    "df['Y'].value_counts()"
   ]
  }
 ],
 "metadata": {
  "kernelspec": {
   "display_name": "Python 3",
   "language": "python",
   "name": "python3"
  },
  "language_info": {
   "codemirror_mode": {
    "name": "ipython",
    "version": 3
   },
   "file_extension": ".py",
   "mimetype": "text/x-python",
   "name": "python",
   "nbconvert_exporter": "python",
   "pygments_lexer": "ipython3",
   "version": "3.8.5"
  }
 },
 "nbformat": 4,
 "nbformat_minor": 1
}