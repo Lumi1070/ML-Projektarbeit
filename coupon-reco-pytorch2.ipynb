{
 "cells": [
  {
   "cell_type": "markdown",
   "source": [
    " ## Imports"
   ],
   "metadata": {
    "collapsed": false
   }
  },
  {
   "cell_type": "code",
   "execution_count": 87,
   "outputs": [],
   "source": [
    "import pandas as pd\n",
    "import torch\n",
    "import numpy as np\n",
    "import matplotlib.pyplot as plt\n",
    "import seaborn as sns\n",
    "%matplotlib inline\n",
    "\n",
    "from sklearn.model_selection import train_test_split\n",
    "from sklearn.preprocessing import StandardScaler\n",
    "\n",
    "from torch import nn\n",
    "from torch.utils.data import DataLoader\n",
    "from torchvision.transforms import Lambda, ToTensor"
   ],
   "metadata": {
    "collapsed": false,
    "pycharm": {
     "name": "#%%\n"
    }
   }
  },
  {
   "cell_type": "markdown",
   "source": [
    "## Load dataset"
   ],
   "metadata": {
    "collapsed": false
   }
  },
  {
   "cell_type": "code",
   "execution_count": 88,
   "outputs": [
    {
     "data": {
      "text/plain": "['destination',\n 'passanger',\n 'weather',\n 'temperature',\n 'time',\n 'coupon',\n 'expiration',\n 'gender',\n 'age',\n 'maritalStatus',\n 'has_children',\n 'education',\n 'occupation',\n 'income',\n 'car',\n 'Bar',\n 'CoffeeHouse',\n 'CarryAway',\n 'RestaurantLessThan20',\n 'Restaurant20To50',\n 'toCoupon_GEQ5min',\n 'toCoupon_GEQ15min',\n 'toCoupon_GEQ25min',\n 'direction_same',\n 'direction_opp',\n 'Y']"
     },
     "metadata": {},
     "output_type": "display_data"
    },
    {
     "data": {
      "text/plain": "           destination  passenger weather  temperature  time  \\\n0      No Urgent Place      Alone   Sunny           55   2PM   \n1      No Urgent Place  Friend(s)   Sunny           80  10AM   \n2      No Urgent Place  Friend(s)   Sunny           80  10AM   \n3      No Urgent Place  Friend(s)   Sunny           80   2PM   \n4      No Urgent Place  Friend(s)   Sunny           80   2PM   \n...                ...        ...     ...          ...   ...   \n12679             Home    Partner   Rainy           55   6PM   \n12680             Work      Alone   Rainy           55   7AM   \n12681             Work      Alone   Snowy           30   7AM   \n12682             Work      Alone   Snowy           30   7AM   \n12683             Work      Alone   Sunny           80   7AM   \n\n                      coupon expiration  gender age      maritalStatus  ...  \\\n0            Restaurant(<20)         1d  Female  21  Unmarried partner  ...   \n1               Coffee House         2h  Female  21  Unmarried partner  ...   \n2      Carry out & Take away         2h  Female  21  Unmarried partner  ...   \n3               Coffee House         2h  Female  21  Unmarried partner  ...   \n4               Coffee House         1d  Female  21  Unmarried partner  ...   \n...                      ...        ...     ...  ..                ...  ...   \n12679  Carry out & Take away         1d    Male  26             Single  ...   \n12680  Carry out & Take away         1d    Male  26             Single  ...   \n12681           Coffee House         1d    Male  26             Single  ...   \n12682                    Bar         1d    Male  26             Single  ...   \n12683      Restaurant(20-50)         2h    Male  26             Single  ...   \n\n       CoffeeHouse CarryAway RestaurantLessThan20 Restaurant20To50  \\\n0            never       NaN                  4~8              1~3   \n1            never       NaN                  4~8              1~3   \n2            never       NaN                  4~8              1~3   \n3            never       NaN                  4~8              1~3   \n4            never       NaN                  4~8              1~3   \n...            ...       ...                  ...              ...   \n12679        never       1~3                  4~8              1~3   \n12680        never       1~3                  4~8              1~3   \n12681        never       1~3                  4~8              1~3   \n12682        never       1~3                  4~8              1~3   \n12683        never       1~3                  4~8              1~3   \n\n      toCoupon_GEQ5min toCoupon_GEQ15min toCoupon_GEQ25min direction_same  \\\n0                    1                 0                 0              0   \n1                    1                 0                 0              0   \n2                    1                 1                 0              0   \n3                    1                 1                 0              0   \n4                    1                 1                 0              0   \n...                ...               ...               ...            ...   \n12679                1                 0                 0              1   \n12680                1                 0                 0              0   \n12681                1                 0                 0              1   \n12682                1                 1                 1              0   \n12683                1                 0                 0              1   \n\n      direction_opp  Y  \n0                 1  1  \n1                 1  0  \n2                 1  1  \n3                 1  0  \n4                 1  0  \n...             ... ..  \n12679             0  1  \n12680             1  1  \n12681             0  0  \n12682             1  0  \n12683             0  0  \n\n[12684 rows x 26 columns]",
      "text/html": "<div>\n<style scoped>\n    .dataframe tbody tr th:only-of-type {\n        vertical-align: middle;\n    }\n\n    .dataframe tbody tr th {\n        vertical-align: top;\n    }\n\n    .dataframe thead th {\n        text-align: right;\n    }\n</style>\n<table border=\"1\" class=\"dataframe\">\n  <thead>\n    <tr style=\"text-align: right;\">\n      <th></th>\n      <th>destination</th>\n      <th>passenger</th>\n      <th>weather</th>\n      <th>temperature</th>\n      <th>time</th>\n      <th>coupon</th>\n      <th>expiration</th>\n      <th>gender</th>\n      <th>age</th>\n      <th>maritalStatus</th>\n      <th>...</th>\n      <th>CoffeeHouse</th>\n      <th>CarryAway</th>\n      <th>RestaurantLessThan20</th>\n      <th>Restaurant20To50</th>\n      <th>toCoupon_GEQ5min</th>\n      <th>toCoupon_GEQ15min</th>\n      <th>toCoupon_GEQ25min</th>\n      <th>direction_same</th>\n      <th>direction_opp</th>\n      <th>Y</th>\n    </tr>\n  </thead>\n  <tbody>\n    <tr>\n      <th>0</th>\n      <td>No Urgent Place</td>\n      <td>Alone</td>\n      <td>Sunny</td>\n      <td>55</td>\n      <td>2PM</td>\n      <td>Restaurant(&lt;20)</td>\n      <td>1d</td>\n      <td>Female</td>\n      <td>21</td>\n      <td>Unmarried partner</td>\n      <td>...</td>\n      <td>never</td>\n      <td>NaN</td>\n      <td>4~8</td>\n      <td>1~3</td>\n      <td>1</td>\n      <td>0</td>\n      <td>0</td>\n      <td>0</td>\n      <td>1</td>\n      <td>1</td>\n    </tr>\n    <tr>\n      <th>1</th>\n      <td>No Urgent Place</td>\n      <td>Friend(s)</td>\n      <td>Sunny</td>\n      <td>80</td>\n      <td>10AM</td>\n      <td>Coffee House</td>\n      <td>2h</td>\n      <td>Female</td>\n      <td>21</td>\n      <td>Unmarried partner</td>\n      <td>...</td>\n      <td>never</td>\n      <td>NaN</td>\n      <td>4~8</td>\n      <td>1~3</td>\n      <td>1</td>\n      <td>0</td>\n      <td>0</td>\n      <td>0</td>\n      <td>1</td>\n      <td>0</td>\n    </tr>\n    <tr>\n      <th>2</th>\n      <td>No Urgent Place</td>\n      <td>Friend(s)</td>\n      <td>Sunny</td>\n      <td>80</td>\n      <td>10AM</td>\n      <td>Carry out &amp; Take away</td>\n      <td>2h</td>\n      <td>Female</td>\n      <td>21</td>\n      <td>Unmarried partner</td>\n      <td>...</td>\n      <td>never</td>\n      <td>NaN</td>\n      <td>4~8</td>\n      <td>1~3</td>\n      <td>1</td>\n      <td>1</td>\n      <td>0</td>\n      <td>0</td>\n      <td>1</td>\n      <td>1</td>\n    </tr>\n    <tr>\n      <th>3</th>\n      <td>No Urgent Place</td>\n      <td>Friend(s)</td>\n      <td>Sunny</td>\n      <td>80</td>\n      <td>2PM</td>\n      <td>Coffee House</td>\n      <td>2h</td>\n      <td>Female</td>\n      <td>21</td>\n      <td>Unmarried partner</td>\n      <td>...</td>\n      <td>never</td>\n      <td>NaN</td>\n      <td>4~8</td>\n      <td>1~3</td>\n      <td>1</td>\n      <td>1</td>\n      <td>0</td>\n      <td>0</td>\n      <td>1</td>\n      <td>0</td>\n    </tr>\n    <tr>\n      <th>4</th>\n      <td>No Urgent Place</td>\n      <td>Friend(s)</td>\n      <td>Sunny</td>\n      <td>80</td>\n      <td>2PM</td>\n      <td>Coffee House</td>\n      <td>1d</td>\n      <td>Female</td>\n      <td>21</td>\n      <td>Unmarried partner</td>\n      <td>...</td>\n      <td>never</td>\n      <td>NaN</td>\n      <td>4~8</td>\n      <td>1~3</td>\n      <td>1</td>\n      <td>1</td>\n      <td>0</td>\n      <td>0</td>\n      <td>1</td>\n      <td>0</td>\n    </tr>\n    <tr>\n      <th>...</th>\n      <td>...</td>\n      <td>...</td>\n      <td>...</td>\n      <td>...</td>\n      <td>...</td>\n      <td>...</td>\n      <td>...</td>\n      <td>...</td>\n      <td>...</td>\n      <td>...</td>\n      <td>...</td>\n      <td>...</td>\n      <td>...</td>\n      <td>...</td>\n      <td>...</td>\n      <td>...</td>\n      <td>...</td>\n      <td>...</td>\n      <td>...</td>\n      <td>...</td>\n      <td>...</td>\n    </tr>\n    <tr>\n      <th>12679</th>\n      <td>Home</td>\n      <td>Partner</td>\n      <td>Rainy</td>\n      <td>55</td>\n      <td>6PM</td>\n      <td>Carry out &amp; Take away</td>\n      <td>1d</td>\n      <td>Male</td>\n      <td>26</td>\n      <td>Single</td>\n      <td>...</td>\n      <td>never</td>\n      <td>1~3</td>\n      <td>4~8</td>\n      <td>1~3</td>\n      <td>1</td>\n      <td>0</td>\n      <td>0</td>\n      <td>1</td>\n      <td>0</td>\n      <td>1</td>\n    </tr>\n    <tr>\n      <th>12680</th>\n      <td>Work</td>\n      <td>Alone</td>\n      <td>Rainy</td>\n      <td>55</td>\n      <td>7AM</td>\n      <td>Carry out &amp; Take away</td>\n      <td>1d</td>\n      <td>Male</td>\n      <td>26</td>\n      <td>Single</td>\n      <td>...</td>\n      <td>never</td>\n      <td>1~3</td>\n      <td>4~8</td>\n      <td>1~3</td>\n      <td>1</td>\n      <td>0</td>\n      <td>0</td>\n      <td>0</td>\n      <td>1</td>\n      <td>1</td>\n    </tr>\n    <tr>\n      <th>12681</th>\n      <td>Work</td>\n      <td>Alone</td>\n      <td>Snowy</td>\n      <td>30</td>\n      <td>7AM</td>\n      <td>Coffee House</td>\n      <td>1d</td>\n      <td>Male</td>\n      <td>26</td>\n      <td>Single</td>\n      <td>...</td>\n      <td>never</td>\n      <td>1~3</td>\n      <td>4~8</td>\n      <td>1~3</td>\n      <td>1</td>\n      <td>0</td>\n      <td>0</td>\n      <td>1</td>\n      <td>0</td>\n      <td>0</td>\n    </tr>\n    <tr>\n      <th>12682</th>\n      <td>Work</td>\n      <td>Alone</td>\n      <td>Snowy</td>\n      <td>30</td>\n      <td>7AM</td>\n      <td>Bar</td>\n      <td>1d</td>\n      <td>Male</td>\n      <td>26</td>\n      <td>Single</td>\n      <td>...</td>\n      <td>never</td>\n      <td>1~3</td>\n      <td>4~8</td>\n      <td>1~3</td>\n      <td>1</td>\n      <td>1</td>\n      <td>1</td>\n      <td>0</td>\n      <td>1</td>\n      <td>0</td>\n    </tr>\n    <tr>\n      <th>12683</th>\n      <td>Work</td>\n      <td>Alone</td>\n      <td>Sunny</td>\n      <td>80</td>\n      <td>7AM</td>\n      <td>Restaurant(20-50)</td>\n      <td>2h</td>\n      <td>Male</td>\n      <td>26</td>\n      <td>Single</td>\n      <td>...</td>\n      <td>never</td>\n      <td>1~3</td>\n      <td>4~8</td>\n      <td>1~3</td>\n      <td>1</td>\n      <td>0</td>\n      <td>0</td>\n      <td>1</td>\n      <td>0</td>\n      <td>0</td>\n    </tr>\n  </tbody>\n</table>\n<p>12684 rows × 26 columns</p>\n</div>"
     },
     "execution_count": 88,
     "metadata": {},
     "output_type": "execute_result"
    }
   ],
   "source": [
    "df = pd.read_csv('in-vehicle-coupon-recommendation.csv')\n",
    "display(list(df.columns.values))\n",
    "df.rename(columns={\"passanger\": \"passenger\"}, inplace=True)\n",
    "df"
   ],
   "metadata": {
    "collapsed": false,
    "pycharm": {
     "name": "#%%\n"
    }
   }
  },
  {
   "cell_type": "markdown",
   "source": [
    "## Fill missing values in data\n",
    "- Count NAs per column\n",
    "- Make a list of columns containing NAs\n",
    "- Do not list columns containing more than 50% NAs<br>(insufficient data for replacement)\n",
    "- Replace NAs with mode in all listed columns\n",
    "\n",
    "(only to be used for categorical features,<br>numerical ones would require selecting the mean)"
   ],
   "metadata": {
    "collapsed": false
   }
  },
  {
   "cell_type": "code",
   "execution_count": 89,
   "outputs": [
    {
     "data": {
      "text/plain": "destination                 0\npassenger                   0\nweather                     0\ntemperature                 0\ntime                        0\ncoupon                      0\nexpiration                  0\ngender                      0\nage                         0\nmaritalStatus               0\nhas_children                0\neducation                   0\noccupation                  0\nincome                      0\ncar                     12576\nBar                       107\nCoffeeHouse               217\nCarryAway                 151\nRestaurantLessThan20      130\nRestaurant20To50          189\ntoCoupon_GEQ5min            0\ntoCoupon_GEQ15min           0\ntoCoupon_GEQ25min           0\ndirection_same              0\ndirection_opp               0\nY                           0\ndtype: int64"
     },
     "execution_count": 89,
     "metadata": {},
     "output_type": "execute_result"
    }
   ],
   "source": [
    "df.isna().sum()"
   ],
   "metadata": {
    "collapsed": false,
    "pycharm": {
     "name": "#%%\n"
    }
   }
  },
  {
   "cell_type": "code",
   "execution_count": 90,
   "outputs": [
    {
     "name": "stdout",
     "output_type": "stream",
     "text": [
      "['Bar', 'CoffeeHouse', 'CarryAway', 'RestaurantLessThan20', 'Restaurant20To50']\n",
      "Column is: Bar\n",
      "Mode is: never\n",
      "\n",
      "Column is: CoffeeHouse\n",
      "Mode is: less1\n",
      "\n",
      "Column is: CarryAway\n",
      "Mode is: 1~3\n",
      "\n",
      "Column is: RestaurantLessThan20\n",
      "Mode is: 1~3\n",
      "\n",
      "Column is: Restaurant20To50\n",
      "Mode is: less1\n",
      "\n"
     ]
    },
    {
     "data": {
      "text/plain": "destination                 0\npassenger                   0\nweather                     0\ntemperature                 0\ntime                        0\ncoupon                      0\nexpiration                  0\ngender                      0\nage                         0\nmaritalStatus               0\nhas_children                0\neducation                   0\noccupation                  0\nincome                      0\ncar                     12576\nBar                         0\nCoffeeHouse                 0\nCarryAway                   0\nRestaurantLessThan20        0\nRestaurant20To50            0\ntoCoupon_GEQ5min            0\ntoCoupon_GEQ15min           0\ntoCoupon_GEQ25min           0\ndirection_same              0\ndirection_opp               0\nY                           0\ndtype: int64"
     },
     "execution_count": 90,
     "metadata": {},
     "output_type": "execute_result"
    }
   ],
   "source": [
    "columns_withNA = []\n",
    "\n",
    "for index, value in df.isna().sum().items():\n",
    "    if value>0 and value < (df.shape[0] / 2):\n",
    "        columns_withNA.append(index)\n",
    "print(columns_withNA)\n",
    "\n",
    "for column in columns_withNA:\n",
    "    print('Column is: ' + column)\n",
    "    print('Mode is: ' + df[column].mode()[0])\n",
    "    print()\n",
    "    df[column] = df[column].fillna( df[column].mode()[0])\n",
    "\n",
    "df.isna().sum()"
   ],
   "metadata": {
    "collapsed": false,
    "pycharm": {
     "name": "#%%\n"
    }
   }
  },
  {
   "cell_type": "markdown",
   "source": [],
   "metadata": {
    "collapsed": false
   }
  },
  {
   "cell_type": "code",
   "execution_count": 91,
   "outputs": [
    {
     "data": {
      "text/plain": "<AxesSubplot:ylabel='Y'>"
     },
     "execution_count": 91,
     "metadata": {},
     "output_type": "execute_result"
    },
    {
     "data": {
      "text/plain": "<Figure size 432x288 with 1 Axes>",
      "image/png": "[encoded data removed]"
     },
     "metadata": {},
     "output_type": "display_data"
    }
   ],
   "source": [
    "fig_size = plt.rcParams[\"figure.figsize\"]\n",
    "fig_size[0] = 6\n",
    "fig_size[1] = 4\n",
    "plt.rcParams[\"figure.figsize\"] = fig_size\n",
    "df.Y.value_counts().plot(kind='pie', autopct='%1.0f%%', colors=['skyblue', 'orange'], explode=(0.05, 0.05))"
   ],
   "metadata": {
    "collapsed": false,
    "pycharm": {
     "name": "#%%\n"
    }
   }
  },
  {
   "cell_type": "markdown",
   "source": [
    "## Data Preprocessing\n",
    "- make a list of all categorical features\n",
    "- mark categorical features in df\n",
    "- get an overview of occurring values\n",
    "- drop irrelevant features\n",
    "- encode categories to integer\n",
    "- convert to tensors"
   ],
   "metadata": {
    "collapsed": false
   }
  },
  {
   "cell_type": "code",
   "execution_count": 92,
   "outputs": [
    {
     "data": {
      "text/plain": "destination             object\npassenger               object\nweather                 object\ntemperature              int64\ntime                    object\ncoupon                  object\nexpiration              object\ngender                  object\nage                     object\nmaritalStatus           object\nhas_children             int64\neducation               object\noccupation              object\nincome                  object\ncar                     object\nBar                     object\nCoffeeHouse             object\nCarryAway               object\nRestaurantLessThan20    object\nRestaurant20To50        object\ntoCoupon_GEQ5min         int64\ntoCoupon_GEQ15min        int64\ntoCoupon_GEQ25min        int64\ndirection_same           int64\ndirection_opp            int64\nY                        int64\ndtype: object"
     },
     "execution_count": 92,
     "metadata": {},
     "output_type": "execute_result"
    }
   ],
   "source": [
    "df.dtypes"
   ],
   "metadata": {
    "collapsed": false,
    "pycharm": {
     "name": "#%%\n"
    }
   }
  },
  {
   "cell_type": "code",
   "execution_count": 93,
   "outputs": [],
   "source": [
    "categorical_columns = df.columns.drop(labels=['temperature', 'Y'])\n",
    "numerical_columns = ['temperature']\n",
    "outputs = ['Y']"
   ],
   "metadata": {
    "collapsed": false,
    "pycharm": {
     "name": "#%%\n"
    }
   }
  },
  {
   "cell_type": "code",
   "execution_count": 94,
   "outputs": [
    {
     "name": "stdout",
     "output_type": "stream",
     "text": [
      "Current feature: destination\n",
      "No Urgent Place\n",
      "Home\n",
      "Work\n",
      "\n",
      "Current feature: passenger\n",
      "Alone\n",
      "Friend(s)\n",
      "Partner\n",
      "Kid(s)\n",
      "\n",
      "Current feature: weather\n",
      "Sunny\n",
      "Snowy\n",
      "Rainy\n",
      "\n",
      "Current feature: time\n",
      "6PM\n",
      "7AM\n",
      "10AM\n",
      "2PM\n",
      "10PM\n",
      "\n",
      "Current feature: coupon\n",
      "Coffee House\n",
      "Restaurant(<20)\n",
      "Carry out & Take away\n",
      "Bar\n",
      "Restaurant(20-50)\n",
      "\n",
      "Current feature: expiration\n",
      "1d\n",
      "2h\n",
      "\n",
      "Current feature: gender\n",
      "Female\n",
      "Male\n",
      "\n",
      "Current feature: age\n",
      "21\n",
      "26\n",
      "31\n",
      "50plus\n",
      "36\n",
      "41\n",
      "46\n",
      "below21\n",
      "\n",
      "Current feature: maritalStatus\n",
      "Married partner\n",
      "Single\n",
      "Unmarried partner\n",
      "Divorced\n",
      "Widowed\n",
      "\n",
      "Current feature: has_children\n",
      "0\n",
      "1\n",
      "\n",
      "Current feature: education\n",
      "Some college - no degree\n",
      "Bachelors degree\n",
      "Graduate degree (Masters or Doctorate)\n",
      "Associates degree\n",
      "High School Graduate\n",
      "Some High School\n",
      "\n",
      "Current feature: occupation\n",
      "Unemployed\n",
      "Student\n",
      "Computer & Mathematical\n",
      "Sales & Related\n",
      "Education&Training&Library\n",
      "Management\n",
      "Office & Administrative Support\n",
      "Arts Design Entertainment Sports & Media\n",
      "Business & Financial\n",
      "Retired\n",
      "Food Preparation & Serving Related\n",
      "Healthcare Practitioners & Technical\n",
      "Healthcare Support\n",
      "Community & Social Services\n",
      "Legal\n",
      "Transportation & Material Moving\n",
      "Architecture & Engineering\n",
      "Personal Care & Service\n",
      "Protective Service\n",
      "Life Physical Social Science\n",
      "Construction & Extraction\n",
      "Installation Maintenance & Repair\n",
      "Production Occupations\n",
      "Building & Grounds Cleaning & Maintenance\n",
      "Farming Fishing & Forestry\n",
      "\n",
      "Current feature: income\n",
      "$25000 - $37499\n",
      "$12500 - $24999\n",
      "$37500 - $49999\n",
      "$100000 or More\n",
      "$50000 - $62499\n",
      "Less than $12500\n",
      "$87500 - $99999\n",
      "$75000 - $87499\n",
      "$62500 - $74999\n",
      "\n",
      "Current feature: car\n",
      "nan\n",
      "do not drive\n",
      "Scooter and motorcycle\n",
      "Mazda5\n",
      "crossover\n",
      "Car that is too old to install Onstar :D\n",
      "\n",
      "Current feature: Bar\n",
      "never\n",
      "less1\n",
      "1~3\n",
      "4~8\n",
      "gt8\n",
      "\n",
      "Current feature: CoffeeHouse\n",
      "less1\n",
      "1~3\n",
      "never\n",
      "4~8\n",
      "gt8\n",
      "\n",
      "Current feature: CarryAway\n",
      "1~3\n",
      "4~8\n",
      "less1\n",
      "gt8\n",
      "never\n",
      "\n",
      "Current feature: RestaurantLessThan20\n",
      "1~3\n",
      "4~8\n",
      "less1\n",
      "gt8\n",
      "never\n",
      "\n",
      "Current feature: Restaurant20To50\n",
      "less1\n",
      "1~3\n",
      "never\n",
      "4~8\n",
      "gt8\n",
      "\n",
      "Current feature: toCoupon_GEQ5min\n",
      "1\n",
      "\n",
      "Current feature: toCoupon_GEQ15min\n",
      "1\n",
      "0\n",
      "\n",
      "Current feature: toCoupon_GEQ25min\n",
      "0\n",
      "1\n",
      "\n",
      "Current feature: direction_same\n",
      "0\n",
      "1\n",
      "\n",
      "Current feature: direction_opp\n",
      "1\n",
      "0\n",
      "\n",
      "Index(['destination', 'passenger', 'weather', 'time', 'coupon', 'expiration',\n",
      "       'gender', 'age', 'maritalStatus', 'has_children', 'education',\n",
      "       'occupation', 'income', 'Bar', 'CoffeeHouse', 'CarryAway',\n",
      "       'RestaurantLessThan20', 'Restaurant20To50', 'toCoupon_GEQ15min',\n",
      "       'toCoupon_GEQ25min', 'direction_same', 'direction_opp'],\n",
      "      dtype='object')\n"
     ]
    }
   ],
   "source": [
    "for feature in categorical_columns:\n",
    "    df[feature] = df[feature].astype('category')\n",
    "    print('Current feature: ' + feature)\n",
    "    valueArray = df[feature].value_counts(dropna=False).index\n",
    "    for value in valueArray:\n",
    "        print(value)\n",
    "    print()\n",
    "\n",
    "categorical_columns = categorical_columns.drop(labels=['car', 'toCoupon_GEQ5min']) # useless feature\n",
    "df = df.drop(labels=['car', 'toCoupon_GEQ5min'], axis=1)\n",
    "print(categorical_columns)"
   ],
   "metadata": {
    "collapsed": false,
    "pycharm": {
     "name": "#%%\n"
    }
   }
  },
  {
   "cell_type": "code",
   "execution_count": 95,
   "outputs": [
    {
     "data": {
      "text/plain": "       destination  passenger weather  temperature  time  \\\n0  No Urgent Place      Alone   Sunny           55   2PM   \n1  No Urgent Place  Friend(s)   Sunny           80  10AM   \n2  No Urgent Place  Friend(s)   Sunny           80  10AM   \n3  No Urgent Place  Friend(s)   Sunny           80   2PM   \n4  No Urgent Place  Friend(s)   Sunny           80   2PM   \n\n                  coupon expiration  gender age      maritalStatus  ...  \\\n0        Restaurant(<20)         1d  Female  21  Unmarried partner  ...   \n1           Coffee House         2h  Female  21  Unmarried partner  ...   \n2  Carry out & Take away         2h  Female  21  Unmarried partner  ...   \n3           Coffee House         2h  Female  21  Unmarried partner  ...   \n4           Coffee House         1d  Female  21  Unmarried partner  ...   \n\n     Bar CoffeeHouse CarryAway RestaurantLessThan20 Restaurant20To50  \\\n0  never       never       1~3                  4~8              1~3   \n1  never       never       1~3                  4~8              1~3   \n2  never       never       1~3                  4~8              1~3   \n3  never       never       1~3                  4~8              1~3   \n4  never       never       1~3                  4~8              1~3   \n\n  toCoupon_GEQ15min toCoupon_GEQ25min direction_same direction_opp  Y  \n0                 0                 0              0             1  1  \n1                 0                 0              0             1  0  \n2                 1                 0              0             1  1  \n3                 1                 0              0             1  0  \n4                 1                 0              0             1  0  \n\n[5 rows x 24 columns]",
      "text/html": "<div>\n<style scoped>\n    .dataframe tbody tr th:only-of-type {\n        vertical-align: middle;\n    }\n\n    .dataframe tbody tr th {\n        vertical-align: top;\n    }\n\n    .dataframe thead th {\n        text-align: right;\n    }\n</style>\n<table border=\"1\" class=\"dataframe\">\n  <thead>\n    <tr style=\"text-align: right;\">\n      <th></th>\n      <th>destination</th>\n      <th>passenger</th>\n      <th>weather</th>\n      <th>temperature</th>\n      <th>time</th>\n      <th>coupon</th>\n      <th>expiration</th>\n      <th>gender</th>\n      <th>age</th>\n      <th>maritalStatus</th>\n      <th>...</th>\n      <th>Bar</th>\n      <th>CoffeeHouse</th>\n      <th>CarryAway</th>\n      <th>RestaurantLessThan20</th>\n      <th>Restaurant20To50</th>\n      <th>toCoupon_GEQ15min</th>\n      <th>toCoupon_GEQ25min</th>\n      <th>direction_same</th>\n      <th>direction_opp</th>\n      <th>Y</th>\n    </tr>\n  </thead>\n  <tbody>\n    <tr>\n      <th>0</th>\n      <td>No Urgent Place</td>\n      <td>Alone</td>\n      <td>Sunny</td>\n      <td>55</td>\n      <td>2PM</td>\n      <td>Restaurant(&lt;20)</td>\n      <td>1d</td>\n      <td>Female</td>\n      <td>21</td>\n      <td>Unmarried partner</td>\n      <td>...</td>\n      <td>never</td>\n      <td>never</td>\n      <td>1~3</td>\n      <td>4~8</td>\n      <td>1~3</td>\n      <td>0</td>\n      <td>0</td>\n      <td>0</td>\n      <td>1</td>\n      <td>1</td>\n    </tr>\n    <tr>\n      <th>1</th>\n      <td>No Urgent Place</td>\n      <td>Friend(s)</td>\n      <td>Sunny</td>\n      <td>80</td>\n      <td>10AM</td>\n      <td>Coffee House</td>\n      <td>2h</td>\n      <td>Female</td>\n      <td>21</td>\n      <td>Unmarried partner</td>\n      <td>...</td>\n      <td>never</td>\n      <td>never</td>\n      <td>1~3</td>\n      <td>4~8</td>\n      <td>1~3</td>\n      <td>0</td>\n      <td>0</td>\n      <td>0</td>\n      <td>1</td>\n      <td>0</td>\n    </tr>\n    <tr>\n      <th>2</th>\n      <td>No Urgent Place</td>\n      <td>Friend(s)</td>\n      <td>Sunny</td>\n      <td>80</td>\n      <td>10AM</td>\n      <td>Carry out &amp; Take away</td>\n      <td>2h</td>\n      <td>Female</td>\n      <td>21</td>\n      <td>Unmarried partner</td>\n      <td>...</td>\n      <td>never</td>\n      <td>never</td>\n      <td>1~3</td>\n      <td>4~8</td>\n      <td>1~3</td>\n      <td>1</td>\n      <td>0</td>\n      <td>0</td>\n      <td>1</td>\n      <td>1</td>\n    </tr>\n    <tr>\n      <th>3</th>\n      <td>No Urgent Place</td>\n      <td>Friend(s)</td>\n      <td>Sunny</td>\n      <td>80</td>\n      <td>2PM</td>\n      <td>Coffee House</td>\n      <td>2h</td>\n      <td>Female</td>\n      <td>21</td>\n      <td>Unmarried partner</td>\n      <td>...</td>\n      <td>never</td>\n      <td>never</td>\n      <td>1~3</td>\n      <td>4~8</td>\n      <td>1~3</td>\n      <td>1</td>\n      <td>0</td>\n      <td>0</td>\n      <td>1</td>\n      <td>0</td>\n    </tr>\n    <tr>\n      <th>4</th>\n      <td>No Urgent Place</td>\n      <td>Friend(s)</td>\n      <td>Sunny</td>\n      <td>80</td>\n      <td>2PM</td>\n      <td>Coffee House</td>\n      <td>1d</td>\n      <td>Female</td>\n      <td>21</td>\n      <td>Unmarried partner</td>\n      <td>...</td>\n      <td>never</td>\n      <td>never</td>\n      <td>1~3</td>\n      <td>4~8</td>\n      <td>1~3</td>\n      <td>1</td>\n      <td>0</td>\n      <td>0</td>\n      <td>1</td>\n      <td>0</td>\n    </tr>\n  </tbody>\n</table>\n<p>5 rows × 24 columns</p>\n</div>"
     },
     "execution_count": 95,
     "metadata": {},
     "output_type": "execute_result"
    }
   ],
   "source": [
    "df.head()"
   ],
   "metadata": {
    "collapsed": false,
    "pycharm": {
     "name": "#%%\n"
    }
   }
  },
  {
   "cell_type": "code",
   "execution_count": 96,
   "outputs": [
    {
     "data": {
      "text/plain": "tensor([[ 1.,  0.,  2.,  2.,  4.,  0.,  0.,  0.,  3.,  1.,  5., 24.,  3.,  4.,\n          4.,  0.,  1.,  0.,  0.,  0.,  0.,  1.],\n        [ 1.,  1.,  2.,  0.,  2.,  1.,  0.,  0.,  3.,  1.,  5., 24.,  3.,  4.,\n          4.,  0.,  1.,  0.,  0.,  0.,  0.,  1.],\n        [ 1.,  1.,  2.,  0.,  1.,  1.,  0.,  0.,  3.,  1.,  5., 24.,  3.,  4.,\n          4.,  0.,  1.,  0.,  1.,  0.,  0.,  1.],\n        [ 1.,  1.,  2.,  2.,  2.,  1.,  0.,  0.,  3.,  1.,  5., 24.,  3.,  4.,\n          4.,  0.,  1.,  0.,  1.,  0.,  0.,  1.],\n        [ 1.,  1.,  2.,  2.,  2.,  0.,  0.,  0.,  3.,  1.,  5., 24.,  3.,  4.,\n          4.,  0.,  1.,  0.,  1.,  0.,  0.,  1.]])"
     },
     "execution_count": 96,
     "metadata": {},
     "output_type": "execute_result"
    }
   ],
   "source": [
    "categorical_data = np.stack([df[feature].cat.codes.values for feature in categorical_columns], 1)\n",
    "categorical_data = torch.tensor(categorical_data, dtype=torch.float)\n",
    "categorical_data[:5]"
   ],
   "metadata": {
    "collapsed": false,
    "pycharm": {
     "name": "#%%\n"
    }
   }
  },
  {
   "cell_type": "code",
   "execution_count": 97,
   "outputs": [
    {
     "data": {
      "text/plain": "tensor([[55.],\n        [80.],\n        [80.],\n        [80.],\n        [80.]])"
     },
     "execution_count": 97,
     "metadata": {},
     "output_type": "execute_result"
    }
   ],
   "source": [
    "numerical_data = np.stack([df[feature].values for feature in numerical_columns], 1)\n",
    "numerical_data = torch.tensor(numerical_data, dtype=torch.float)\n",
    "numerical_data[:5]"
   ],
   "metadata": {
    "collapsed": false,
    "pycharm": {
     "name": "#%%\n"
    }
   }
  },
  {
   "cell_type": "code",
   "execution_count": 98,
   "outputs": [
    {
     "data": {
      "text/plain": "tensor([1., 0., 1., 0., 0.])"
     },
     "execution_count": 98,
     "metadata": {},
     "output_type": "execute_result"
    }
   ],
   "source": [
    "outputs = torch.tensor(df[outputs].values, dtype=torch.float).flatten()\n",
    "outputs[:5]"
   ],
   "metadata": {
    "collapsed": false,
    "pycharm": {
     "name": "#%%\n"
    }
   }
  },
  {
   "cell_type": "code",
   "execution_count": 99,
   "outputs": [
    {
     "name": "stdout",
     "output_type": "stream",
     "text": [
      "torch.Size([12684, 22])\n",
      "torch.Size([12684, 1])\n",
      "torch.Size([12684])\n"
     ]
    }
   ],
   "source": [
    "print(categorical_data.shape)\n",
    "print(numerical_data.shape)\n",
    "print(outputs.shape)"
   ],
   "metadata": {
    "collapsed": false,
    "pycharm": {
     "name": "#%%\n"
    }
   }
  },
  {
   "cell_type": "code",
   "execution_count": 100,
   "outputs": [
    {
     "name": "stdout",
     "output_type": "stream",
     "text": [
      "[(3, 2), (4, 2), (3, 2), (5, 3), (5, 3), (2, 1), (2, 1), (8, 4), (5, 3), (2, 1), (6, 3), (25, 13), (9, 5), (5, 3), (5, 3), (5, 3), (5, 3), (5, 3), (2, 1), (2, 1), (2, 1), (2, 1)]\n"
     ]
    }
   ],
   "source": [
    "categorical_columns_sizes = [len(df[column].cat.categories) for column in categorical_columns]\n",
    "categorical_embedding_sizes = [(col_size, min(50, (col_size+1)//2)) for col_size in categorical_columns_sizes]\n",
    "print(categorical_embedding_sizes)"
   ],
   "metadata": {
    "collapsed": false,
    "pycharm": {
     "name": "#%%\n"
    }
   }
  },
  {
   "cell_type": "markdown",
   "source": [
    "## Train-Test-Split"
   ],
   "metadata": {
    "collapsed": false,
    "pycharm": {
     "name": "#%% md\n"
    }
   }
  },
  {
   "cell_type": "code",
   "execution_count": 101,
   "outputs": [
    {
     "name": "stdout",
     "output_type": "stream",
     "text": [
      "9513\n",
      "9513\n",
      "9513\n",
      "3171\n",
      "3171\n",
      "3171\n"
     ]
    }
   ],
   "source": [
    "total_records = outputs.shape[0]\n",
    "test_records = int(total_records * .25)\n",
    "\n",
    "categorical_train_data = categorical_data[:total_records-test_records]\n",
    "categorical_test_data = categorical_data[total_records-test_records:total_records]\n",
    "\n",
    "numerical_train_data = numerical_data[:total_records-test_records]\n",
    "numerical_test_data = numerical_data[total_records-test_records:total_records]\n",
    "\n",
    "train_outputs = outputs[:total_records-test_records]\n",
    "test_outputs = outputs[total_records-test_records:total_records]\n",
    "\n",
    "print(len(categorical_train_data))\n",
    "print(len(numerical_train_data))\n",
    "print(len(train_outputs))\n",
    "\n",
    "print(len(categorical_test_data))\n",
    "print(len(numerical_test_data))\n",
    "print(len(test_outputs))"
   ],
   "metadata": {
    "collapsed": false,
    "pycharm": {
     "name": "#%%\n"
    }
   }
  },
  {
   "cell_type": "markdown",
   "source": [
    "#### Check if Cuda is supported"
   ],
   "metadata": {
    "collapsed": false
   }
  },
  {
   "cell_type": "code",
   "execution_count": 102,
   "outputs": [
    {
     "name": "stdout",
     "output_type": "stream",
     "text": [
      "Using cuda device\n"
     ]
    }
   ],
   "source": [
    "device = 'cuda' if torch.cuda.is_available() else 'cpu'\n",
    "print('Using {} device'.format(device))\n",
    "\n",
    "\n",
    "\n",
    "categorical_train_data = torch.Tensor(categorical_train_data).long().to(device)\n",
    "categorical_test_data = torch.Tensor(categorical_test_data).long().to(device)\n",
    "\n",
    "numerical_train_data = torch.Tensor(numerical_train_data).float().to(device)\n",
    "numerical_test_data = torch.Tensor(numerical_test_data).float().to(device)\n",
    "\n",
    "train_outputs = torch.Tensor(train_outputs).long().to(device)\n",
    "test_outputs = torch.Tensor(test_outputs).long().to(device)"
   ],
   "metadata": {
    "collapsed": false,
    "pycharm": {
     "name": "#%%\n"
    }
   }
  },
  {
   "cell_type": "markdown",
   "source": [
    "#### Build the NN\n",
    "- initialize model\n",
    "- set loss function and optimizer"
   ],
   "metadata": {
    "collapsed": false,
    "pycharm": {
     "name": "#%% md\n"
    }
   }
  },
  {
   "cell_type": "code",
   "execution_count": 103,
   "outputs": [],
   "source": [
    "class Model(nn.Module):\n",
    "\n",
    "    def __init__(self, embedding_size, num_numerical_cols, output_size, layers, p=0.1):\n",
    "        super().__init__()\n",
    "        self.all_embeddings = nn.ModuleList([nn.Embedding(ni, nf) for ni, nf in embedding_size])\n",
    "        self.embedding_dropout = nn.Dropout(p)\n",
    "        self.batch_norm_num = nn.BatchNorm1d(num_numerical_cols)\n",
    "\n",
    "        all_layers = []\n",
    "        num_categorical_cols = sum((nf for ni, nf in embedding_size))\n",
    "        input_size = num_categorical_cols + num_numerical_cols\n",
    "\n",
    "        for i in layers:\n",
    "            all_layers.append(nn.Linear(input_size, i))\n",
    "            all_layers.append(nn.ReLU(inplace=True))\n",
    "            all_layers.append(nn.BatchNorm1d(i))\n",
    "            all_layers.append(nn.Dropout(p))\n",
    "            input_size = i\n",
    "\n",
    "        all_layers.append(nn.Linear(layers[-1], output_size))\n",
    "\n",
    "        self.layers = nn.Sequential(*all_layers)\n",
    "\n",
    "    def forward(self, x_categorical, x_numerical):\n",
    "        embeddings = []\n",
    "        for i,e in enumerate(self.all_embeddings):\n",
    "            embeddings.append(e(x_categorical[:,i]))\n",
    "        x = torch.cat(embeddings, 1)\n",
    "        x = self.embedding_dropout(x)\n",
    "\n",
    "        x_numerical = self.batch_norm_num(x_numerical)\n",
    "        x = torch.cat([x, x_numerical], 1)\n",
    "        x = self.layers(x)\n",
    "        return x"
   ],
   "metadata": {
    "collapsed": false,
    "pycharm": {
     "name": "#%%\n"
    }
   }
  },
  {
   "cell_type": "code",
   "execution_count": 104,
   "outputs": [
    {
     "name": "stdout",
     "output_type": "stream",
     "text": [
      "Model(\n",
      "  (all_embeddings): ModuleList(\n",
      "    (0): Embedding(3, 2)\n",
      "    (1): Embedding(4, 2)\n",
      "    (2): Embedding(3, 2)\n",
      "    (3): Embedding(5, 3)\n",
      "    (4): Embedding(5, 3)\n",
      "    (5): Embedding(2, 1)\n",
      "    (6): Embedding(2, 1)\n",
      "    (7): Embedding(8, 4)\n",
      "    (8): Embedding(5, 3)\n",
      "    (9): Embedding(2, 1)\n",
      "    (10): Embedding(6, 3)\n",
      "    (11): Embedding(25, 13)\n",
      "    (12): Embedding(9, 5)\n",
      "    (13): Embedding(5, 3)\n",
      "    (14): Embedding(5, 3)\n",
      "    (15): Embedding(5, 3)\n",
      "    (16): Embedding(5, 3)\n",
      "    (17): Embedding(5, 3)\n",
      "    (18): Embedding(2, 1)\n",
      "    (19): Embedding(2, 1)\n",
      "    (20): Embedding(2, 1)\n",
      "    (21): Embedding(2, 1)\n",
      "  )\n",
      "  (embedding_dropout): Dropout(p=0.4, inplace=False)\n",
      "  (batch_norm_num): BatchNorm1d(1, eps=1e-05, momentum=0.1, affine=True, track_running_stats=True)\n",
      "  (layers): Sequential(\n",
      "    (0): Linear(in_features=63, out_features=100, bias=True)\n",
      "    (1): ReLU(inplace=True)\n",
      "    (2): BatchNorm1d(100, eps=1e-05, momentum=0.1, affine=True, track_running_stats=True)\n",
      "    (3): Dropout(p=0.4, inplace=False)\n",
      "    (4): Linear(in_features=100, out_features=25, bias=True)\n",
      "    (5): ReLU(inplace=True)\n",
      "    (6): BatchNorm1d(25, eps=1e-05, momentum=0.1, affine=True, track_running_stats=True)\n",
      "    (7): Dropout(p=0.4, inplace=False)\n",
      "    (8): Linear(in_features=25, out_features=2, bias=True)\n",
      "  )\n",
      ")\n"
     ]
    }
   ],
   "source": [
    "model = Model(categorical_embedding_sizes, numerical_data.shape[1], 2, [100, 25], p=0.4).to(device)\n",
    "print(model)"
   ],
   "metadata": {
    "collapsed": false,
    "pycharm": {
     "name": "#%%\n"
    }
   }
  },
  {
   "cell_type": "code",
   "execution_count": 105,
   "outputs": [],
   "source": [
    "loss_function = nn.CrossEntropyLoss()\n",
    "optimizer = torch.optim.Adam(model.parameters(), lr=0.001)"
   ],
   "metadata": {
    "collapsed": false,
    "pycharm": {
     "name": "#%%\n"
    }
   }
  },
  {
   "cell_type": "markdown",
   "source": [
    "## Train model"
   ],
   "metadata": {
    "collapsed": false,
    "pycharm": {
     "name": "#%% md\n"
    }
   }
  },
  {
   "cell_type": "code",
   "execution_count": 106,
   "outputs": [
    {
     "name": "stdout",
     "output_type": "stream",
     "text": [
      "epoch:   0 loss: 0.80757070\n",
      "epoch: 200 loss: 0.62379289\n",
      "epoch: 400 loss: 0.59242767\n",
      "epoch: 600 loss: 0.57220066\n",
      "epoch: 800 loss: 0.56308603\n",
      "epoch: 1000 loss: 0.55713457\n",
      "epoch: 1200 loss: 0.54739565\n",
      "epoch: 1400 loss: 0.53598070\n",
      "epoch: 1600 loss: 0.53727406\n",
      "epoch: 1800 loss: 0.53407735\n",
      "epoch: 1999 loss: 0.5276525021\n"
     ]
    },
    {
     "data": {
      "text/plain": "<Figure size 432x288 with 1 Axes>",
      "image/png": "[encoded data removed]"
     },
     "metadata": {
      "needs_background": "light"
     },
     "output_type": "display_data"
    }
   ],
   "source": [
    "epochs = 2000\n",
    "aggregated_losses = []\n",
    "\n",
    "for i in range(epochs):\n",
    "\n",
    "    y_pred = model(categorical_train_data, numerical_train_data)\n",
    "    single_loss = loss_function(y_pred, train_outputs)\n",
    "    aggregated_losses.append(single_loss)\n",
    "\n",
    "    if i%200 == 0:\n",
    "        print(f'epoch: {i:3} loss: {single_loss.item():10.8f}')\n",
    "\n",
    "    optimizer.zero_grad()\n",
    "    single_loss.backward()\n",
    "    optimizer.step()\n",
    "\n",
    "print(f'epoch: {i:3} loss: {single_loss.item():10.10f}')\n",
    "\n",
    "plt.plot(range(epochs), aggregated_losses)\n",
    "plt.ylabel('Loss')\n",
    "plt.xlabel('epoch');"
   ],
   "metadata": {
    "collapsed": false,
    "pycharm": {
     "name": "#%%\n"
    }
   }
  },
  {
   "cell_type": "code",
   "execution_count": 107,
   "outputs": [
    {
     "name": "stdout",
     "output_type": "stream",
     "text": [
      "Loss: 0.70166993\n"
     ]
    }
   ],
   "source": [
    "with torch.no_grad():\n",
    "    y_val = model(categorical_test_data, numerical_test_data)\n",
    "    loss = loss_function(y_val, test_outputs)\n",
    "print(f'Loss: {loss:.8f}')"
   ],
   "metadata": {
    "collapsed": false,
    "pycharm": {
     "name": "#%%\n"
    }
   }
  },
  {
   "cell_type": "code",
   "execution_count": 108,
   "outputs": [
    {
     "name": "stdout",
     "output_type": "stream",
     "text": [
      "[[ 742  658]\n",
      " [ 479 1292]]\n",
      "              precision    recall  f1-score   support\n",
      "\n",
      "           0       0.61      0.53      0.57      1400\n",
      "           1       0.66      0.73      0.69      1771\n",
      "\n",
      "    accuracy                           0.64      3171\n",
      "   macro avg       0.64      0.63      0.63      3171\n",
      "weighted avg       0.64      0.64      0.64      3171\n",
      "\n",
      "Accuracy Score: 0.641438032166509\n"
     ]
    }
   ],
   "source": [
    "from sklearn.metrics import classification_report, confusion_matrix, accuracy_score\n",
    "\n",
    "_, predicted = torch.max(y_val.data, 1)\n",
    "predicted_cpu = predicted.to('cpu')\n",
    "test_outputs_cpu = test_outputs.to('cpu')\n",
    "\n",
    "print(confusion_matrix(test_outputs_cpu,predicted_cpu))\n",
    "print(classification_report(test_outputs_cpu,predicted_cpu))\n",
    "print(f'Accuracy Score: {accuracy_score(test_outputs_cpu, predicted_cpu)}')"
   ],
   "metadata": {
    "collapsed": false,
    "pycharm": {
     "name": "#%%\n"
    }
   }
  }
 ],
 "metadata": {
  "kernelspec": {
   "display_name": "Python 3",
   "language": "python",
   "name": "python3"
  },
  "language_info": {
   "codemirror_mode": {
    "name": "ipython",
    "version": 2
   },
   "file_extension": ".py",
   "mimetype": "text/x-python",
   "name": "python",
   "nbconvert_exporter": "python",
   "pygments_lexer": "ipython2",
   "version": "2.7.6"
  }
 },
 "nbformat": 4,
 "nbformat_minor": 0
}