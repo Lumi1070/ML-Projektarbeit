{
 "cells": [
  {
   "cell_type": "markdown",
   "metadata": {
    "collapsed": true,
    "pycharm": {
     "name": "#%% md\n"
    }
   },
   "source": [
    "## Imports"
   ]
  },
  {
   "cell_type": "code",
   "execution_count": 500,
   "outputs": [],
   "source": [
    "import pandas as pd\n",
    "import torch\n",
    "\n",
    "from sklearn.model_selection import train_test_split\n",
    "from sklearn.preprocessing import StandardScaler\n",
    "\n",
    "from torch import nn\n",
    "from torch.utils.data import DataLoader\n",
    "from torchvision.transforms import Lambda, ToTensor"
   ],
   "metadata": {
    "collapsed": false,
    "pycharm": {
     "name": "#%%\n"
    }
   }
  },
  {
   "cell_type": "markdown",
   "source": [
    "## Load dataset"
   ],
   "metadata": {
    "collapsed": false
   }
  },
  {
   "cell_type": "code",
   "execution_count": 501,
   "outputs": [
    {
     "data": {
      "text/plain": "['destination',\n 'passanger',\n 'weather',\n 'temperature',\n 'time',\n 'coupon',\n 'expiration',\n 'gender',\n 'age',\n 'maritalStatus',\n 'has_children',\n 'education',\n 'occupation',\n 'income',\n 'car',\n 'Bar',\n 'CoffeeHouse',\n 'CarryAway',\n 'RestaurantLessThan20',\n 'Restaurant20To50',\n 'toCoupon_GEQ5min',\n 'toCoupon_GEQ15min',\n 'toCoupon_GEQ25min',\n 'direction_same',\n 'direction_opp',\n 'Y']"
     },
     "metadata": {},
     "output_type": "display_data"
    },
    {
     "data": {
      "text/plain": "           destination  passenger weather  temperature  time  \\\n0      No Urgent Place      Alone   Sunny           55   2PM   \n1      No Urgent Place  Friend(s)   Sunny           80  10AM   \n2      No Urgent Place  Friend(s)   Sunny           80  10AM   \n3      No Urgent Place  Friend(s)   Sunny           80   2PM   \n4      No Urgent Place  Friend(s)   Sunny           80   2PM   \n...                ...        ...     ...          ...   ...   \n12679             Home    Partner   Rainy           55   6PM   \n12680             Work      Alone   Rainy           55   7AM   \n12681             Work      Alone   Snowy           30   7AM   \n12682             Work      Alone   Snowy           30   7AM   \n12683             Work      Alone   Sunny           80   7AM   \n\n                      coupon expiration  gender age      maritalStatus  ...  \\\n0            Restaurant(<20)         1d  Female  21  Unmarried partner  ...   \n1               Coffee House         2h  Female  21  Unmarried partner  ...   \n2      Carry out & Take away         2h  Female  21  Unmarried partner  ...   \n3               Coffee House         2h  Female  21  Unmarried partner  ...   \n4               Coffee House         1d  Female  21  Unmarried partner  ...   \n...                      ...        ...     ...  ..                ...  ...   \n12679  Carry out & Take away         1d    Male  26             Single  ...   \n12680  Carry out & Take away         1d    Male  26             Single  ...   \n12681           Coffee House         1d    Male  26             Single  ...   \n12682                    Bar         1d    Male  26             Single  ...   \n12683      Restaurant(20-50)         2h    Male  26             Single  ...   \n\n       CoffeeHouse CarryAway RestaurantLessThan20 Restaurant20To50  \\\n0            never       NaN                  4~8              1~3   \n1            never       NaN                  4~8              1~3   \n2            never       NaN                  4~8              1~3   \n3            never       NaN                  4~8              1~3   \n4            never       NaN                  4~8              1~3   \n...            ...       ...                  ...              ...   \n12679        never       1~3                  4~8              1~3   \n12680        never       1~3                  4~8              1~3   \n12681        never       1~3                  4~8              1~3   \n12682        never       1~3                  4~8              1~3   \n12683        never       1~3                  4~8              1~3   \n\n      toCoupon_GEQ5min toCoupon_GEQ15min toCoupon_GEQ25min direction_same  \\\n0                    1                 0                 0              0   \n1                    1                 0                 0              0   \n2                    1                 1                 0              0   \n3                    1                 1                 0              0   \n4                    1                 1                 0              0   \n...                ...               ...               ...            ...   \n12679                1                 0                 0              1   \n12680                1                 0                 0              0   \n12681                1                 0                 0              1   \n12682                1                 1                 1              0   \n12683                1                 0                 0              1   \n\n      direction_opp  Y  \n0                 1  1  \n1                 1  0  \n2                 1  1  \n3                 1  0  \n4                 1  0  \n...             ... ..  \n12679             0  1  \n12680             1  1  \n12681             0  0  \n12682             1  0  \n12683             0  0  \n\n[12684 rows x 26 columns]",
      "text/html": "<div>\n<style scoped>\n    .dataframe tbody tr th:only-of-type {\n        vertical-align: middle;\n    }\n\n    .dataframe tbody tr th {\n        vertical-align: top;\n    }\n\n    .dataframe thead th {\n        text-align: right;\n    }\n</style>\n<table border=\"1\" class=\"dataframe\">\n  <thead>\n    <tr style=\"text-align: right;\">\n      <th></th>\n      <th>destination</th>\n      <th>passenger</th>\n      <th>weather</th>\n      <th>temperature</th>\n      <th>time</th>\n      <th>coupon</th>\n      <th>expiration</th>\n      <th>gender</th>\n      <th>age</th>\n      <th>maritalStatus</th>\n      <th>...</th>\n      <th>CoffeeHouse</th>\n      <th>CarryAway</th>\n      <th>RestaurantLessThan20</th>\n      <th>Restaurant20To50</th>\n      <th>toCoupon_GEQ5min</th>\n      <th>toCoupon_GEQ15min</th>\n      <th>toCoupon_GEQ25min</th>\n      <th>direction_same</th>\n      <th>direction_opp</th>\n      <th>Y</th>\n    </tr>\n  </thead>\n  <tbody>\n    <tr>\n      <th>0</th>\n      <td>No Urgent Place</td>\n      <td>Alone</td>\n      <td>Sunny</td>\n      <td>55</td>\n      <td>2PM</td>\n      <td>Restaurant(&lt;20)</td>\n      <td>1d</td>\n      <td>Female</td>\n      <td>21</td>\n      <td>Unmarried partner</td>\n      <td>...</td>\n      <td>never</td>\n      <td>NaN</td>\n      <td>4~8</td>\n      <td>1~3</td>\n      <td>1</td>\n      <td>0</td>\n      <td>0</td>\n      <td>0</td>\n      <td>1</td>\n      <td>1</td>\n    </tr>\n    <tr>\n      <th>1</th>\n      <td>No Urgent Place</td>\n      <td>Friend(s)</td>\n      <td>Sunny</td>\n      <td>80</td>\n      <td>10AM</td>\n      <td>Coffee House</td>\n      <td>2h</td>\n      <td>Female</td>\n      <td>21</td>\n      <td>Unmarried partner</td>\n      <td>...</td>\n      <td>never</td>\n      <td>NaN</td>\n      <td>4~8</td>\n      <td>1~3</td>\n      <td>1</td>\n      <td>0</td>\n      <td>0</td>\n      <td>0</td>\n      <td>1</td>\n      <td>0</td>\n    </tr>\n    <tr>\n      <th>2</th>\n      <td>No Urgent Place</td>\n      <td>Friend(s)</td>\n      <td>Sunny</td>\n      <td>80</td>\n      <td>10AM</td>\n      <td>Carry out &amp; Take away</td>\n      <td>2h</td>\n      <td>Female</td>\n      <td>21</td>\n      <td>Unmarried partner</td>\n      <td>...</td>\n      <td>never</td>\n      <td>NaN</td>\n      <td>4~8</td>\n      <td>1~3</td>\n      <td>1</td>\n      <td>1</td>\n      <td>0</td>\n      <td>0</td>\n      <td>1</td>\n      <td>1</td>\n    </tr>\n    <tr>\n      <th>3</th>\n      <td>No Urgent Place</td>\n      <td>Friend(s)</td>\n      <td>Sunny</td>\n      <td>80</td>\n      <td>2PM</td>\n      <td>Coffee House</td>\n      <td>2h</td>\n      <td>Female</td>\n      <td>21</td>\n      <td>Unmarried partner</td>\n      <td>...</td>\n      <td>never</td>\n      <td>NaN</td>\n      <td>4~8</td>\n      <td>1~3</td>\n      <td>1</td>\n      <td>1</td>\n      <td>0</td>\n      <td>0</td>\n      <td>1</td>\n      <td>0</td>\n    </tr>\n    <tr>\n      <th>4</th>\n      <td>No Urgent Place</td>\n      <td>Friend(s)</td>\n      <td>Sunny</td>\n      <td>80</td>\n      <td>2PM</td>\n      <td>Coffee House</td>\n      <td>1d</td>\n      <td>Female</td>\n      <td>21</td>\n      <td>Unmarried partner</td>\n      <td>...</td>\n      <td>never</td>\n      <td>NaN</td>\n      <td>4~8</td>\n      <td>1~3</td>\n      <td>1</td>\n      <td>1</td>\n      <td>0</td>\n      <td>0</td>\n      <td>1</td>\n      <td>0</td>\n    </tr>\n    <tr>\n      <th>...</th>\n      <td>...</td>\n      <td>...</td>\n      <td>...</td>\n      <td>...</td>\n      <td>...</td>\n      <td>...</td>\n      <td>...</td>\n      <td>...</td>\n      <td>...</td>\n      <td>...</td>\n      <td>...</td>\n      <td>...</td>\n      <td>...</td>\n      <td>...</td>\n      <td>...</td>\n      <td>...</td>\n      <td>...</td>\n      <td>...</td>\n      <td>...</td>\n      <td>...</td>\n      <td>...</td>\n    </tr>\n    <tr>\n      <th>12679</th>\n      <td>Home</td>\n      <td>Partner</td>\n      <td>Rainy</td>\n      <td>55</td>\n      <td>6PM</td>\n      <td>Carry out &amp; Take away</td>\n      <td>1d</td>\n      <td>Male</td>\n      <td>26</td>\n      <td>Single</td>\n      <td>...</td>\n      <td>never</td>\n      <td>1~3</td>\n      <td>4~8</td>\n      <td>1~3</td>\n      <td>1</td>\n      <td>0</td>\n      <td>0</td>\n      <td>1</td>\n      <td>0</td>\n      <td>1</td>\n    </tr>\n    <tr>\n      <th>12680</th>\n      <td>Work</td>\n      <td>Alone</td>\n      <td>Rainy</td>\n      <td>55</td>\n      <td>7AM</td>\n      <td>Carry out &amp; Take away</td>\n      <td>1d</td>\n      <td>Male</td>\n      <td>26</td>\n      <td>Single</td>\n      <td>...</td>\n      <td>never</td>\n      <td>1~3</td>\n      <td>4~8</td>\n      <td>1~3</td>\n      <td>1</td>\n      <td>0</td>\n      <td>0</td>\n      <td>0</td>\n      <td>1</td>\n      <td>1</td>\n    </tr>\n    <tr>\n      <th>12681</th>\n      <td>Work</td>\n      <td>Alone</td>\n      <td>Snowy</td>\n      <td>30</td>\n      <td>7AM</td>\n      <td>Coffee House</td>\n      <td>1d</td>\n      <td>Male</td>\n      <td>26</td>\n      <td>Single</td>\n      <td>...</td>\n      <td>never</td>\n      <td>1~3</td>\n      <td>4~8</td>\n      <td>1~3</td>\n      <td>1</td>\n      <td>0</td>\n      <td>0</td>\n      <td>1</td>\n      <td>0</td>\n      <td>0</td>\n    </tr>\n    <tr>\n      <th>12682</th>\n      <td>Work</td>\n      <td>Alone</td>\n      <td>Snowy</td>\n      <td>30</td>\n      <td>7AM</td>\n      <td>Bar</td>\n      <td>1d</td>\n      <td>Male</td>\n      <td>26</td>\n      <td>Single</td>\n      <td>...</td>\n      <td>never</td>\n      <td>1~3</td>\n      <td>4~8</td>\n      <td>1~3</td>\n      <td>1</td>\n      <td>1</td>\n      <td>1</td>\n      <td>0</td>\n      <td>1</td>\n      <td>0</td>\n    </tr>\n    <tr>\n      <th>12683</th>\n      <td>Work</td>\n      <td>Alone</td>\n      <td>Sunny</td>\n      <td>80</td>\n      <td>7AM</td>\n      <td>Restaurant(20-50)</td>\n      <td>2h</td>\n      <td>Male</td>\n      <td>26</td>\n      <td>Single</td>\n      <td>...</td>\n      <td>never</td>\n      <td>1~3</td>\n      <td>4~8</td>\n      <td>1~3</td>\n      <td>1</td>\n      <td>0</td>\n      <td>0</td>\n      <td>1</td>\n      <td>0</td>\n      <td>0</td>\n    </tr>\n  </tbody>\n</table>\n<p>12684 rows × 26 columns</p>\n</div>"
     },
     "execution_count": 501,
     "metadata": {},
     "output_type": "execute_result"
    }
   ],
   "source": [
    "df = pd.read_csv('in-vehicle-coupon-recommendation.csv')\n",
    "display(list(df.columns.values))\n",
    "df.rename(columns={\"passanger\": \"passenger\"}, inplace=True)\n",
    "df"
   ],
   "metadata": {
    "collapsed": false,
    "pycharm": {
     "name": "#%%\n"
    }
   }
  },
  {
   "cell_type": "markdown",
   "source": [
    "## Fill missing values in data\n",
    "- Count NAs per column\n",
    "- Make a list of columns containing NAs\n",
    "- Do not list columns containing more than 50% NAs<br>(insufficient data for replacement)\n",
    "- Replace NAs with mode in all listed columns\n",
    "\n",
    "(only to be used for categorical features,<br>numerical ones would require selecting the mean)"
   ],
   "metadata": {
    "collapsed": false
   }
  },
  {
   "cell_type": "code",
   "execution_count": 502,
   "outputs": [
    {
     "data": {
      "text/plain": "destination                 0\npassenger                   0\nweather                     0\ntemperature                 0\ntime                        0\ncoupon                      0\nexpiration                  0\ngender                      0\nage                         0\nmaritalStatus               0\nhas_children                0\neducation                   0\noccupation                  0\nincome                      0\ncar                     12576\nBar                       107\nCoffeeHouse               217\nCarryAway                 151\nRestaurantLessThan20      130\nRestaurant20To50          189\ntoCoupon_GEQ5min            0\ntoCoupon_GEQ15min           0\ntoCoupon_GEQ25min           0\ndirection_same              0\ndirection_opp               0\nY                           0\ndtype: int64"
     },
     "execution_count": 502,
     "metadata": {},
     "output_type": "execute_result"
    }
   ],
   "source": [
    "df.isna().sum()"
   ],
   "metadata": {
    "collapsed": false,
    "pycharm": {
     "name": "#%%\n"
    }
   }
  },
  {
   "cell_type": "code",
   "execution_count": 503,
   "outputs": [
    {
     "name": "stdout",
     "output_type": "stream",
     "text": [
      "['Bar', 'CoffeeHouse', 'CarryAway', 'RestaurantLessThan20', 'Restaurant20To50']\n",
      "Column is: Bar\n",
      "Mode is: never\n",
      "\n",
      "Column is: CoffeeHouse\n",
      "Mode is: less1\n",
      "\n",
      "Column is: CarryAway\n",
      "Mode is: 1~3\n",
      "\n",
      "Column is: RestaurantLessThan20\n",
      "Mode is: 1~3\n",
      "\n",
      "Column is: Restaurant20To50\n",
      "Mode is: less1\n",
      "\n"
     ]
    },
    {
     "data": {
      "text/plain": "destination                 0\npassenger                   0\nweather                     0\ntemperature                 0\ntime                        0\ncoupon                      0\nexpiration                  0\ngender                      0\nage                         0\nmaritalStatus               0\nhas_children                0\neducation                   0\noccupation                  0\nincome                      0\ncar                     12576\nBar                         0\nCoffeeHouse                 0\nCarryAway                   0\nRestaurantLessThan20        0\nRestaurant20To50            0\ntoCoupon_GEQ5min            0\ntoCoupon_GEQ15min           0\ntoCoupon_GEQ25min           0\ndirection_same              0\ndirection_opp               0\nY                           0\ndtype: int64"
     },
     "execution_count": 503,
     "metadata": {},
     "output_type": "execute_result"
    }
   ],
   "source": [
    "columns_withNA = []\n",
    "\n",
    "for index, value in df.isna().sum().items():\n",
    "    if value>0 and value < (df.shape[0] / 2):\n",
    "        columns_withNA.append(index)\n",
    "print(columns_withNA)\n",
    "\n",
    "for column in columns_withNA:\n",
    "    print('Column is: ' + column)\n",
    "    print('Mode is: ' + df[column].mode()[0])\n",
    "    print()\n",
    "    df[column] = df[column].fillna( df[column].mode()[0])\n",
    "\n",
    "df.isna().sum()"
   ],
   "metadata": {
    "collapsed": false,
    "pycharm": {
     "name": "#%%\n"
    }
   }
  },
  {
   "cell_type": "markdown",
   "source": [
    "## One-hot-encoding\n",
    "- make a list of all categorical features\n",
    "- get an overview of occurring values\n",
    "- drop all binary labeled features (already OHE)\n",
    "- for each feature create new columns, one for each distinct value using pd.get_dummies()<br>\n",
    "'FEATURE_IS_VALUE' (e.g. 'destination_IS_Home')"
   ],
   "metadata": {
    "collapsed": false
   }
  },
  {
   "cell_type": "code",
   "execution_count": 504,
   "outputs": [
    {
     "name": "stdout",
     "output_type": "stream",
     "text": [
      "Current feature: destination\n",
      "No Urgent Place\n",
      "Home\n",
      "Work\n",
      "\n",
      "Current feature: passenger\n",
      "Alone\n",
      "Friend(s)\n",
      "Partner\n",
      "Kid(s)\n",
      "\n",
      "Current feature: weather\n",
      "Sunny\n",
      "Snowy\n",
      "Rainy\n",
      "\n",
      "Current feature: time\n",
      "6PM\n",
      "7AM\n",
      "10AM\n",
      "2PM\n",
      "10PM\n",
      "\n",
      "Current feature: coupon\n",
      "Coffee House\n",
      "Restaurant(<20)\n",
      "Carry out & Take away\n",
      "Bar\n",
      "Restaurant(20-50)\n",
      "\n",
      "Current feature: expiration\n",
      "1d\n",
      "2h\n",
      "\n",
      "Current feature: gender\n",
      "Female\n",
      "Male\n",
      "\n",
      "Current feature: age\n",
      "21\n",
      "26\n",
      "31\n",
      "50plus\n",
      "36\n",
      "41\n",
      "46\n",
      "below21\n",
      "\n",
      "Current feature: maritalStatus\n",
      "Married partner\n",
      "Single\n",
      "Unmarried partner\n",
      "Divorced\n",
      "Widowed\n",
      "\n",
      "Current feature: has_children\n",
      "0\n",
      "1\n",
      "\n",
      "Current feature: education\n",
      "Some college - no degree\n",
      "Bachelors degree\n",
      "Graduate degree (Masters or Doctorate)\n",
      "Associates degree\n",
      "High School Graduate\n",
      "Some High School\n",
      "\n",
      "Current feature: occupation\n",
      "Unemployed\n",
      "Student\n",
      "Computer & Mathematical\n",
      "Sales & Related\n",
      "Education&Training&Library\n",
      "Management\n",
      "Office & Administrative Support\n",
      "Arts Design Entertainment Sports & Media\n",
      "Business & Financial\n",
      "Retired\n",
      "Food Preparation & Serving Related\n",
      "Healthcare Practitioners & Technical\n",
      "Healthcare Support\n",
      "Community & Social Services\n",
      "Legal\n",
      "Transportation & Material Moving\n",
      "Personal Care & Service\n",
      "Protective Service\n",
      "Architecture & Engineering\n",
      "Life Physical Social Science\n",
      "Construction & Extraction\n",
      "Installation Maintenance & Repair\n",
      "Production Occupations\n",
      "Building & Grounds Cleaning & Maintenance\n",
      "Farming Fishing & Forestry\n",
      "\n",
      "Current feature: income\n",
      "$25000 - $37499\n",
      "$12500 - $24999\n",
      "$37500 - $49999\n",
      "$100000 or More\n",
      "$50000 - $62499\n",
      "Less than $12500\n",
      "$87500 - $99999\n",
      "$75000 - $87499\n",
      "$62500 - $74999\n",
      "\n",
      "Current feature: car\n",
      "nan\n",
      "Mazda5\n",
      "Scooter and motorcycle\n",
      "do not drive\n",
      "crossover\n",
      "Car that is too old to install Onstar :D\n",
      "\n",
      "Current feature: Bar\n",
      "never\n",
      "less1\n",
      "1~3\n",
      "4~8\n",
      "gt8\n",
      "\n",
      "Current feature: CoffeeHouse\n",
      "less1\n",
      "1~3\n",
      "never\n",
      "4~8\n",
      "gt8\n",
      "\n",
      "Current feature: CarryAway\n",
      "1~3\n",
      "4~8\n",
      "less1\n",
      "gt8\n",
      "never\n",
      "\n",
      "Current feature: RestaurantLessThan20\n",
      "1~3\n",
      "4~8\n",
      "less1\n",
      "gt8\n",
      "never\n",
      "\n",
      "Current feature: Restaurant20To50\n",
      "less1\n",
      "1~3\n",
      "never\n",
      "4~8\n",
      "gt8\n",
      "\n",
      "Current feature: toCoupon_GEQ5min\n",
      "1\n",
      "\n",
      "Current feature: toCoupon_GEQ15min\n",
      "1\n",
      "0\n",
      "\n",
      "Current feature: toCoupon_GEQ25min\n",
      "0\n",
      "1\n",
      "\n",
      "Current feature: direction_same\n",
      "0\n",
      "1\n",
      "\n",
      "Current feature: direction_opp\n",
      "1\n",
      "0\n",
      "\n",
      "Current feature: Y\n",
      "1\n",
      "0\n",
      "\n",
      "Index(['destination', 'passenger', 'weather', 'time', 'coupon', 'expiration',\n",
      "       'gender', 'age', 'maritalStatus', 'education', 'occupation', 'income',\n",
      "       'car', 'Bar', 'CoffeeHouse', 'CarryAway', 'RestaurantLessThan20',\n",
      "       'Restaurant20To50'],\n",
      "      dtype='object')\n"
     ]
    }
   ],
   "source": [
    "dfOHE = df\n",
    "featuresToBeOHE = df.columns.drop('temperature')\n",
    "\n",
    "for feature in featuresToBeOHE:\n",
    "    print('Current feature: ' + feature)\n",
    "    valueArray = df[feature].value_counts(dropna=False).index\n",
    "    for value in valueArray:\n",
    "        print(value)\n",
    "    print()\n",
    "\n",
    "featuresToBeOHE = featuresToBeOHE.drop(labels=['has_children', 'toCoupon_GEQ5min', 'toCoupon_GEQ15min', 'toCoupon_GEQ25min', 'direction_same', 'direction_opp', 'Y'])\n",
    "print(featuresToBeOHE)"
   ],
   "metadata": {
    "collapsed": false,
    "pycharm": {
     "name": "#%%\n"
    }
   }
  },
  {
   "cell_type": "code",
   "execution_count": 505,
   "outputs": [
    {
     "data": {
      "text/plain": "   temperature  has_children  toCoupon_GEQ5min  toCoupon_GEQ15min  \\\n0           55             1                 1                  0   \n1           80             1                 1                  0   \n2           80             1                 1                  1   \n3           80             1                 1                  1   \n4           80             1                 1                  1   \n\n   toCoupon_GEQ25min  direction_same  direction_opp  destination_IS_Home  \\\n0                  0               0              1                    0   \n1                  0               0              1                    0   \n2                  0               0              1                    0   \n3                  0               0              1                    0   \n4                  0               0              1                    0   \n\n   destination_IS_No Urgent Place  destination_IS_Work  ...  \\\n0                               1                    0  ...   \n1                               1                    0  ...   \n2                               1                    0  ...   \n3                               1                    0  ...   \n4                               1                    0  ...   \n\n   RestaurantLessThan20_IS_4~8  RestaurantLessThan20_IS_gt8  \\\n0                            1                            0   \n1                            1                            0   \n2                            1                            0   \n3                            1                            0   \n4                            1                            0   \n\n   RestaurantLessThan20_IS_less1  RestaurantLessThan20_IS_never  \\\n0                              0                              0   \n1                              0                              0   \n2                              0                              0   \n3                              0                              0   \n4                              0                              0   \n\n   Restaurant20To50_IS_1~3  Restaurant20To50_IS_4~8  Restaurant20To50_IS_gt8  \\\n0                        1                        0                        0   \n1                        1                        0                        0   \n2                        1                        0                        0   \n3                        1                        0                        0   \n4                        1                        0                        0   \n\n   Restaurant20To50_IS_less1  Restaurant20To50_IS_never  Y  \n0                          0                          0  1  \n1                          0                          0  0  \n2                          0                          0  1  \n3                          0                          0  0  \n4                          0                          0  0  \n\n[5 rows x 115 columns]",
      "text/html": "<div>\n<style scoped>\n    .dataframe tbody tr th:only-of-type {\n        vertical-align: middle;\n    }\n\n    .dataframe tbody tr th {\n        vertical-align: top;\n    }\n\n    .dataframe thead th {\n        text-align: right;\n    }\n</style>\n<table border=\"1\" class=\"dataframe\">\n  <thead>\n    <tr style=\"text-align: right;\">\n      <th></th>\n      <th>temperature</th>\n      <th>has_children</th>\n      <th>toCoupon_GEQ5min</th>\n      <th>toCoupon_GEQ15min</th>\n      <th>toCoupon_GEQ25min</th>\n      <th>direction_same</th>\n      <th>direction_opp</th>\n      <th>destination_IS_Home</th>\n      <th>destination_IS_No Urgent Place</th>\n      <th>destination_IS_Work</th>\n      <th>...</th>\n      <th>RestaurantLessThan20_IS_4~8</th>\n      <th>RestaurantLessThan20_IS_gt8</th>\n      <th>RestaurantLessThan20_IS_less1</th>\n      <th>RestaurantLessThan20_IS_never</th>\n      <th>Restaurant20To50_IS_1~3</th>\n      <th>Restaurant20To50_IS_4~8</th>\n      <th>Restaurant20To50_IS_gt8</th>\n      <th>Restaurant20To50_IS_less1</th>\n      <th>Restaurant20To50_IS_never</th>\n      <th>Y</th>\n    </tr>\n  </thead>\n  <tbody>\n    <tr>\n      <th>0</th>\n      <td>55</td>\n      <td>1</td>\n      <td>1</td>\n      <td>0</td>\n      <td>0</td>\n      <td>0</td>\n      <td>1</td>\n      <td>0</td>\n      <td>1</td>\n      <td>0</td>\n      <td>...</td>\n      <td>1</td>\n      <td>0</td>\n      <td>0</td>\n      <td>0</td>\n      <td>1</td>\n      <td>0</td>\n      <td>0</td>\n      <td>0</td>\n      <td>0</td>\n      <td>1</td>\n    </tr>\n    <tr>\n      <th>1</th>\n      <td>80</td>\n      <td>1</td>\n      <td>1</td>\n      <td>0</td>\n      <td>0</td>\n      <td>0</td>\n      <td>1</td>\n      <td>0</td>\n      <td>1</td>\n      <td>0</td>\n      <td>...</td>\n      <td>1</td>\n      <td>0</td>\n      <td>0</td>\n      <td>0</td>\n      <td>1</td>\n      <td>0</td>\n      <td>0</td>\n      <td>0</td>\n      <td>0</td>\n      <td>0</td>\n    </tr>\n    <tr>\n      <th>2</th>\n      <td>80</td>\n      <td>1</td>\n      <td>1</td>\n      <td>1</td>\n      <td>0</td>\n      <td>0</td>\n      <td>1</td>\n      <td>0</td>\n      <td>1</td>\n      <td>0</td>\n      <td>...</td>\n      <td>1</td>\n      <td>0</td>\n      <td>0</td>\n      <td>0</td>\n      <td>1</td>\n      <td>0</td>\n      <td>0</td>\n      <td>0</td>\n      <td>0</td>\n      <td>1</td>\n    </tr>\n    <tr>\n      <th>3</th>\n      <td>80</td>\n      <td>1</td>\n      <td>1</td>\n      <td>1</td>\n      <td>0</td>\n      <td>0</td>\n      <td>1</td>\n      <td>0</td>\n      <td>1</td>\n      <td>0</td>\n      <td>...</td>\n      <td>1</td>\n      <td>0</td>\n      <td>0</td>\n      <td>0</td>\n      <td>1</td>\n      <td>0</td>\n      <td>0</td>\n      <td>0</td>\n      <td>0</td>\n      <td>0</td>\n    </tr>\n    <tr>\n      <th>4</th>\n      <td>80</td>\n      <td>1</td>\n      <td>1</td>\n      <td>1</td>\n      <td>0</td>\n      <td>0</td>\n      <td>1</td>\n      <td>0</td>\n      <td>1</td>\n      <td>0</td>\n      <td>...</td>\n      <td>1</td>\n      <td>0</td>\n      <td>0</td>\n      <td>0</td>\n      <td>1</td>\n      <td>0</td>\n      <td>0</td>\n      <td>0</td>\n      <td>0</td>\n      <td>0</td>\n    </tr>\n  </tbody>\n</table>\n<p>5 rows × 115 columns</p>\n</div>"
     },
     "execution_count": 505,
     "metadata": {},
     "output_type": "execute_result"
    }
   ],
   "source": [
    "dfOHE = pd.get_dummies(dfOHE, prefix_sep='_IS_', columns=featuresToBeOHE, dummy_na=False)\n",
    "buffer = dfOHE.pop('Y')\n",
    "dfOHE['Y'] = buffer\n",
    "dfOHE.head()\n"
   ],
   "metadata": {
    "collapsed": false,
    "pycharm": {
     "name": "#%%\n"
    }
   }
  },
  {
   "cell_type": "markdown",
   "source": [
    "## Train-Test-Split"
   ],
   "metadata": {
    "collapsed": false
   }
  },
  {
   "cell_type": "code",
   "execution_count": 506,
   "outputs": [],
   "source": [
    "df_train, df_test = train_test_split(dfOHE, random_state=257)\n",
    "X_train = df_train.drop(columns=['Y'])\n",
    "y_train = df_train['Y']\n",
    "\n",
    "df_test = df_test.dropna()\n",
    "X_test = df_test.drop(columns=['Y'])\n",
    "y_test = df_test['Y']"
   ],
   "metadata": {
    "collapsed": false,
    "pycharm": {
     "name": "#%%\n"
    }
   }
  },
  {
   "cell_type": "markdown",
   "source": [
    "## Scaling"
   ],
   "metadata": {
    "collapsed": false
   }
  },
  {
   "cell_type": "code",
   "execution_count": 507,
   "outputs": [],
   "source": [
    "scaler = StandardScaler().fit(X_train)\n",
    "X_train_scaled = scaler.transform(X_train)\n",
    "X_test_scaled = scaler.transform(X_test)\n"
   ],
   "metadata": {
    "collapsed": false,
    "pycharm": {
     "name": "#%%\n"
    }
   }
  },
  {
   "cell_type": "markdown",
   "source": [
    "## Prepare Neural Network\n",
    "#### Convert data to tensor"
   ],
   "metadata": {
    "collapsed": false,
    "pycharm": {
     "name": "#%% md\n"
    }
   }
  },
  {
   "cell_type": "code",
   "execution_count": 508,
   "outputs": [
    {
     "data": {
      "text/plain": "torch.Size([9513, 114])"
     },
     "execution_count": 508,
     "metadata": {},
     "output_type": "execute_result"
    }
   ],
   "source": [
    "X_train_tensor = torch.Tensor(X_train_scaled)\n",
    "X_train_tensor.shape"
   ],
   "metadata": {
    "collapsed": false,
    "pycharm": {
     "name": "#%%\n"
    }
   }
  },
  {
   "cell_type": "code",
   "execution_count": 509,
   "outputs": [
    {
     "data": {
      "text/plain": "torch.Size([9513])"
     },
     "execution_count": 509,
     "metadata": {},
     "output_type": "execute_result"
    }
   ],
   "source": [
    "y_train_tensor = torch.Tensor(y_train.values)\n",
    "y_train_tensor.shape"
   ],
   "metadata": {
    "collapsed": false,
    "pycharm": {
     "name": "#%%\n"
    }
   }
  },
  {
   "cell_type": "code",
   "execution_count": 510,
   "outputs": [],
   "source": [
    "#y_train_reshaped = [[1-y, 0+y] for y in y_train.values]\n",
    "#y_train_tensor = torch.Tensor(y_train_reshaped).long()\n",
    "#y_train_tensor"
   ],
   "metadata": {
    "collapsed": false,
    "pycharm": {
     "name": "#%%\n"
    }
   }
  },
  {
   "cell_type": "code",
   "execution_count": 511,
   "outputs": [
    {
     "data": {
      "text/plain": "torch.Size([3171, 114])"
     },
     "execution_count": 511,
     "metadata": {},
     "output_type": "execute_result"
    }
   ],
   "source": [
    "X_test_tensor = torch.Tensor(X_test_scaled)\n",
    "X_test_tensor.shape"
   ],
   "metadata": {
    "collapsed": false,
    "pycharm": {
     "name": "#%%\n"
    }
   }
  },
  {
   "cell_type": "code",
   "execution_count": 512,
   "outputs": [
    {
     "data": {
      "text/plain": "torch.Size([3171])"
     },
     "execution_count": 512,
     "metadata": {},
     "output_type": "execute_result"
    }
   ],
   "source": [
    "y_test_tensor = torch.Tensor(y_test.values)\n",
    "y_test_tensor.shape"
   ],
   "metadata": {
    "collapsed": false,
    "pycharm": {
     "name": "#%%\n"
    }
   }
  },
  {
   "cell_type": "code",
   "execution_count": 513,
   "outputs": [],
   "source": [
    "#y_test_reshaped = [[1-y, 0+y] for y in y_test.values]\n",
    "#y_test_tensor = torch.Tensor(y_test_reshaped).long()\n",
    "#y_test_tensor"
   ],
   "metadata": {
    "collapsed": false,
    "pycharm": {
     "name": "#%%\n"
    }
   }
  },
  {
   "cell_type": "code",
   "execution_count": 514,
   "outputs": [
    {
     "data": {
      "text/plain": "<torch.utils.data.dataset.TensorDataset at 0x22572df0b20>"
     },
     "execution_count": 514,
     "metadata": {},
     "output_type": "execute_result"
    }
   ],
   "source": [
    "training_data = torch.utils.data.TensorDataset(X_train_tensor, y_train_tensor)\n",
    "training_data"
   ],
   "metadata": {
    "collapsed": false,
    "pycharm": {
     "name": "#%%\n"
    }
   }
  },
  {
   "cell_type": "code",
   "execution_count": 515,
   "outputs": [
    {
     "data": {
      "text/plain": "<torch.utils.data.dataset.TensorDataset at 0x22572df0af0>"
     },
     "execution_count": 515,
     "metadata": {},
     "output_type": "execute_result"
    }
   ],
   "source": [
    "test_data = torch.utils.data.TensorDataset(X_test_tensor, y_test_tensor)\n",
    "test_data"
   ],
   "metadata": {
    "collapsed": false,
    "pycharm": {
     "name": "#%%\n"
    }
   }
  },
  {
   "cell_type": "markdown",
   "source": [
    "#### Wrap data in DataLoader\n"
   ],
   "metadata": {
    "collapsed": false
   }
  },
  {
   "cell_type": "code",
   "execution_count": 516,
   "outputs": [
    {
     "name": "stdout",
     "output_type": "stream",
     "text": [
      "batch: 0\n",
      "\n",
      "X shape: torch.Size([64, 114])\n",
      "X: tensor([[-0.4368,  1.1786,  0.0000,  ..., -0.1435,  1.0081, -0.4495],\n",
      "        [-1.7443,  1.1786,  0.0000,  ..., -0.1435, -0.9919, -0.4495],\n",
      "        [-0.4368,  1.1786,  0.0000,  ..., -0.1435,  1.0081, -0.4495],\n",
      "        ...,\n",
      "        [ 0.8707, -0.8485,  0.0000,  ..., -0.1435, -0.9919, -0.4495],\n",
      "        [ 0.8707, -0.8485,  0.0000,  ..., -0.1435, -0.9919,  2.2247],\n",
      "        [-0.4368,  1.1786,  0.0000,  ..., -0.1435,  1.0081, -0.4495]])\n",
      "\n",
      "y shape: torch.Size([64])\n",
      "y: tensor([0., 0., 0., 0., 1., 0., 1., 0., 0., 1., 1., 1., 0., 1., 0., 1., 1., 0.,\n",
      "        1., 1., 1., 0., 1., 1., 0., 1., 0., 0., 0., 1., 0., 0., 0., 0., 1., 0.,\n",
      "        0., 1., 1., 1., 0., 0., 1., 0., 1., 1., 0., 1., 1., 1., 1., 0., 1., 1.,\n",
      "        1., 0., 1., 1., 0., 1., 1., 0., 1., 1.])\n",
      "\n"
     ]
    }
   ],
   "source": [
    "train_dataloader = DataLoader(training_data, batch_size=64, shuffle=True)\n",
    "test_dataloader = DataLoader(test_data, batch_size=64, shuffle=True)\n",
    "\n",
    "for batch, (X, y) in enumerate(train_dataloader):\n",
    "    print(f'batch: {batch}\\n')\n",
    "    print(f'X shape: {X.shape}')\n",
    "    print(f'X: {X}\\n')\n",
    "    print(f'y shape: {y.shape}')\n",
    "    print(f'y: {y}\\n')\n",
    "    break"
   ],
   "metadata": {
    "collapsed": false,
    "pycharm": {
     "name": "#%%\n"
    }
   }
  },
  {
   "cell_type": "markdown",
   "source": [
    "#### Check if Cuda is supported"
   ],
   "metadata": {
    "collapsed": false,
    "pycharm": {
     "name": "#%% md\n"
    }
   }
  },
  {
   "cell_type": "code",
   "execution_count": 517,
   "outputs": [
    {
     "name": "stdout",
     "output_type": "stream",
     "text": [
      "Using cuda device\n"
     ]
    }
   ],
   "source": [
    "device = 'cuda' if torch.cuda.is_available() else 'cpu'\n",
    "print('Using {} device'.format(device))"
   ],
   "metadata": {
    "collapsed": false,
    "pycharm": {
     "name": "#%%\n"
    }
   }
  },
  {
   "cell_type": "markdown",
   "source": [
    "#### Build the NN"
   ],
   "metadata": {
    "collapsed": false
   }
  },
  {
   "cell_type": "code",
   "execution_count": 518,
   "outputs": [
    {
     "name": "stdout",
     "output_type": "stream",
     "text": [
      "NeuralNetwork(\n",
      "  (flatten): Flatten(start_dim=1, end_dim=-1)\n",
      "  (linear_relu_stack): Sequential(\n",
      "    (0): Linear(in_features=114, out_features=114, bias=True)\n",
      "    (1): ReLU()\n",
      "    (2): Linear(in_features=114, out_features=25, bias=True)\n",
      "    (3): ReLU()\n",
      "    (4): Linear(in_features=25, out_features=25, bias=True)\n",
      "    (5): ReLU()\n",
      "    (6): Linear(in_features=25, out_features=1, bias=True)\n",
      "    (7): ReLU()\n",
      "  )\n",
      ")\n"
     ]
    }
   ],
   "source": [
    "class NeuralNetwork(nn.Module):\n",
    "    def __init__(self):\n",
    "        super(NeuralNetwork, self).__init__()\n",
    "        self.flatten = nn.Flatten()\n",
    "        self.linear_relu_stack = nn.Sequential(\n",
    "            nn.Linear(114, 114),\n",
    "            nn.ReLU(),\n",
    "            nn.Linear(114, 25),\n",
    "            nn.ReLU(),\n",
    "            nn.Linear(25, 25),\n",
    "            nn.ReLU(),\n",
    "            nn.Linear(25, 1),\n",
    "            nn.ReLU()\n",
    "        )\n",
    "\n",
    "    def forward(self, x):\n",
    "        x = self.flatten(x)\n",
    "        logits = self.linear_relu_stack(x)\n",
    "        return logits\n",
    "\n",
    "model = NeuralNetwork().to(device)\n",
    "print(model)"
   ],
   "metadata": {
    "collapsed": false,
    "pycharm": {
     "name": "#%%\n"
    }
   }
  },
  {
   "cell_type": "markdown",
   "source": [
    "## Optimizing Model Parameters\n",
    "#### Hyperparameters"
   ],
   "metadata": {
    "collapsed": false
   }
  },
  {
   "cell_type": "code",
   "execution_count": 519,
   "outputs": [],
   "source": [
    "learning_rate = 1e-3\n",
    "batch_size = 64\n",
    "epochs = 5\n",
    "\n",
    "loss_fn = nn.CrossEntropyLoss()\n",
    "\n",
    "optimizer = torch.optim.SGD(model.parameters(), lr=learning_rate)"
   ],
   "metadata": {
    "collapsed": false,
    "pycharm": {
     "name": "#%%\n"
    }
   }
  },
  {
   "cell_type": "markdown",
   "source": [
    "#### Full Implementation"
   ],
   "metadata": {
    "collapsed": false
   }
  },
  {
   "cell_type": "code",
   "execution_count": 520,
   "outputs": [],
   "source": [
    "def train_loop(dataloader, model, loss_fn, optimizer):\n",
    "    size = len(dataloader.dataset)\n",
    "    for batch, (X, y) in enumerate(dataloader):\n",
    "        X, y = X.to(device), y.to(device)\n",
    "\n",
    "        # Compute prediction and loss\n",
    "        pred = model(X)\n",
    "        loss = loss_fn(pred, y)\n",
    "\n",
    "        # Backpropagation\n",
    "        optimizer.zero_grad()\n",
    "        loss.backward()\n",
    "        optimizer.step()\n",
    "        #print('Does this ever work?')\n",
    "\n",
    "        if batch % 100 == 0:\n",
    "            loss, current = loss.item(), batch * len(X)\n",
    "            print(f\"loss: {loss:>7f}  [{current:>5d}/{size:>5d}]\")\n",
    "\n",
    "\n",
    "def test_loop(dataloader, model, loss_fn):\n",
    "    size = len(dataloader.dataset)\n",
    "    test_loss, correct = 0, 0\n",
    "\n",
    "    with torch.no_grad():\n",
    "        for X, y in dataloader:\n",
    "            X, y = X.to(device), y.to(device)\n",
    "            pred = model(X)\n",
    "            test_loss += loss_fn(pred, y).item()\n",
    "            correct += (pred.argmax(1) == y).type(torch.float).sum().item()\n",
    "\n",
    "    test_loss /= size\n",
    "    correct /= size\n",
    "    print(f\"Test Error: \\n Accuracy: {(100*correct):>0.1f}%, Avg loss: {test_loss:>8f} \\n\")"
   ],
   "metadata": {
    "collapsed": false,
    "pycharm": {
     "name": "#%%\n"
    }
   }
  },
  {
   "cell_type": "code",
   "execution_count": 521,
   "outputs": [
    {
     "name": "stdout",
     "output_type": "stream",
     "text": [
      "Epoch 1\n",
      "-------------------------------\n",
      "loss: 0.656250  [    0/ 9513]\n",
      "loss: 0.562500  [ 6400/ 9513]\n",
      "Test Error: \n",
      " Accuracy: 42.8%, Avg loss: 0.009017 \n",
      "\n",
      "Epoch 2\n",
      "-------------------------------\n",
      "loss: 0.484375  [    0/ 9513]\n",
      "loss: 0.546875  [ 6400/ 9513]\n",
      "Test Error: \n",
      " Accuracy: 42.8%, Avg loss: 0.009029 \n",
      "\n",
      "Epoch 3\n",
      "-------------------------------\n",
      "loss: 0.656250  [    0/ 9513]\n",
      "loss: 0.671875  [ 6400/ 9513]\n",
      "Test Error: \n",
      " Accuracy: 42.8%, Avg loss: 0.009029 \n",
      "\n",
      "Epoch 4\n",
      "-------------------------------\n",
      "loss: 0.578125  [    0/ 9513]\n",
      "loss: 0.562500  [ 6400/ 9513]\n",
      "Test Error: \n",
      " Accuracy: 42.8%, Avg loss: 0.009013 \n",
      "\n",
      "Epoch 5\n",
      "-------------------------------\n",
      "loss: 0.656250  [    0/ 9513]\n",
      "loss: 0.609375  [ 6400/ 9513]\n",
      "Test Error: \n",
      " Accuracy: 42.8%, Avg loss: 0.009033 \n",
      "\n",
      "Epoch 6\n",
      "-------------------------------\n",
      "loss: 0.468750  [    0/ 9513]\n",
      "loss: 0.500000  [ 6400/ 9513]\n",
      "Test Error: \n",
      " Accuracy: 42.8%, Avg loss: 0.009009 \n",
      "\n",
      "Epoch 7\n",
      "-------------------------------\n",
      "loss: 0.515625  [    0/ 9513]\n",
      "loss: 0.609375  [ 6400/ 9513]\n",
      "Test Error: \n",
      " Accuracy: 42.8%, Avg loss: 0.009025 \n",
      "\n",
      "Epoch 8\n",
      "-------------------------------\n",
      "loss: 0.531250  [    0/ 9513]\n",
      "loss: 0.515625  [ 6400/ 9513]\n",
      "Test Error: \n",
      " Accuracy: 42.8%, Avg loss: 0.009033 \n",
      "\n",
      "Epoch 9\n",
      "-------------------------------\n",
      "loss: 0.562500  [    0/ 9513]\n",
      "loss: 0.515625  [ 6400/ 9513]\n",
      "Test Error: \n",
      " Accuracy: 42.8%, Avg loss: 0.009033 \n",
      "\n",
      "Epoch 10\n",
      "-------------------------------\n",
      "loss: 0.625000  [    0/ 9513]\n",
      "loss: 0.640625  [ 6400/ 9513]\n",
      "Test Error: \n",
      " Accuracy: 42.8%, Avg loss: 0.009021 \n",
      "\n",
      "Done!\n"
     ]
    },
    {
     "name": "stderr",
     "output_type": "stream",
     "text": [
      "C:\\Users\\Illuminatus\\anaconda3\\envs\\untitled\\lib\\site-packages\\torch\\nn\\modules\\loss.py:528: UserWarning: Using a target size (torch.Size([64])) that is different to the input size (torch.Size([64, 1])). This will likely lead to incorrect results due to broadcasting. Please ensure they have the same size.\n",
      "  return F.mse_loss(input, target, reduction=self.reduction)\n",
      "C:\\Users\\Illuminatus\\anaconda3\\envs\\untitled\\lib\\site-packages\\torch\\nn\\modules\\loss.py:528: UserWarning: Using a target size (torch.Size([41])) that is different to the input size (torch.Size([41, 1])). This will likely lead to incorrect results due to broadcasting. Please ensure they have the same size.\n",
      "  return F.mse_loss(input, target, reduction=self.reduction)\n",
      "C:\\Users\\Illuminatus\\anaconda3\\envs\\untitled\\lib\\site-packages\\torch\\nn\\modules\\loss.py:528: UserWarning: Using a target size (torch.Size([35])) that is different to the input size (torch.Size([35, 1])). This will likely lead to incorrect results due to broadcasting. Please ensure they have the same size.\n",
      "  return F.mse_loss(input, target, reduction=self.reduction)\n"
     ]
    }
   ],
   "source": [
    "loss_fn = nn.MSELoss()\n",
    "optimizer = torch.optim.SGD(model.parameters(), lr=learning_rate)\n",
    "\n",
    "epochs = 10\n",
    "for t in range(epochs):\n",
    "    print(f\"Epoch {t+1}\\n-------------------------------\")\n",
    "    train_loop(train_dataloader, model, loss_fn, optimizer)\n",
    "    test_loop(test_dataloader, model, loss_fn)\n",
    "print(\"Done!\")\n"
   ],
   "metadata": {
    "collapsed": false,
    "pycharm": {
     "name": "#%%\n"
    }
   }
  }
 ],
 "metadata": {
  "kernelspec": {
   "display_name": "Python 3",
   "language": "python",
   "name": "python3"
  },
  "language_info": {
   "codemirror_mode": {
    "name": "ipython",
    "version": 2
   },
   "file_extension": ".py",
   "mimetype": "text/x-python",
   "name": "python",
   "nbconvert_exporter": "python",
   "pygments_lexer": "ipython2",
   "version": "2.7.6"
  }
 },
 "nbformat": 4,
 "nbformat_minor": 0
}